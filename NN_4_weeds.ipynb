{
  "cells": [
    {
      "cell_type": "markdown",
      "metadata": {
        "id": "view-in-github",
        "colab_type": "text"
      },
      "source": [
        "<a href=\"https://colab.research.google.com/github/fallenmorningstar/PandasLearningFMS/blob/master/NN_4_weeds.ipynb\" target=\"_parent\"><img src=\"https://colab.research.google.com/assets/colab-badge.svg\" alt=\"Open In Colab\"/></a>"
      ]
    },
    {
      "cell_type": "markdown",
      "source": [
        "<footer id=\"footer\"></footer>"
      ],
      "metadata": {
        "id": "uSc-nbmU2myG"
      }
    },
    {
      "cell_type": "code",
      "source": [
        "# from google.colab import drive\n",
        "# drive.mount('/content/drive')"
      ],
      "metadata": {
        "id": "9abdozHt0Hip"
      },
      "execution_count": null,
      "outputs": []
    },
    {
      "cell_type": "markdown",
      "source": [
        "<h1 align='center'>Классификация изображений с pyTorch Lightning </h1>"
      ],
      "metadata": {
        "id": "uUg9HXFi2VY_"
      }
    },
    {
      "cell_type": "markdown",
      "metadata": {
        "id": "rSc9pRmYRc7I"
      },
      "source": [
        "## Загрузка данных c Kaggle\n",
        "\n"
      ]
    },
    {
      "cell_type": "markdown",
      "source": [
        "[Weather dataset](https://www.kaggle.com/datasets/jehanbhathena/weather-dataset) - ссылка на датасет  \n",
        "[API-kaggle](https://www.kaggle.com/docs/api) - дополнительная информация об API"
      ],
      "metadata": {
        "id": "2FixOF_n3Cno"
      }
    },
    {
      "cell_type": "code",
      "source": [
        "# установка API\n",
        "!pip install -q kaggle"
      ],
      "metadata": {
        "id": "6usIOfTLFToN"
      },
      "execution_count": null,
      "outputs": []
    },
    {
      "cell_type": "code",
      "source": [
        "# модный widget загрузки\n",
        "from google.colab import files"
      ],
      "metadata": {
        "id": "PuOX35HEGRgi"
      },
      "execution_count": null,
      "outputs": []
    },
    {
      "cell_type": "code",
      "source": [
        "files.upload()"
      ],
      "metadata": {
        "id": "R5x-ruF3GVBY",
        "colab": {
          "base_uri": "https://localhost:8080/",
          "height": 91
        },
        "outputId": "e7957c39-5024-4322-e6d3-cf1cbf738aeb"
      },
      "execution_count": null,
      "outputs": [
        {
          "output_type": "display_data",
          "data": {
            "text/plain": [
              "<IPython.core.display.HTML object>"
            ],
            "text/html": [
              "\n",
              "     <input type=\"file\" id=\"files-01ecdd52-8d12-4062-ace6-97215d333a25\" name=\"files[]\" multiple disabled\n",
              "        style=\"border:none\" />\n",
              "     <output id=\"result-01ecdd52-8d12-4062-ace6-97215d333a25\">\n",
              "      Upload widget is only available when the cell has been executed in the\n",
              "      current browser session. Please rerun this cell to enable.\n",
              "      </output>\n",
              "      <script>// Copyright 2017 Google LLC\n",
              "//\n",
              "// Licensed under the Apache License, Version 2.0 (the \"License\");\n",
              "// you may not use this file except in compliance with the License.\n",
              "// You may obtain a copy of the License at\n",
              "//\n",
              "//      http://www.apache.org/licenses/LICENSE-2.0\n",
              "//\n",
              "// Unless required by applicable law or agreed to in writing, software\n",
              "// distributed under the License is distributed on an \"AS IS\" BASIS,\n",
              "// WITHOUT WARRANTIES OR CONDITIONS OF ANY KIND, either express or implied.\n",
              "// See the License for the specific language governing permissions and\n",
              "// limitations under the License.\n",
              "\n",
              "/**\n",
              " * @fileoverview Helpers for google.colab Python module.\n",
              " */\n",
              "(function(scope) {\n",
              "function span(text, styleAttributes = {}) {\n",
              "  const element = document.createElement('span');\n",
              "  element.textContent = text;\n",
              "  for (const key of Object.keys(styleAttributes)) {\n",
              "    element.style[key] = styleAttributes[key];\n",
              "  }\n",
              "  return element;\n",
              "}\n",
              "\n",
              "// Max number of bytes which will be uploaded at a time.\n",
              "const MAX_PAYLOAD_SIZE = 100 * 1024;\n",
              "\n",
              "function _uploadFiles(inputId, outputId) {\n",
              "  const steps = uploadFilesStep(inputId, outputId);\n",
              "  const outputElement = document.getElementById(outputId);\n",
              "  // Cache steps on the outputElement to make it available for the next call\n",
              "  // to uploadFilesContinue from Python.\n",
              "  outputElement.steps = steps;\n",
              "\n",
              "  return _uploadFilesContinue(outputId);\n",
              "}\n",
              "\n",
              "// This is roughly an async generator (not supported in the browser yet),\n",
              "// where there are multiple asynchronous steps and the Python side is going\n",
              "// to poll for completion of each step.\n",
              "// This uses a Promise to block the python side on completion of each step,\n",
              "// then passes the result of the previous step as the input to the next step.\n",
              "function _uploadFilesContinue(outputId) {\n",
              "  const outputElement = document.getElementById(outputId);\n",
              "  const steps = outputElement.steps;\n",
              "\n",
              "  const next = steps.next(outputElement.lastPromiseValue);\n",
              "  return Promise.resolve(next.value.promise).then((value) => {\n",
              "    // Cache the last promise value to make it available to the next\n",
              "    // step of the generator.\n",
              "    outputElement.lastPromiseValue = value;\n",
              "    return next.value.response;\n",
              "  });\n",
              "}\n",
              "\n",
              "/**\n",
              " * Generator function which is called between each async step of the upload\n",
              " * process.\n",
              " * @param {string} inputId Element ID of the input file picker element.\n",
              " * @param {string} outputId Element ID of the output display.\n",
              " * @return {!Iterable<!Object>} Iterable of next steps.\n",
              " */\n",
              "function* uploadFilesStep(inputId, outputId) {\n",
              "  const inputElement = document.getElementById(inputId);\n",
              "  inputElement.disabled = false;\n",
              "\n",
              "  const outputElement = document.getElementById(outputId);\n",
              "  outputElement.innerHTML = '';\n",
              "\n",
              "  const pickedPromise = new Promise((resolve) => {\n",
              "    inputElement.addEventListener('change', (e) => {\n",
              "      resolve(e.target.files);\n",
              "    });\n",
              "  });\n",
              "\n",
              "  const cancel = document.createElement('button');\n",
              "  inputElement.parentElement.appendChild(cancel);\n",
              "  cancel.textContent = 'Cancel upload';\n",
              "  const cancelPromise = new Promise((resolve) => {\n",
              "    cancel.onclick = () => {\n",
              "      resolve(null);\n",
              "    };\n",
              "  });\n",
              "\n",
              "  // Wait for the user to pick the files.\n",
              "  const files = yield {\n",
              "    promise: Promise.race([pickedPromise, cancelPromise]),\n",
              "    response: {\n",
              "      action: 'starting',\n",
              "    }\n",
              "  };\n",
              "\n",
              "  cancel.remove();\n",
              "\n",
              "  // Disable the input element since further picks are not allowed.\n",
              "  inputElement.disabled = true;\n",
              "\n",
              "  if (!files) {\n",
              "    return {\n",
              "      response: {\n",
              "        action: 'complete',\n",
              "      }\n",
              "    };\n",
              "  }\n",
              "\n",
              "  for (const file of files) {\n",
              "    const li = document.createElement('li');\n",
              "    li.append(span(file.name, {fontWeight: 'bold'}));\n",
              "    li.append(span(\n",
              "        `(${file.type || 'n/a'}) - ${file.size} bytes, ` +\n",
              "        `last modified: ${\n",
              "            file.lastModifiedDate ? file.lastModifiedDate.toLocaleDateString() :\n",
              "                                    'n/a'} - `));\n",
              "    const percent = span('0% done');\n",
              "    li.appendChild(percent);\n",
              "\n",
              "    outputElement.appendChild(li);\n",
              "\n",
              "    const fileDataPromise = new Promise((resolve) => {\n",
              "      const reader = new FileReader();\n",
              "      reader.onload = (e) => {\n",
              "        resolve(e.target.result);\n",
              "      };\n",
              "      reader.readAsArrayBuffer(file);\n",
              "    });\n",
              "    // Wait for the data to be ready.\n",
              "    let fileData = yield {\n",
              "      promise: fileDataPromise,\n",
              "      response: {\n",
              "        action: 'continue',\n",
              "      }\n",
              "    };\n",
              "\n",
              "    // Use a chunked sending to avoid message size limits. See b/62115660.\n",
              "    let position = 0;\n",
              "    do {\n",
              "      const length = Math.min(fileData.byteLength - position, MAX_PAYLOAD_SIZE);\n",
              "      const chunk = new Uint8Array(fileData, position, length);\n",
              "      position += length;\n",
              "\n",
              "      const base64 = btoa(String.fromCharCode.apply(null, chunk));\n",
              "      yield {\n",
              "        response: {\n",
              "          action: 'append',\n",
              "          file: file.name,\n",
              "          data: base64,\n",
              "        },\n",
              "      };\n",
              "\n",
              "      let percentDone = fileData.byteLength === 0 ?\n",
              "          100 :\n",
              "          Math.round((position / fileData.byteLength) * 100);\n",
              "      percent.textContent = `${percentDone}% done`;\n",
              "\n",
              "    } while (position < fileData.byteLength);\n",
              "  }\n",
              "\n",
              "  // All done.\n",
              "  yield {\n",
              "    response: {\n",
              "      action: 'complete',\n",
              "    }\n",
              "  };\n",
              "}\n",
              "\n",
              "scope.google = scope.google || {};\n",
              "scope.google.colab = scope.google.colab || {};\n",
              "scope.google.colab._files = {\n",
              "  _uploadFiles,\n",
              "  _uploadFilesContinue,\n",
              "};\n",
              "})(self);\n",
              "</script> "
            ]
          },
          "metadata": {}
        },
        {
          "output_type": "stream",
          "name": "stdout",
          "text": [
            "Saving kaggle.json to kaggle.json\n"
          ]
        },
        {
          "output_type": "execute_result",
          "data": {
            "text/plain": [
              "{'kaggle.json': b'{\"username\":\"bogdanovnikolay\",\"key\":\"24f0f1fd5d0e605609e99913b8f6a199\"}'}"
            ]
          },
          "metadata": {},
          "execution_count": 4
        }
      ]
    },
    {
      "cell_type": "markdown",
      "source": [
        "[chmod-калькулятор](https://chmod-calculator.com/)"
      ],
      "metadata": {
        "id": "gzHpyKbR5rRg"
      }
    },
    {
      "cell_type": "code",
      "source": [
        "# создаем директорию kaggle и копируем файл в нее, \n",
        "# добавляя разрешение на запись и чтение\n",
        "!mkdir ~/.kaggle\n",
        "!cp kaggle.json ~/.kaggle\n",
        "!chmod 600 ~/.kaggle/kaggle.json"
      ],
      "metadata": {
        "id": "UhyeAgdbFXTv"
      },
      "execution_count": null,
      "outputs": []
    },
    {
      "cell_type": "code",
      "source": [
        "# список датасетов\n",
        "!kaggle datasets list"
      ],
      "metadata": {
        "id": "dq8F-WWTFXQ8",
        "colab": {
          "base_uri": "https://localhost:8080/"
        },
        "outputId": "29029ccf-4ffb-4fcd-d4a5-d9c888177ded"
      },
      "execution_count": null,
      "outputs": [
        {
          "output_type": "stream",
          "name": "stdout",
          "text": [
            "ref                                                        title                                       size  lastUpdated          downloadCount  voteCount  usabilityRating  \n",
            "---------------------------------------------------------  -----------------------------------------  -----  -------------------  -------------  ---------  ---------------  \n",
            "themrityunjaypathak/covid-cases-and-deaths-worldwide       Covid Cases and Deaths WorldWide             8KB  2023-02-01 12:22:51           5110        148  1.0              \n",
            "datascientistanna/customers-dataset                        Shop Customer Data                          23KB  2023-02-07 18:42:21           3825         99  1.0              \n",
            "rajugc/imdb-top-250-movies-dataset                         IMDB Top 250 Movies Dataset                 52KB  2023-02-11 16:02:01           1642         49  1.0              \n",
            "ahsan81/hotel-reservations-classification-dataset          Hotel Reservations Dataset                 480KB  2023-01-04 12:50:31          13488        411  1.0              \n",
            "adityamishraml/nasaexoplanets                              NASA Exoplanets                            114KB  2023-02-15 18:12:58            633         29  1.0              \n",
            "georgejnr/used-and-new-cars-datasets                       Used and New Cars Datasets                   2MB  2023-02-09 12:37:06           1191         37  0.88235295       \n",
            "mattop/nutrition-physical-activity-and-obesity             Nutrition, Physical Activity, and Obesity    3MB  2023-02-12 15:24:33           1264         38  1.0              \n",
            "karkavelrajaj/amazon-sales-dataset                         Amazon Sales Dataset                         2MB  2023-01-17 06:21:15           6481        111  1.0              \n",
            "thedevastator/domestic-food-prices-after-covid-19          Domestic Food Prices After COVID-19          1MB  2023-02-13 01:45:15           1247         35  0.9411765        \n",
            "themrityunjaypathak/most-subscribed-1000-youtube-channels  Most Subscribed 1000 Youtube Channels       28KB  2023-01-21 14:42:05           4690        125  1.0              \n",
            "googleai/musiccaps                                         MusicCaps                                  793KB  2023-01-25 09:25:48           3258        265  0.9411765        \n",
            "anas123siddiqui/laptops                                    Laptops                                     44KB  2023-02-05 18:11:41           1935         50  1.0              \n",
            "ulrikthygepedersen/airlines-delay                          Airlines Delay                               6MB  2023-02-01 13:49:34           1139         29  1.0              \n",
            "anas123siddiqui/happiness-index-data                       Happiness Index data                         5KB  2023-02-13 16:17:17            699         32  1.0              \n",
            "antonkozyriev/game-recommendations-on-steam                Game Recommendations on Steam              112MB  2023-02-17 20:52:42            827         30  1.0              \n",
            "ulrikthygepedersen/speed-dating                            Speed Dating                               434KB  2023-02-10 08:58:51            525         29  1.0              \n",
            "thedevastator/high-tech-companies-on-nasdaq                High-Tech Companies on NASDAQ              383KB  2023-02-11 12:09:00            470         29  0.9411765        \n",
            "thedevastator/employee-attrition-and-factors               Employee Attrition and Factors              50KB  2023-02-11 04:31:57            872         33  1.0              \n",
            "tusharsingh1411/formula1-data-1950-2022                    🏎️ Formula1_GrandPrix_dataset               47KB  2023-02-09 20:18:07            541         31  1.0              \n",
            "slider2k/interest-rate                                      Interest Rate of Banks                      7KB  2023-02-08 11:38:08            560         27  0.9411765        \n"
          ]
        }
      ]
    },
    {
      "cell_type": "markdown",
      "source": [
        "```python\n",
        "https://www.kaggle.com/datasets/jehanbhathena/weather-dataset\n",
        "\n",
        "```"
      ],
      "metadata": {
        "id": "N_00nBbaEswT"
      }
    },
    {
      "cell_type": "code",
      "source": [
        "# список датасетов с ключевым словом поиска\n",
        "!kaggle datasets list -s \"weed-types\""
      ],
      "metadata": {
        "id": "jFW64YHyG7bj",
        "colab": {
          "base_uri": "https://localhost:8080/"
        },
        "outputId": "8f334daf-5ccf-4b8a-c50b-da3f4d9f07e5"
      },
      "execution_count": null,
      "outputs": [
        {
          "output_type": "stream",
          "name": "stdout",
          "text": [
            "ref                                                             title                                              size  lastUpdated          downloadCount  voteCount  usabilityRating  \n",
            "--------------------------------------------------------------  ------------------------------------------------  -----  -------------------  -------------  ---------  ---------------  \n",
            "bogdanovnikolay/weed-types                                      weed types                                         13GB  2023-02-21 04:03:32             11          1  0.1875           \n",
            "ravirajsinh45/crop-and-weed-detection-data-with-bounding-boxes  crop and weed detection data with bounding boxes   79MB  2020-04-06 10:06:46           4606         76  0.9375           \n",
            "thedevastator/weed-plant-taxonomy-in-france-and-uk              Weeds In Cultivation Fields                        46KB  2023-01-31 08:10:44            260         17  0.9411765        \n",
            "vvatsalggupta/weed-detection                                    Weed Detection                                    367MB  2021-02-24 17:18:54            277          6  0.5625           \n",
            "devingator/weed-images                                          Weed Dataset                                      109MB  2022-10-27 07:42:13             13          0  0.5              \n",
            "theweed/global-personal-waste-produce-annually                  Global Personal Waste Produce Annually              8KB  2021-06-10 11:30:45             86          1  0.6875           \n"
          ]
        }
      ]
    },
    {
      "cell_type": "code",
      "source": [],
      "metadata": {
        "id": "J2YwCLb8Ksck"
      },
      "execution_count": null,
      "outputs": []
    },
    {
      "cell_type": "code",
      "source": [
        "# скачиваем сет\n",
        "!kaggle datasets download -d \"bogdanovnikolay/weed-types\""
      ],
      "metadata": {
        "id": "5PW64wawHDM2",
        "colab": {
          "base_uri": "https://localhost:8080/"
        },
        "outputId": "1bc12b92-e1fb-4d34-ea02-85e80151bb42"
      },
      "execution_count": null,
      "outputs": [
        {
          "output_type": "stream",
          "name": "stdout",
          "text": [
            "Downloading weed-types.zip to /content\n",
            "100% 13.3G/13.3G [11:36<00:00, 23.8MB/s]\n",
            "100% 13.3G/13.3G [11:36<00:00, 20.6MB/s]\n"
          ]
        }
      ]
    },
    {
      "cell_type": "code",
      "source": [
        "%%capture\n",
        "# распаковка сета\n",
        "!unzip weed-types.zip"
      ],
      "metadata": {
        "id": "IfqG0FuhHJqS"
      },
      "execution_count": null,
      "outputs": []
    },
    {
      "cell_type": "code",
      "source": [
        "# удаляем лишнее\n",
        "!rm weed-types.zip"
      ],
      "metadata": {
        "id": "zjGPfOOXHZP-"
      },
      "execution_count": null,
      "outputs": []
    },
    {
      "cell_type": "code",
      "source": [
        "!mv -i dataset2/* dataset\n",
        "!mv -i dataset3/* dataset"
      ],
      "metadata": {
        "id": "Otcj2-nPVwtW"
      },
      "execution_count": null,
      "outputs": []
    },
    {
      "cell_type": "markdown",
      "source": [
        "<div style=\"float:left;margin:0 10px 10px 0\" markdown=\"1\">\n",
        "    <a href=\"#footer\"><img src='https://img.shields.io/badge/Наверх-&#x21A9-blue'></a>\n",
        "</div>\n",
        "\n",
        "___\n"
      ],
      "metadata": {
        "id": "N09rGLzd6B-4"
      }
    },
    {
      "cell_type": "markdown",
      "metadata": {
        "id": "zL64IIY3RjxP"
      },
      "source": [
        "## Подготовка\n",
        "\n"
      ]
    },
    {
      "cell_type": "markdown",
      "source": [
        "[ImageFolder](https://pytorch.org/vision/stable/generated/torchvision.datasets.ImageFolder.html) - пример сета с изображениями, оффициальная документация `pyTorch`  \n",
        "[Аугментации pyTorch](https://pytorch.org/vision/stable/transforms.html) - список аугментаций `pyTorch`  \n",
        "[ImageNet](https://paperswithcode.com/dataset/imagenet) - описание сета `ImageNet` и [тут](https://www.image-net.org/about.php)   \n",
        "[EfficientNet](https://github.com/lukemelas/EfficientNet-PyTorch) - ссылка на репозиторий с семейством EfficientNet"
      ],
      "metadata": {
        "id": "-fK0w-Lxb4ab"
      }
    },
    {
      "cell_type": "code",
      "source": [
        "!pip install -q split-folders pytorch_lightning efficientnet_pytorch"
      ],
      "metadata": {
        "id": "rmy2dc5bbLgj",
        "colab": {
          "base_uri": "https://localhost:8080/"
        },
        "outputId": "4baf0549-5cb0-4808-9fa5-19229e2c6c9c"
      },
      "execution_count": null,
      "outputs": [
        {
          "output_type": "stream",
          "name": "stdout",
          "text": [
            "\u001b[?25l     \u001b[90m━━━━━━━━━━━━━━━━━━━━━━━━━━━━━━━━━━━━━━━━\u001b[0m \u001b[32m0.0/826.4 KB\u001b[0m \u001b[31m?\u001b[0m eta \u001b[36m-:--:--\u001b[0m\r\u001b[2K     \u001b[90m━━━━━━━━━━━━━━━━━━━━━━━━━━━━━━━━━━━━━━\u001b[0m \u001b[32m826.4/826.4 KB\u001b[0m \u001b[31m43.5 MB/s\u001b[0m eta \u001b[36m0:00:00\u001b[0m\n",
            "\u001b[?25h  Preparing metadata (setup.py) ... \u001b[?25l\u001b[?25hdone\n",
            "\u001b[2K     \u001b[90m━━━━━━━━━━━━━━━━━━━━━━━━━━━━━━━━━━━━━━\u001b[0m \u001b[32m517.2/517.2 KB\u001b[0m \u001b[31m46.3 MB/s\u001b[0m eta \u001b[36m0:00:00\u001b[0m\n",
            "\u001b[?25h  Building wheel for efficientnet_pytorch (setup.py) ... \u001b[?25l\u001b[?25hdone\n"
          ]
        }
      ]
    },
    {
      "cell_type": "code",
      "execution_count": null,
      "metadata": {
        "id": "1NUbUGGIRH_E",
        "colab": {
          "base_uri": "https://localhost:8080/"
        },
        "outputId": "17d0ce5b-a304-49d2-ba6c-90236eba016d"
      },
      "outputs": [
        {
          "output_type": "stream",
          "name": "stderr",
          "text": [
            "INFO:lightning_fabric.utilities.seed:Global seed set to 42\n"
          ]
        }
      ],
      "source": [
        "# библиотеки для работы с изображениями\n",
        "import cv2\n",
        "from PIL import Image\n",
        "import numpy as np\n",
        "# библиотека для работы с путями\n",
        "from pathlib import Path\n",
        "# вспомогательные\n",
        "import matplotlib.pyplot as plt\n",
        "import os\n",
        "os.environ['CUDA_LAUNCH_BLOCKING'] = \"1\"\n",
        "\n",
        "\n",
        "# для работы\n",
        "import torch\n",
        "import torch.nn as nn\n",
        "import torch.nn.functional as F\n",
        "import splitfolders\n",
        "from torchvision import transforms\n",
        "from torchvision.datasets import ImageFolder\n",
        "from torch.utils.data import DataLoader\n",
        "import pytorch_lightning as pl\n",
        "from torchmetrics import Accuracy\n",
        "from efficientnet_pytorch import EfficientNet\n",
        "\n",
        "\n",
        "# автоматическое логивароение результатов\n",
        "from pytorch_lightning.loggers import TensorBoardLogger\n",
        "# сохранение весов\n",
        "from pytorch_lightning.callbacks.model_checkpoint import ModelCheckpoint\n",
        "# автоматическое отслеживание lr\n",
        "from pytorch_lightning.callbacks import LearningRateMonitor\n",
        "# ранние остановки\n",
        "from pytorch_lightning.callbacks.early_stopping import EarlyStopping\n",
        "\n",
        "# дополнительные импорты\n",
        "from tqdm.autonotebook import tqdm\n",
        "from sklearn.metrics import classification_report\n",
        "import warnings\n",
        "\n",
        "\n",
        "# сахар опционально :\n",
        "SEED = 42\n",
        "pl.seed_everything(SEED)\n",
        "plt.style.use('dark_background')\n",
        "warnings.filterwarnings(\"ignore\")"
      ]
    },
    {
      "cell_type": "code",
      "source": [
        "DATASET = Path(\"/content/dataset\")"
      ],
      "metadata": {
        "id": "b5Tp8yY_govq"
      },
      "execution_count": null,
      "outputs": []
    },
    {
      "cell_type": "code",
      "source": [
        "# пробегаем по директории с картинками и добавляем в список\n",
        "images = [p.resolve() for p in DATASET.glob(\"**/*\") if p.suffix in {\".png\", \".jpg\", \".jpeg\"}]"
      ],
      "metadata": {
        "id": "WSoJY3d8MZFw"
      },
      "execution_count": null,
      "outputs": []
    },
    {
      "cell_type": "code",
      "source": [
        "images[:3]"
      ],
      "metadata": {
        "id": "MTbql-IZMqxy",
        "colab": {
          "base_uri": "https://localhost:8080/"
        },
        "outputId": "359089ac-165d-4d8b-c733-4a95db9fe708"
      },
      "execution_count": null,
      "outputs": [
        {
          "output_type": "execute_result",
          "data": {
            "text/plain": [
              "[PosixPath('/content/dataset/China_klubnenosnaya/1a304322-819f-679f-0772-eb1339a10aab.jpg'),\n",
              " PosixPath('/content/dataset/China_klubnenosnaya/747344f2-85c9-87d9-16c3-cef6381078ba.jpg'),\n",
              " PosixPath('/content/dataset/China_klubnenosnaya/da3144c8-fcf4-6536-1406-36117d09b9a1.jpg')]"
            ]
          },
          "metadata": {},
          "execution_count": 16
        }
      ]
    },
    {
      "cell_type": "code",
      "source": [
        "len(images)"
      ],
      "metadata": {
        "id": "tEoer2iIMtMk",
        "colab": {
          "base_uri": "https://localhost:8080/"
        },
        "outputId": "4c32d3a6-a298-4c42-8c4e-75f93581ab58"
      },
      "execution_count": null,
      "outputs": [
        {
          "output_type": "execute_result",
          "data": {
            "text/plain": [
              "5148"
            ]
          },
          "metadata": {},
          "execution_count": 17
        }
      ]
    },
    {
      "cell_type": "code",
      "source": [
        "sample_idx = np.random.randint(len(images))"
      ],
      "metadata": {
        "id": "tFuIcsu0Mvcn"
      },
      "execution_count": null,
      "outputs": []
    },
    {
      "cell_type": "code",
      "source": [
        "sample_idx"
      ],
      "metadata": {
        "id": "HPniwiadM6Cc",
        "colab": {
          "base_uri": "https://localhost:8080/"
        },
        "outputId": "040bcf08-a8ac-4764-f64d-63e55c17e273"
      },
      "execution_count": null,
      "outputs": [
        {
          "output_type": "execute_result",
          "data": {
            "text/plain": [
              "860"
            ]
          },
          "metadata": {},
          "execution_count": 19
        }
      ]
    },
    {
      "cell_type": "code",
      "source": [
        "img = Image.open(images[sample_idx]) # RGB!\n",
        "plt.imshow(img)\n",
        "plt.axis(\"off\")\n",
        "plt.show()"
      ],
      "metadata": {
        "id": "jHSqx8wQM656",
        "colab": {
          "base_uri": "https://localhost:8080/",
          "height": 248
        },
        "outputId": "973cfba8-a702-4902-eb97-da0f4aa4ae92"
      },
      "execution_count": null,
      "outputs": [
        {
          "output_type": "display_data",
          "data": {
            "text/plain": [
              "<Figure size 432x288 with 1 Axes>"
            ],
            "image/png": "[encoded data removed]"
          },
          "metadata": {}
        }
      ]
    },
    {
      "cell_type": "code",
      "source": [
        "# img = cv2.imread(str(images[sample_idx])) # BGR!\n",
        "# plt.imshow(img[...,::-1]) # BGR -> RGB\n",
        "# plt.axis(\"off\")\n",
        "# plt.show()"
      ],
      "metadata": {
        "id": "OQ7i2S5yNGbl"
      },
      "execution_count": null,
      "outputs": []
    },
    {
      "cell_type": "markdown",
      "metadata": {
        "id": "aruigiNFgY2L"
      },
      "source": [
        "# Разбивка сета с изображениями"
      ]
    },
    {
      "cell_type": "code",
      "source": [
        "splitfolders.ratio(\n",
        "                    \"/content/dataset\",\n",
        "                    output=\"weed_split\",\n",
        "                    seed=42,\n",
        "                    ratio=(.8, .1, .1),\n",
        "                    group_prefix=None,\n",
        "                    move=False\n",
        ")"
      ],
      "metadata": {
        "id": "kbA42IJggqV3",
        "colab": {
          "base_uri": "https://localhost:8080/"
        },
        "outputId": "afaa2201-9bae-4cf7-eb56-4838af334b51"
      },
      "execution_count": null,
      "outputs": [
        {
          "output_type": "stream",
          "name": "stderr",
          "text": [
            "Copying files: 5148 files [01:30, 56.60 files/s]\n"
          ]
        }
      ]
    },
    {
      "cell_type": "code",
      "source": [
        "images = [p.resolve() for p in Path(\"/content/weed_split\").glob(\"**/*\") if p.suffix in {\".png\", \".jpg\", \".jpeg\"}]\n",
        "len(images)"
      ],
      "metadata": {
        "id": "tKTg69zsPY1V",
        "colab": {
          "base_uri": "https://localhost:8080/"
        },
        "outputId": "c6343561-5635-4987-f642-8086dae5fc0b"
      },
      "execution_count": null,
      "outputs": [
        {
          "output_type": "execute_result",
          "data": {
            "text/plain": [
              "5148"
            ]
          },
          "metadata": {},
          "execution_count": 23
        }
      ]
    },
    {
      "cell_type": "markdown",
      "source": [
        "<div style=\"float:left;margin:0 10px 10px 0\" markdown=\"1\">\n",
        "    <a href=\"#footer\"><img src='https://img.shields.io/badge/Наверх-&#x21A9-blue'></a>\n",
        "</div>\n",
        "\n",
        "___\n"
      ],
      "metadata": {
        "id": "bzH7ulUA7olQ"
      }
    },
    {
      "cell_type": "markdown",
      "metadata": {
        "id": "OnmUU0t_fqE8"
      },
      "source": [
        "# Datamodule для загрузки данных"
      ]
    },
    {
      "cell_type": "code",
      "source": [
        "class ImgDataModule(pl.LightningDataModule):\n",
        "  def __init__(self, \n",
        "               batch_size = 1,\n",
        "               train_transform=None,\n",
        "               val_transform=None,\n",
        "               img_root = 'weed_split'\n",
        "               ):\n",
        "    super().__init__()\n",
        "    self.batch_size = batch_size\n",
        "    self.train_transform = train_transform\n",
        "    self.val_transform = val_transform\n",
        "    self.img_root = img_root\n",
        "\n",
        "  def setup(self, stage=None):\n",
        "    # метод содержит информацию о датасете\n",
        "    self.train_set = ImageFolder(self.img_root / Path(\"train\"), transform=self.train_transform)\n",
        "    self.val_set = ImageFolder(self.img_root / Path(\"val\"), transform=self.val_transform)\n",
        "    self.test_set = ImageFolder(self.img_root / Path(\"test\"), transform=self.val_transform)\n",
        "\n",
        "  def train_dataloader(self):\n",
        "    # метод создает загрузчик\n",
        "    return DataLoader(self.train_set, batch_size=self.batch_size, shuffle=True, num_workers=2)\n",
        "\n",
        "  def val_dataloader(self):\n",
        "    return DataLoader(self.val_set, batch_size=self.batch_size, shuffle=False, num_workers=2)\n",
        "\n",
        "  def test_dataloader(self):\n",
        "    return DataLoader(self.test_set, batch_size=self.batch_size, shuffle=False, num_workers=2)"
      ],
      "metadata": {
        "id": "0UkQDIOCgtKC"
      },
      "execution_count": null,
      "outputs": []
    },
    {
      "cell_type": "code",
      "source": [
        "dm = ImgDataModule()"
      ],
      "metadata": {
        "id": "CvNmLB-YTdNF"
      },
      "execution_count": null,
      "outputs": []
    },
    {
      "cell_type": "code",
      "source": [
        "!rm weed_split/val/Diskutainiya_Sofiy/*\n",
        "!rmdir weed_split/val/Diskutainiya_Sofiy\n",
        "!rm weed_split/test/Diskutainiya_Sofiy/*\n",
        "!rmdir weed_split/test/Diskutainiya_Sofiy\n",
        "!rm weed_split/train/Diskutainiya_Sofiy/*\n",
        "!rmdir weed_split/train/Diskutainiya_Sofiy\n",
        "\n",
        "!rm weed_split/val/Durnishnik_zobovidniy/*\n",
        "!rmdir weed_split/val/Durnishnik_zobovidniy\n",
        "!rm weed_split/test/Durnishnik_zobovidniy/*\n",
        "!rmdir weed_split/test/Durnishnik_zobovidniy\n",
        "!rm weed_split/train/Durnishnik_zobovidniy/*\n",
        "!rmdir weed_split/train/Durnishnik_zobovidniy\n",
        "\n",
        "!rm weed_split/val/Horispora_nezhnaya/*\n",
        "!rmdir weed_split/val/Horispora_nezhnaya\n",
        "!rm weed_split/test/Horispora_nezhnaya/*\n",
        "!rmdir weed_split/test/Horispora_nezhnaya\n",
        "!rm weed_split/train/Horispora_nezhnaya/*\n",
        "!rmdir weed_split/train/Horispora_nezhnaya\n",
        "\n",
        "!rm weed_split/val/Nezabudka_polevaya/*\n",
        "!rmdir weed_split/val/Nezabudka_polevaya\n",
        "!rm weed_split/test/Nezabudka_polevaya/*\n",
        "!rmdir weed_split/test/Nezabudka_polevaya\n",
        "!rm weed_split/train/Nezabudka_polevaya/*\n",
        "!rmdir weed_split/train/Nezabudka_polevaya\n",
        "\n",
        "!rm weed_split/val/Paslenovie/*\n",
        "!rmdir weed_split/val/Paslenovie\n",
        "!rm weed_split/test/Paslenovie/*\n",
        "!rmdir weed_split/test/Paslenovie\n",
        "!rm weed_split/train/Paslenovie/*\n",
        "!rmdir weed_split/train/Paslenovie\n",
        "\n",
        "!rm weed_split/val/Podorozhnik/*\n",
        "!rmdir weed_split/val/Podorozhnik\n",
        "!rm weed_split/test/Podorozhnik/*\n",
        "!rmdir weed_split/test/Podorozhnik\n",
        "!rm weed_split/train/Podorozhnik/*\n",
        "!rmdir weed_split/train/Podorozhnik\n",
        "\n",
        "\n",
        "#  Diskutainiya_Sofiy, Durnishnik_zobovidniy, Horispora_nezhnaya, Nezabudka_polevaya, Paslenovie, Podorozhnik\n",
        "#"
      ],
      "metadata": {
        "id": "uALkG-bvapF8",
        "colab": {
          "base_uri": "https://localhost:8080/"
        },
        "outputId": "8cecb5c5-b588-431a-f78c-9cba9d7683ba"
      },
      "execution_count": null,
      "outputs": [
        {
          "output_type": "stream",
          "name": "stdout",
          "text": [
            "rm: cannot remove 'weed_split/val/Diskutainiya_Sofiy/*': No such file or directory\n",
            "rm: cannot remove 'weed_split/train/Diskutainiya_Sofiy/*': No such file or directory\n",
            "rm: cannot remove 'weed_split/val/Durnishnik_zobovidniy/*': No such file or directory\n",
            "rm: cannot remove 'weed_split/train/Durnishnik_zobovidniy/*': No such file or directory\n",
            "rm: cannot remove 'weed_split/val/Horispora_nezhnaya/*': No such file or directory\n",
            "rm: cannot remove 'weed_split/train/Horispora_nezhnaya/*': No such file or directory\n",
            "rm: cannot remove 'weed_split/val/Nezabudka_polevaya/*': No such file or directory\n",
            "rm: cannot remove 'weed_split/train/Nezabudka_polevaya/*': No such file or directory\n",
            "rm: cannot remove 'weed_split/val/Paslenovie/*': No such file or directory\n",
            "rm: cannot remove 'weed_split/train/Paslenovie/*': No such file or directory\n",
            "rm: cannot remove 'weed_split/val/Podorozhnik/*': No such file or directory\n",
            "rm: cannot remove 'weed_split/train/Podorozhnik/*': No such file or directory\n"
          ]
        }
      ]
    },
    {
      "cell_type": "code",
      "source": [
        "!rm weed_split/val/Ambroziya_polinnolistnaya/*\n",
        "!rmdir weed_split/val/Ambroziya_polinnolistnaya\n",
        "!rm weed_split/test/Ambroziya_polinnolistnaya/*\n",
        "!rmdir weed_split/test/Ambroziya_polinnolistnaya\n",
        "!rm weed_split/train/Ambroziya_polinnolistnaya/*\n",
        "!rmdir weed_split/train/Ambroziya_polinnolistnaya\n",
        "\n",
        "!rm weed_split/val/Gorchak_polzuchiy/*\n",
        "!rmdir weed_split/val/Gorchak_polzuchiy\n",
        "!rm weed_split/test/Gorchak_polzuchiy/*\n",
        "!rmdir weed_split/test/Gorchak_polzuchiy\n",
        "!rm weed_split/train/Gorchak_polzuchiy/*\n",
        "!rmdir weed_split/train/Gorchak_polzuchiy\n",
        "\n",
        "!rm weed_split/val/Goroshek_volosistiy/*\n",
        "!rmdir weed_split/val/Goroshek_volosistiy\n",
        "!rm weed_split/test/Goroshek_volosistiy/*\n",
        "!rmdir weed_split/test/Goroshek_volosistiy\n",
        "!rm weed_split/train/Goroshek_volosistiy/*\n",
        "!rmdir weed_split/train/Goroshek_volosistiy\n",
        "\n",
        "!rm weed_split/val/Ikotnik_sedoi_seriy/*\n",
        "!rmdir weed_split/val/Ikotnik_sedoi_seriy\n",
        "!rm weed_split/test/Ikotnik_sedoi_seriy/*\n",
        "!rmdir weed_split/test/Ikotnik_sedoi_seriy\n",
        "!rm weed_split/train/Ikotnik_sedoi_seriy/*\n",
        "!rmdir weed_split/train/Ikotnik_sedoi_seriy\n",
        "\n",
        "!rm weed_split/val/Klopovnik_musorniy/*\n",
        "!rmdir weed_split/val/Klopovnik_musorniy\n",
        "!rm weed_split/test/Klopovnik_musorniy/*\n",
        "!rmdir weed_split/test/Klopovnik_musorniy\n",
        "!rm weed_split/train/Klopovnik_musorniy/*\n",
        "!rmdir weed_split/train/Klopovnik_musorniy\n",
        "\n",
        "!rm weed_split/val/Kohiya_Bassiya_venichnaya/*\n",
        "!rmdir weed_split/val/Kohiya_Bassiya_venichnaya\n",
        "!rm weed_split/test/Kohiya_Bassiya_venichnaya/*\n",
        "!rmdir weed_split/test/Kohiya_Bassiya_venichnaya\n",
        "!rm weed_split/train/Kohiya_Bassiya_venichnaya/*\n",
        "!rmdir weed_split/train/Kohiya_Bassiya_venichnaya\n",
        "\n",
        "!rm weed_split/val/Konoplya_sornaya/*\n",
        "!rmdir weed_split/val/Konoplya_sornaya\n",
        "!rm weed_split/test/Konoplya_sornaya/*\n",
        "!rmdir weed_split/test/Konoplya_sornaya\n",
        "!rm weed_split/train/Konoplya_sornaya/*\n",
        "!rmdir weed_split/train/Konoplya_sornaya\n",
        "\n",
        "!rm weed_split/val/Lipuchka_ottopirennaya/*\n",
        "!rmdir weed_split/val/Lipuchka_ottopirennaya\n",
        "!rm weed_split/test/Lipuchka_ottopirennaya/*\n",
        "!rmdir weed_split/test/Lipuchka_ottopirennaya\n",
        "!rm weed_split/train/Lipuchka_ottopirennaya/*\n",
        "!rmdir weed_split/train/Lipuchka_ottopirennaya\n",
        "\n",
        "!rm weed_split/val/Lebeda_rozovaya/*\n",
        "!rmdir weed_split/val/Lebeda_rozovaya\n",
        "!rm weed_split/test/Lebeda_rozovaya/*\n",
        "!rmdir weed_split/test/Lebeda_rozovaya\n",
        "!rm weed_split/train/Lebeda_rozovaya/*\n",
        "!rmdir weed_split/train/Lebeda_rozovaya\n",
        "\n",
        "!rm weed_split/val/Melkolepestnik_kanadskiy/*\n",
        "!rmdir weed_split/val/Melkolepestnik_kanadskiy\n",
        "!rm weed_split/test/Melkolepestnik_kanadskiy/*\n",
        "!rmdir weed_split/test/Melkolepestnik_kanadskiy\n",
        "!rm weed_split/train/Melkolepestnik_kanadskiy/*\n",
        "!rmdir weed_split/train/Melkolepestnik_kanadskiy\n",
        "\n",
        "!rm weed_split/val/Odnoletnie_zlakovie/*\n",
        "!rmdir weed_split/val/Odnoletnie_zlakovie\n",
        "!rm weed_split/test/Odnoletnie_zlakovie/*\n",
        "!rmdir weed_split/test/Odnoletnie_zlakovie\n",
        "!rm weed_split/train/Odnoletnie_zlakovie/*\n",
        "!rmdir weed_split/train/Odnoletnie_zlakovie\n",
        "\n",
        "!rm weed_split/val/Padalitsa_goroha/*\n",
        "!rmdir weed_split/val/Padalitsa_goroha\n",
        "!rm weed_split/test/Padalitsa_goroha/*\n",
        "!rmdir weed_split/test/Padalitsa_goroha\n",
        "!rm weed_split/train/Padalitsa_goroha/*\n",
        "!rmdir weed_split/train/Padalitsa_goroha\n",
        "\n",
        "!rm weed_split/val/Padalitsa_kukuruzy/*\n",
        "!rmdir weed_split/val/Padalitsa_kukuruzy\n",
        "!rm weed_split/test/Padalitsa_kukuruzy/*\n",
        "!rmdir weed_split/test/Padalitsa_kukuruzy\n",
        "!rm weed_split/train/Padalitsa_kukuruzy/*\n",
        "!rmdir weed_split/train/Padalitsa_kukuruzy\n",
        "\n",
        "!rm weed_split/val/Padalitsa_rapsa/*\n",
        "!rmdir weed_split/val/Padalitsa_rapsa\n",
        "!rm weed_split/test/Padalitsa_rapsa/*\n",
        "!rmdir weed_split/test/Padalitsa_rapsa\n",
        "!rm weed_split/train/Padalitsa_rapsa/*\n",
        "!rmdir weed_split/train/Padalitsa_rapsa\n",
        "\n",
        "!rm weed_split/val/Padalitsa_rzhi/*\n",
        "!rmdir weed_split/val/Padalitsa_rzhi\n",
        "!rm weed_split/test/Padalitsa_rzhi/*\n",
        "!rmdir weed_split/test/Padalitsa_rzhi\n",
        "!rm weed_split/train/Padalitsa_rzhi/*\n",
        "!rmdir weed_split/train/Padalitsa_rzhi\n",
        "\n",
        "!rm weed_split/val/Padalitsa_soi/*\n",
        "!rmdir weed_split/val/Padalitsa_soi\n",
        "!rm weed_split/test/Padalitsa_soi/*\n",
        "!rmdir weed_split/test/Padalitsa_soi\n",
        "!rm weed_split/train/Padalitsa_soi/*\n",
        "!rmdir weed_split/train/Padalitsa_soi\n",
        "\n",
        "!rm weed_split/val/Padalitsa_sudanskoi_travy/*\n",
        "!rmdir weed_split/val/Padalitsa_sudanskoi_travy\n",
        "!rm weed_split/test/Padalitsa_sudanskoi_travy/*\n",
        "!rmdir weed_split/test/Padalitsa_sudanskoi_travy\n",
        "!rm weed_split/train/Padalitsa_sudanskoi_travy/*\n",
        "!rmdir weed_split/train/Padalitsa_sudanskoi_travy\n",
        "\n",
        "!rm weed_split/val/Padalitsa_tritikale/*\n",
        "!rmdir weed_split/val/Padalitsa_tritikale\n",
        "!rm weed_split/test/Padalitsa_tritikale/*\n",
        "!rmdir weed_split/test/Padalitsa_tritikale\n",
        "!rm weed_split/train/Padalitsa_tritikale/*\n",
        "!rmdir weed_split/train/Padalitsa_tritikale\n",
        "\n",
        "!rm weed_split/val/Padalitsa_yachmenya/*\n",
        "!rmdir weed_split/val/Padalitsa_yachmenya\n",
        "!rm weed_split/test/Padalitsa_yachmenya/*\n",
        "!rmdir weed_split/test/Padalitsa_yachmenya\n",
        "!rm weed_split/train/Padalitsa_yachmenya/*\n",
        "!rmdir weed_split/train/Padalitsa_yachmenya\n",
        "\n",
        "# Ambroziya_polinnolistnaya, Gorchak_polzuchiy, Goroshek_volosistiy, Ikotnik_sedoi_seriy, Klopovnik_musorniy, Kohiya_Bassiya_venichnaya, \n",
        "# Konoplya_sornaya, Lebeda_rozovaya, Lipuchka_ottopirennaya, Melkolepestnik_kanadskiy, Odnoletnie_zlakovie,  Padalitsa_goroha, \n",
        "# Padalitsa_kukuruzy, Padalitsa_rapsa, Padalitsa_rzhi, Padalitsa_soi, Padalitsa_sudanskoi_travy, Padalitsa_tritikale, Padalitsa_yachmenya"
      ],
      "metadata": {
        "id": "sqwv6TMl6kK5",
        "colab": {
          "base_uri": "https://localhost:8080/"
        },
        "outputId": "fbc8e16c-35f3-48d4-a627-48ca430c3da2"
      },
      "execution_count": null,
      "outputs": [
        {
          "output_type": "stream",
          "name": "stdout",
          "text": [
            "rm: cannot remove 'weed_split/val/Ambroziya_polinnolistnaya/*': No such file or directory\n",
            "rm: cannot remove 'weed_split/val/Gorchak_polzuchiy/*': No such file or directory\n",
            "rm: cannot remove 'weed_split/val/Goroshek_volosistiy/*': No such file or directory\n",
            "rm: cannot remove 'weed_split/val/Ikotnik_sedoi_seriy/*': No such file or directory\n",
            "rm: cannot remove 'weed_split/val/Klopovnik_musorniy/*': No such file or directory\n",
            "rm: cannot remove 'weed_split/val/Kohiya_Bassiya_venichnaya/*': No such file or directory\n",
            "rm: cannot remove 'weed_split/val/Konoplya_sornaya/*': No such file or directory\n",
            "rm: cannot remove 'weed_split/val/Lipuchka_ottopirennaya/*': No such file or directory\n",
            "rm: cannot remove 'weed_split/val/Lebeda_rozovaya/*': No such file or directory\n",
            "rm: cannot remove 'weed_split/val/Melkolepestnik_kanadskiy/*': No such file or directory\n",
            "rm: cannot remove 'weed_split/val/Odnoletnie_zlakovie/*': No such file or directory\n",
            "rm: cannot remove 'weed_split/val/Padalitsa_goroha/*': No such file or directory\n",
            "rm: cannot remove 'weed_split/val/Padalitsa_kukuruzy/*': No such file or directory\n",
            "rm: cannot remove 'weed_split/val/Padalitsa_rapsa/*': No such file or directory\n",
            "rm: cannot remove 'weed_split/val/Padalitsa_rzhi/*': No such file or directory\n",
            "rm: cannot remove 'weed_split/val/Padalitsa_soi/*': No such file or directory\n",
            "rm: cannot remove 'weed_split/val/Padalitsa_sudanskoi_travy/*': No such file or directory\n",
            "rm: cannot remove 'weed_split/val/Padalitsa_tritikale/*': No such file or directory\n",
            "rm: cannot remove 'weed_split/val/Padalitsa_yachmenya/*': No such file or directory\n"
          ]
        }
      ]
    },
    {
      "cell_type": "code",
      "source": [
        "dm.setup()"
      ],
      "metadata": {
        "id": "wDWbC5ysTkMb"
      },
      "execution_count": null,
      "outputs": []
    },
    {
      "cell_type": "code",
      "source": [
        "{k:v for k, v in enumerate(dm.test_set.classes)}"
      ],
      "metadata": {
        "id": "1hZ9CvJmTgX3",
        "colab": {
          "base_uri": "https://localhost:8080/"
        },
        "outputId": "413a0238-a74b-4639-9d83-aa43844e933d"
      },
      "execution_count": null,
      "outputs": [
        {
          "output_type": "execute_result",
          "data": {
            "text/plain": [
              "{0: 'Aistnik_tsikutoviy',\n",
              " 1: 'Bodyak_polevoi',\n",
              " 2: 'China_klubnenosnaya',\n",
              " 3: 'Gorchitsa_polevaya',\n",
              " 4: 'Goroshek_mishiniy',\n",
              " 5: 'Gortsy_vidy',\n",
              " 6: 'Grechiha_tatarskaya',\n",
              " 7: 'Kermek_shirokolistniy',\n",
              " 8: 'Konskiy_shavel',\n",
              " 9: 'Kuray',\n",
              " 10: 'Kurinoe_proso',\n",
              " 11: 'Lebeda_Kopielistnaya',\n",
              " 12: 'Lebeda_raskidistaya',\n",
              " 13: 'Lipuchka_ezhevidnaya',\n",
              " 14: 'Lnyanka_obiknovennaya',\n",
              " 15: 'Mar_belaya',\n",
              " 16: 'Molochai_lozniy',\n",
              " 17: 'Molokan_tataskiy',\n",
              " 18: 'Noneya_temno_buraya',\n",
              " 19: 'Oduvanchik_lekarstvenniy',\n",
              " 20: 'Osot_polevoi',\n",
              " 21: 'Ovsug_obiknovenniy',\n",
              " 22: 'Padalica_pshenitsy',\n",
              " 23: 'Padalitsa_Lna',\n",
              " 24: 'Padalitsa_chechevitsy',\n",
              " 25: 'Padalitsa_podsolnechnika',\n",
              " 26: 'Pastushya_sumka',\n",
              " 27: 'Podmarennik_tsepkiy',\n",
              " 28: 'Polyn_gorkaya',\n",
              " 29: 'Polyn_polevaya',\n",
              " 30: 'Prosovidnie_sornyaki'}"
            ]
          },
          "metadata": {},
          "execution_count": 29
        }
      ]
    },
    {
      "cell_type": "markdown",
      "source": [
        "<div style=\"float:left;margin:0 10px 10px 0\" markdown=\"1\">\n",
        "    <a href=\"#footer\"><img src='https://img.shields.io/badge/Наверх-&#x21A9-blue'></a>\n",
        "</div>\n",
        "\n",
        "___\n"
      ],
      "metadata": {
        "id": "L0XFV0ue7xKK"
      }
    },
    {
      "cell_type": "markdown",
      "source": [
        "# Создание модели pyTorchLightning"
      ],
      "metadata": {
        "id": "lgmJGSgv9P4K"
      }
    },
    {
      "cell_type": "code",
      "source": [
        "class EffNetClassifier(pl.LightningModule):\n",
        "  # обязательный метод\n",
        "  def __init__(self,\n",
        "               model = \"efficientnet-b0\",\n",
        "               in_channels = 3,\n",
        "               out_classes = 31,\n",
        "               eta = 3e-4,\n",
        "               **kwargs):\n",
        "    super().__init__()\n",
        "    self.save_hyperparameters()\n",
        "    self.model = EfficientNet.from_pretrained(model,\n",
        "                                              num_classes = out_classes,\n",
        "                                              in_channels = in_channels)\n",
        "    device = \"cuda\" if torch.cuda.is_available() else \"cpu\"\n",
        "    self.out_classes = out_classes\n",
        "    self.criterion = nn.CrossEntropyLoss()\n",
        "    # self.metrics = {\"accuracy\": Accuracy().to(device)}\n",
        "    self.metrics = {\"accuracy\": Accuracy(task='multiclass', num_classes=out_classes).to(device)}\n",
        "\n",
        "  # обязательный метод\n",
        "  def forward(self, x):\n",
        "    return self.model(x)\n",
        "  # метод общий для всех\n",
        "  def shared_step(self,\n",
        "                  sample, \n",
        "                  stage):\n",
        "    x, y = sample\n",
        "    logits = self.forward(x.to(torch.float32))\n",
        "    preds = torch.argmax(logits, 1)\n",
        "    loss = self.criterion(logits, y.to(torch.int64))\n",
        "\n",
        "    return {\n",
        "            'loss': loss,\n",
        "            'accuracy': self.metrics[\"accuracy\"](preds, y)\n",
        "    }\n",
        "  # метод общий для всех\n",
        "  def shared_epoch_end(self,\n",
        "                       outputs,\n",
        "                       stage):\n",
        "    loss = np.mean([x[\"loss\"].item() for x in outputs])\n",
        "    acc = np.mean([x[\"accuracy\"].item() for x in outputs])\n",
        "\n",
        "    metrics = {\n",
        "        \n",
        "        f\"{stage}_loss\": loss,\n",
        "        f\"{stage}_acc\": acc\n",
        "    }\n",
        "\n",
        "    self.log_dict(metrics, prog_bar=True)\n",
        "  # обязательный шаг - создаем оптимизатор, BONUS - шедулер\n",
        "  def configure_optimizers(self):\n",
        "    optimizer = torch.optim.SGD(\n",
        "        self.parameters(),\n",
        "        lr = self.hparams.eta\n",
        "    )\n",
        "\n",
        "    scheduler_dict = {\n",
        "        \n",
        "        \"scheduler\": torch.optim.lr_scheduler.ReduceLROnPlateau(\n",
        "            \n",
        "            optimizer,\n",
        "            patience=5\n",
        "        ),\n",
        "        \"interval\": \"epoch\",\n",
        "        \"monitor\": \"valid_loss\"\n",
        "\n",
        "\n",
        "    }\n",
        "    return {\"optimizer\": optimizer, \"lr_scheduler\": scheduler_dict}\n",
        "  # шаг обучения\n",
        "  def training_step(self,\n",
        "                    batch,\n",
        "                    batch_idx):\n",
        "    return self.shared_step(batch, 'train')\n",
        "  # шаг подсчета метрик обучения\n",
        "  def training_epoch_end(self,\n",
        "                    outputs):\n",
        "    return self.shared_epoch_end(outputs, 'train')\n",
        "  # шаг валидации\n",
        "  def validation_step(self,\n",
        "                    batch,\n",
        "                    batch_idx):\n",
        "    return self.shared_step(batch, 'valid')\n",
        "  # шаг подсчета метрик валидации\n",
        "  def validation_epoch_end(self,\n",
        "                    outputs):\n",
        "    return self.shared_epoch_end(outputs, 'valid')\n",
        "  # шаг тестирования\n",
        "  def test_step(self,\n",
        "                    batch,\n",
        "                    batch_idx):\n",
        "    return self.shared_step(batch, 'test')\n",
        "  # шаг подсчета метрик тестирования\n",
        "  def test_epoch_end(self,\n",
        "                    outputs):\n",
        "    return self.shared_epoch_end(outputs, 'test')  "
      ],
      "metadata": {
        "id": "YXT_HE9HguIo"
      },
      "execution_count": null,
      "outputs": []
    },
    {
      "cell_type": "markdown",
      "source": [
        "[SoftMax](https://en.wikipedia.org/wiki/Softmax_function) - немного про функцию софтмакс"
      ],
      "metadata": {
        "id": "tKI3DOtA9803"
      }
    },
    {
      "cell_type": "code",
      "source": [
        "arr = np.random.rand(11)"
      ],
      "metadata": {
        "id": "sydLpwkiYBP0"
      },
      "execution_count": null,
      "outputs": []
    },
    {
      "cell_type": "code",
      "source": [
        "arr"
      ],
      "metadata": {
        "id": "4u9REXFjYIEc",
        "colab": {
          "base_uri": "https://localhost:8080/"
        },
        "outputId": "d9fbeb34-2549-48b7-ea37-f43f372fbdbd"
      },
      "execution_count": null,
      "outputs": [
        {
          "output_type": "execute_result",
          "data": {
            "text/plain": [
              "array([0.18343479, 0.779691  , 0.59685016, 0.44583275, 0.09997492,\n",
              "       0.45924889, 0.33370861, 0.14286682, 0.65088847, 0.05641158,\n",
              "       0.72199877])"
            ]
          },
          "metadata": {},
          "execution_count": 32
        }
      ]
    },
    {
      "cell_type": "code",
      "source": [
        "np.argmax(arr)"
      ],
      "metadata": {
        "id": "tBziBjssYJaf",
        "colab": {
          "base_uri": "https://localhost:8080/"
        },
        "outputId": "6bdc7d00-379a-466d-ebdc-961a4b878988"
      },
      "execution_count": null,
      "outputs": [
        {
          "output_type": "execute_result",
          "data": {
            "text/plain": [
              "1"
            ]
          },
          "metadata": {},
          "execution_count": 33
        }
      ]
    },
    {
      "cell_type": "code",
      "source": [
        "softmax = nn.Softmax(dim=0)"
      ],
      "metadata": {
        "id": "k0mjcyRxYVKq"
      },
      "execution_count": null,
      "outputs": []
    },
    {
      "cell_type": "code",
      "source": [
        "probs = softmax(torch.FloatTensor(arr)).numpy()"
      ],
      "metadata": {
        "id": "28CdYsk5Yc5O"
      },
      "execution_count": null,
      "outputs": []
    },
    {
      "cell_type": "code",
      "source": [
        "np.sum(probs)"
      ],
      "metadata": {
        "id": "Qd4wWgWsYoFs",
        "colab": {
          "base_uri": "https://localhost:8080/"
        },
        "outputId": "6f198e5f-06e3-4567-eb03-d227f9857e83"
      },
      "execution_count": null,
      "outputs": [
        {
          "output_type": "execute_result",
          "data": {
            "text/plain": [
              "0.9999999"
            ]
          },
          "metadata": {},
          "execution_count": 36
        }
      ]
    },
    {
      "cell_type": "code",
      "source": [
        "np.argmax(probs)"
      ],
      "metadata": {
        "id": "BXjTRNxfYqrw",
        "colab": {
          "base_uri": "https://localhost:8080/"
        },
        "outputId": "29558322-f330-42e1-add7-ac2351fb2491"
      },
      "execution_count": null,
      "outputs": [
        {
          "output_type": "execute_result",
          "data": {
            "text/plain": [
              "1"
            ]
          },
          "metadata": {},
          "execution_count": 37
        }
      ]
    },
    {
      "cell_type": "code",
      "source": [
        "probs"
      ],
      "metadata": {
        "id": "tSRY8xJOYtt_",
        "colab": {
          "base_uri": "https://localhost:8080/"
        },
        "outputId": "e7a4638a-bbe8-40e5-86c4-f50a41b2d76a"
      },
      "execution_count": null,
      "outputs": [
        {
          "output_type": "execute_result",
          "data": {
            "text/plain": [
              "array([0.07053461, 0.12804218, 0.10664642, 0.09169808, 0.06488677,\n",
              "       0.09293661, 0.08197197, 0.06773043, 0.11256797, 0.06212077,\n",
              "       0.12086418], dtype=float32)"
            ]
          },
          "metadata": {},
          "execution_count": 38
        }
      ]
    },
    {
      "cell_type": "markdown",
      "source": [
        "<div style=\"float:left;margin:0 10px 10px 0\" markdown=\"1\">\n",
        "    <a href=\"#footer\"><img src='https://img.shields.io/badge/Наверх-&#x21A9-blue'></a>\n",
        "</div>\n",
        "\n",
        "___\n"
      ],
      "metadata": {
        "id": "GHOwt6Uu9y8M"
      }
    },
    {
      "cell_type": "markdown",
      "source": [
        "# Запуск обучения"
      ],
      "metadata": {
        "id": "E81SlgV890yK"
      }
    },
    {
      "cell_type": "markdown",
      "source": [
        "Стандартизация:"
      ],
      "metadata": {
        "id": "CKXp5ehsZbwa"
      }
    },
    {
      "cell_type": "markdown",
      "source": [
        "\n",
        "\n",
        "$$z_{i} = {(x_{i} - \\mu) \\over \\delta}$$\n",
        "\n"
      ],
      "metadata": {
        "id": "_e0jtyLZXVUt"
      }
    },
    {
      "cell_type": "code",
      "source": [
        "# трансформации для обучения\n",
        "transform_train = transforms.Compose(\n",
        "    \n",
        "                [transforms.Resize((224, 224)),\n",
        "                 transforms.RandomHorizontalFlip(p=.5),\n",
        "                 transforms.ToTensor(),\n",
        "                 transforms.Normalize(mean=[0.485, 0.456, 0.406],\n",
        "                                     std=[0.229, 0.224, 0.225])         \n",
        "                 \n",
        "                 ]\n",
        "\n",
        ")\n",
        "\n",
        "# трансформации для валидации и теста \n",
        "# (сохраняем только ресайз, тензор и нормализацию)\n",
        "transform_test = transforms.Compose(\n",
        "    \n",
        "                [transforms.Resize((224, 224)),\n",
        "                 transforms.ToTensor(),\n",
        "                 transforms.Normalize(mean=[0.485, 0.456, 0.406],\n",
        "                                     std=[0.229, 0.224, 0.225])         \n",
        "                 \n",
        "                 ]\n",
        "\n",
        ")"
      ],
      "metadata": {
        "id": "Xp-7XWFpgv3H",
        "colab": {
          "base_uri": "https://localhost:8080/",
          "height": 246
        },
        "outputId": "3d8e8ba5-fc0c-4149-e712-b2f58bcdff13"
      },
      "execution_count": null,
      "outputs": [
        {
          "output_type": "error",
          "ename": "NameError",
          "evalue": "ignored",
          "traceback": [
            "\u001b[0;31m---------------------------------------------------------------------------\u001b[0m",
            "\u001b[0;31mNameError\u001b[0m                                 Traceback (most recent call last)",
            "\u001b[0;32m<ipython-input-1-b982d9ad6f98>\u001b[0m in \u001b[0;36m<module>\u001b[0;34m\u001b[0m\n\u001b[1;32m      1\u001b[0m \u001b[0;31m# трансформации для обучения\u001b[0m\u001b[0;34m\u001b[0m\u001b[0;34m\u001b[0m\u001b[0;34m\u001b[0m\u001b[0m\n\u001b[0;32m----> 2\u001b[0;31m transform_train = transforms.Compose(\n\u001b[0m\u001b[1;32m      3\u001b[0m \u001b[0;34m\u001b[0m\u001b[0m\n\u001b[1;32m      4\u001b[0m                 [transforms.Resize((224, 224)),\n\u001b[1;32m      5\u001b[0m                  \u001b[0mtransforms\u001b[0m\u001b[0;34m.\u001b[0m\u001b[0mRandomHorizontalFlip\u001b[0m\u001b[0;34m(\u001b[0m\u001b[0mp\u001b[0m\u001b[0;34m=\u001b[0m\u001b[0;36m.5\u001b[0m\u001b[0;34m)\u001b[0m\u001b[0;34m,\u001b[0m\u001b[0;34m\u001b[0m\u001b[0;34m\u001b[0m\u001b[0m\n",
            "\u001b[0;31mNameError\u001b[0m: name 'transforms' is not defined"
          ]
        }
      ]
    },
    {
      "cell_type": "code",
      "source": [
        "BATCH = 16\n",
        "# создаем DataModule-экземпляр\n",
        "dm = ImgDataModule(BATCH, transform_train, transform_test)\n",
        "EXPERIMENT = \"efficientnet-b0\"\n",
        "ETA = 3*10e-3\n",
        "model = EffNetClassifier(eta=ETA, model=EXPERIMENT)\n",
        "# список для отслеживания lr, ранних остановок, сохранения весов\n",
        "callbacks = [\n",
        "    \n",
        "            ModelCheckpoint(\n",
        "                \n",
        "                dirpath='models',\n",
        "                filename='{epoch}_{valid_acc:.2f}_{valid_loss:.2f}',\n",
        "                save_top_k=2,\n",
        "                monitor='valid_loss',\n",
        "                mode='min'\n",
        "                \n",
        "\n",
        "            ),\n",
        "             \n",
        "             LearningRateMonitor(logging_interval=\"step\"),\n",
        "             EarlyStopping(monitor=\"valid_loss\",\n",
        "                           min_delta=2e-4,\n",
        "                           patience=10,\n",
        "                           verbose=False,\n",
        "                           mode=\"min\")\n",
        "\n",
        "\n",
        "]\n",
        "# указываем путь для логирования и логер\n",
        "TENSOR = \"./logs\"\n",
        "logger = TensorBoardLogger(TENSOR, name=EXPERIMENT)\n",
        "# стартуем с нуля, поэтому передаем тут checkpoint None\n",
        "CHECKPOINT = None\n",
        "# создаем трейнер - класс, который будет обучать\n",
        "trainer = pl.Trainer(\n",
        "    \n",
        "        gpus=1,\n",
        "        max_epochs=15,\n",
        "        logger=logger,\n",
        "        callbacks=callbacks,\n",
        "        resume_from_checkpoint=CHECKPOINT\n",
        "\n",
        "\n",
        "\n",
        ")"
      ],
      "metadata": {
        "id": "8TElvg8_efis",
        "colab": {
          "base_uri": "https://localhost:8080/",
          "height": 180,
          "referenced_widgets": [
            "f87ffb74156d4d979c6301f0faec0f85",
            "1c8e8c52387c41cd88a271c4efc2c180",
            "4cdc97d36dfd47c684bd8bcc5e4cdf37",
            "787b29d147c04f809f35610034010eed",
            "0959b580e76b43fdab1aaac56c13912d",
            "5f6a4506d1fa43baab9c77aa5f00a332",
            "478d07afbaaa45a89a2956cd6eec8c22",
            "3699e0673f764f1ea99b54cc347ccda1",
            "67a953472d104fc583512ca4b9d0ab37",
            "3874161097084a75819a0b843921607e",
            "62792643924f479f8249d601adf77b4e"
          ]
        },
        "outputId": "8c66f42a-65e0-47ee-df29-401e86ca1708"
      },
      "execution_count": null,
      "outputs": [
        {
          "output_type": "stream",
          "name": "stderr",
          "text": [
            "Downloading: \"https://github.com/lukemelas/EfficientNet-PyTorch/releases/download/1.0/efficientnet-b0-355c32eb.pth\" to /root/.cache/torch/hub/checkpoints/efficientnet-b0-355c32eb.pth\n"
          ]
        },
        {
          "output_type": "display_data",
          "data": {
            "text/plain": [
              "  0%|          | 0.00/20.4M [00:00<?, ?B/s]"
            ],
            "application/vnd.jupyter.widget-view+json": {
              "version_major": 2,
              "version_minor": 0,
              "model_id": "f87ffb74156d4d979c6301f0faec0f85"
            }
          },
          "metadata": {}
        },
        {
          "output_type": "stream",
          "name": "stdout",
          "text": [
            "Loaded pretrained weights for efficientnet-b0\n"
          ]
        },
        {
          "output_type": "stream",
          "name": "stderr",
          "text": [
            "INFO:pytorch_lightning.utilities.rank_zero:GPU available: True (cuda), used: True\n",
            "INFO:pytorch_lightning.utilities.rank_zero:TPU available: False, using: 0 TPU cores\n",
            "INFO:pytorch_lightning.utilities.rank_zero:IPU available: False, using: 0 IPUs\n",
            "INFO:pytorch_lightning.utilities.rank_zero:HPU available: False, using: 0 HPUs\n"
          ]
        }
      ]
    },
    {
      "cell_type": "code",
      "source": [
        "# любимый fit \n",
        "\n",
        "trainer.fit(model, dm)"
      ],
      "metadata": {
        "id": "YmIOEo2sgGdK",
        "colab": {
          "base_uri": "https://localhost:8080/",
          "height": 622,
          "referenced_widgets": [
            "1851e68c27f14cfab195863b2f2fba4d",
            "f846709ee27f44c9b8ee59859492153b",
            "eb3bf525f17c4ff1af9331eae18d5f9f",
            "ab607883715944b1b7947ca0ddf4a95a",
            "6cf89fb689b7444883db7c2b7878cd47",
            "cc6439d54e944e0a86e83edb43502b42",
            "a5145e69b44b4405aa715abc46ccc4b5",
            "606d4177dc2e4f7494b58652af5be2ab",
            "1cc99c126267450da706e7558d2bc4b3",
            "e1d513440f7c4707ba166de1e76a62bf",
            "01872716647d42afa8e0977efefa85e6",
            "a2117f06107a4b9ba6ec5f508e394ef2",
            "45c432b0e45f4ad0be4c7ed0195d5c34",
            "0c598ffee7b944d59295c3b6e75473a4",
            "e08af5145f014c2c8ba74a34381fefcc",
            "a672979eec47416d9b7d3a39bebe8b1b",
            "e75db31e10984be79caa44011d79d9fb",
            "aac89fe0e1154402aa1ae8ecf102b996",
            "82922ce56df6477aa829283d4a97b95b",
            "2e18c628b1384f42a9e0fa8e4c975a55",
            "523240c8fdc646cda246787521e6ba69",
            "d8f5be122957489a93dcdac237609b36",
            "f5cc0a7da2f04ff487eb89d6229bef6a",
            "d52426f2a96f4288bccfcbb505b4bde8",
            "60dbd0f3f7f54b07b6822c23e5848aa4",
            "3cdee57af863476893b5597826a52a3f",
            "06dca44e0d794539a6059ea6ef81cac1",
            "9cb52b2b27224e94b12c4ff0a9bf62e6",
            "fd57e259b36a432d8329f30cdb6e480e",
            "effe2879f5b3456bb1b9c0f5d65a88ff",
            "dcb1cad7dafa4003b61df95c379360a5",
            "4309ad8565de47f485d50a9c2303cb70",
            "3720ceed4d0041cdbace0715bf03ff38",
            "d911648d55d9479a84fe44e13d80cead",
            "1484fb5175de4cb9bb4743a7afe63e9a",
            "4d21b2b61ad64a339133575eee421e5f",
            "4f531b34b78c4c10bef5c7df2c53ddbe",
            "3df298a2f721467293c5bed8c40f5af0",
            "485333df8392412f8227edb69169d950",
            "4a0f2b15b92b4ccbbc0c7eea1d6fd657",
            "894c003f351949a391a53674a1c3cffa",
            "b22e2334b11a48a798a2f4d8cff02dc4",
            "42ae831b7eea4906924df249b811f8c9",
            "eb837b118d2e4459aa065b0793c52867",
            "354ba0527bc44e1f860a1bcb0c87b15d",
            "f94ff03059d846a7b9378a6702f77552",
            "869bd8c257a0447f9342210ed4552a27",
            "37b2d42a954745b7b98c094f209df07f",
            "c9d0c6308f724fbcb49539a67e785b46",
            "8fd1e63fb350436f8f81c7a370f0b70c",
            "5219be8b6ee3432ca8d80c78876aa778",
            "8a4434365d3e47e1bf76ae6fba9610bc",
            "753ca83c7d1043efae5250036bddf7f3",
            "6f3529c0fa614eb2833ddfe184ae320d",
            "53adc6fef35947589454d96c0843faca",
            "dc8c16a9f609446d8c1f88e1b672698a",
            "ecff0b52dfc54365b0157c1e5d33ab55",
            "38b91d4628814973b8382278f7c6fddd",
            "302f54d7b8664638a91aa1f252695f78",
            "0c77eba0972d4828a36f0982529ccc46",
            "bedae48af8874034a42912e28c5aa3f7",
            "5d6f8f7ddce94b14ab8dfc70ea48f017",
            "36d3bc879fc14b3ba5571ac4097e4178",
            "ee0d4aa64038490f8d467931e3077877",
            "19370c5a7db7410c832122b577b70ca8",
            "cb549f1a9dbc468cacff4bd58166bf10",
            "f7d58e0c319147ceb19eaaf270d641d5",
            "de64604d4b064389b1062a6d6406df6a",
            "a83ed239cc504a7a9547d47a80bed7cc",
            "03c06124ea9e42678a0191cfa151921f",
            "42543d55a0f148588fba605db2752093",
            "a242c2eff7f14373b3a084991fb3827b",
            "54aa89694297406cb3772831ba1af222",
            "74e68fec6c1449378b9096a570072190",
            "c06ac8b825764c9fb8547d2e5c87b411",
            "e31a180dbb2a46c5b379360ba9c23ba9",
            "a0130591ce7b4625821968191c3eae82",
            "38365bd03f91456ba64d45bfaca9c1a0",
            "3dd28919a0564ea3ad808c6e81fbb437",
            "863b81711fea4e5ba06fbd2a1c233362",
            "4e448bb185ad44f099c5c56031e96347",
            "426a04ac95fe4bd4831f88e0c1d6b23d",
            "07613007013a4fc3a82cb8f36f55e698",
            "66df0a52cde24f59939eefb43eb61d64",
            "e2ea680a1d0e4ff1a8f1026313bfe801",
            "8edea06c01fd4293b934c41072960448",
            "ee692fc83e6849f7aade8e748daf9d23",
            "a4775a8c10e8437288d58e877d7f8b01",
            "e092da4d36b04ee2941492791e83e6e6",
            "dbbbd955d58845308c9baf8ec02ee611",
            "d383154d7c29473182d444c31a171238",
            "d9ac083416f44faf8bbbd129ecfb49cf",
            "b05dc383ad53494c863771bcb645658b",
            "3bc81968e8214c95aedc979756de8ff2",
            "126f6bc07fd041a4b3f68f8e871937f0",
            "39450a58f5154de89121814e2819edb2",
            "cd96603eee7a4925b0af57978ad46d30",
            "dd31dd8eb2d14a36953755f3ca4ec03f",
            "90f8fb9bf3ee4534b82fcb7290a2dc55",
            "000247fd12164a91a6b22ffbe814d99f",
            "62a66ef62b3c4ce8b19cc936b04a4404",
            "db126533f4ea4c86b844c220f274790f",
            "a798e09425154c0fbb9f5929149f0682",
            "6c5133ed8030489b92b3ee004229e534",
            "9f5fe7933327495c90c674a79f623738",
            "c92c32ea6593489580d1c64b8b1a8e98",
            "ce3914651da646b0809705ba80c5c11c",
            "67ecd7910e7444d39877c4c35debe746",
            "cb0ab6c5b94140fea3cc59fad46cc63e",
            "b7c2fc6ef20f493fba76475ad7213201",
            "5ecd44a37ef041409ef4f3334cd2f9b9",
            "9a994a1739a74f3895f8565b18a6453a",
            "0072ab35eaf14146929abd2f7a61bc5a",
            "66e04a67ecc4422cb36737a39931ec49",
            "d741195b27734567a29695e04e19ac69",
            "952881641054460997dc6b33fd4333a2",
            "b20a8d91991e4a45894d96227a3d3a6d",
            "f389725e52be45358d3741d8ec786241",
            "f07f24f6805949f19a8b9b20c259e309",
            "2a18e0d158ad43038b2516ba71710153",
            "0ff92fb608bb4f1b964da33c445fd67a",
            "6f995a850fac4532b760e2155b84532e",
            "dd11c7e798ae474ca414aaccb59c5057",
            "3e30fe943c404409901523d37a81539b",
            "b3dee72141774d25b05499cfc45c3371",
            "539f10b784ed4d1186f15fb7fdef46cb",
            "c508383d59d34cdca11cb42f36cc3606",
            "4c8c5dcc514e4d54ba4f59935d3651cf",
            "02d0bb8ef06e410bb8d2e39b71ed54cb",
            "ab6bf8152a3145c6ade52e6cd84aeb14",
            "2b09c7a85784419e8e3c3a159864857f",
            "f3a5901719084ab3965a9fa253ff4019",
            "e53cda6b577349818ccad34d2aca8758",
            "451fbd9b8cc84f14843a42c619aacf8a",
            "997f586dc8b342feb4f1e8a1fe897e8e",
            "6601faeacb0947d7949be16787106142",
            "a03cbe44a40a41c9bfa514ab009e4698",
            "a6050c0f7c124c92a6a169b90499905b",
            "41c537dfe0774e7abb8dce13153fdff8",
            "d764bcec1dc642bb9866dc7b6ff793de",
            "b39c25ac441548fca4cea68c4596e80e",
            "21fad94141954c91bd9b7e32909dff5c",
            "0381c22e9182408c886eeadec43f7109",
            "041a2c613b1f411080a528357d645958",
            "0737baa06dbd4cb1abdfbce95e58f51a",
            "c055d2fed406402c82ac9a7a20f357a0",
            "0db32fa4358e4ddaacdcf6cca5bf9b81",
            "cf9ef290f5b84756af13ba69b413e541",
            "391e59e5f32547c5a28989add33571fc",
            "898ff0c0047f4ed8957400ff3c41d85e",
            "bf6029927dc145bab31543d03028a92c",
            "f04daac3ffb84d3eb3932198513b5b42",
            "6afab3d0fa0845ac9fdcd647972b23ef",
            "1b4594e7c7204962aacaeebe60a326f5",
            "b2f9d75110db4bac8918b716a2854695",
            "6354f10502aa4b96a79bd8fc453413e0",
            "4ef4b0564eb249f698ec763e86bdc6cc",
            "000bb5270f2f4de28835ed4d5e2f64eb",
            "cdafe1e1792e408c8d0430a8f32862ae",
            "7f831194a2fe44c0a624baadb6544951",
            "328a7b24228f4981af00758ec8785d79",
            "f40fcbb01ac847598cc6bd444c32ff7d",
            "50bc39c4f4db4d34bf76eeb1a41544e1",
            "5bd36b95df914889ab122f5503cc4f33",
            "dba24137a11d430a953254c71bab70ac",
            "15685e2299e044a9920dafd609fcf6b6",
            "8e7e511460b74f19a028c0c5d686b7e8",
            "57d8c12516444156b1e549f7cf9d98f5",
            "3ce7cf68507c4373af2cd2683a9b1707",
            "1967d774476142e49671eba3ee814067",
            "48b2e80fb28f44d7b9a456050e8362cf",
            "86a23bd86c8f4983add19ef463557a54",
            "1fbdd3ca3add4fa7a29db7b496169072",
            "e6c25b6ce5e1483f96a4e98577100309",
            "f23b2e1537d24726bfb601016d0583d8",
            "05d5051074684a8ca8512caa50ff8aa5"
          ]
        },
        "outputId": "c335294b-83b7-48fa-b66f-cd3d2a36dda6"
      },
      "execution_count": null,
      "outputs": [
        {
          "metadata": {
            "tags": null
          },
          "name": "stderr",
          "output_type": "stream",
          "text": [
            "WARNING:pytorch_lightning.loggers.tensorboard:Missing logger folder: ./logs/efficientnet-b0\n",
            "INFO:pytorch_lightning.accelerators.cuda:LOCAL_RANK: 0 - CUDA_VISIBLE_DEVICES: [0]\n",
            "INFO:pytorch_lightning.callbacks.model_summary:\n",
            "  | Name      | Type             | Params\n",
            "-----------------------------------------------\n",
            "0 | model     | EfficientNet     | 4.0 M \n",
            "1 | criterion | CrossEntropyLoss | 0     \n",
            "-----------------------------------------------\n",
            "4.0 M     Trainable params\n",
            "0         Non-trainable params\n",
            "4.0 M     Total params\n",
            "16.189    Total estimated model params size (MB)\n"
          ]
        },
        {
          "data": {
            "application/vnd.jupyter.widget-view+json": {
              "model_id": "1851e68c27f14cfab195863b2f2fba4d",
              "version_major": 2,
              "version_minor": 0
            },
            "text/plain": [
              "Sanity Checking: 0it [00:00, ?it/s]"
            ]
          },
          "metadata": {},
          "output_type": "display_data"
        },
        {
          "data": {
            "application/vnd.jupyter.widget-view+json": {
              "model_id": "a2117f06107a4b9ba6ec5f508e394ef2",
              "version_major": 2,
              "version_minor": 0
            },
            "text/plain": [
              "Training: 0it [00:00, ?it/s]"
            ]
          },
          "metadata": {},
          "output_type": "display_data"
        },
        {
          "data": {
            "application/vnd.jupyter.widget-view+json": {
              "model_id": "f5cc0a7da2f04ff487eb89d6229bef6a",
              "version_major": 2,
              "version_minor": 0
            },
            "text/plain": [
              "Validation: 0it [00:00, ?it/s]"
            ]
          },
          "metadata": {},
          "output_type": "display_data"
        },
        {
          "data": {
            "application/vnd.jupyter.widget-view+json": {
              "model_id": "d911648d55d9479a84fe44e13d80cead",
              "version_major": 2,
              "version_minor": 0
            },
            "text/plain": [
              "Validation: 0it [00:00, ?it/s]"
            ]
          },
          "metadata": {},
          "output_type": "display_data"
        },
        {
          "data": {
            "application/vnd.jupyter.widget-view+json": {
              "model_id": "354ba0527bc44e1f860a1bcb0c87b15d",
              "version_major": 2,
              "version_minor": 0
            },
            "text/plain": [
              "Validation: 0it [00:00, ?it/s]"
            ]
          },
          "metadata": {},
          "output_type": "display_data"
        },
        {
          "data": {
            "application/vnd.jupyter.widget-view+json": {
              "model_id": "dc8c16a9f609446d8c1f88e1b672698a",
              "version_major": 2,
              "version_minor": 0
            },
            "text/plain": [
              "Validation: 0it [00:00, ?it/s]"
            ]
          },
          "metadata": {},
          "output_type": "display_data"
        },
        {
          "data": {
            "application/vnd.jupyter.widget-view+json": {
              "model_id": "f7d58e0c319147ceb19eaaf270d641d5",
              "version_major": 2,
              "version_minor": 0
            },
            "text/plain": [
              "Validation: 0it [00:00, ?it/s]"
            ]
          },
          "metadata": {},
          "output_type": "display_data"
        },
        {
          "data": {
            "application/vnd.jupyter.widget-view+json": {
              "model_id": "38365bd03f91456ba64d45bfaca9c1a0",
              "version_major": 2,
              "version_minor": 0
            },
            "text/plain": [
              "Validation: 0it [00:00, ?it/s]"
            ]
          },
          "metadata": {},
          "output_type": "display_data"
        },
        {
          "data": {
            "application/vnd.jupyter.widget-view+json": {
              "model_id": "e092da4d36b04ee2941492791e83e6e6",
              "version_major": 2,
              "version_minor": 0
            },
            "text/plain": [
              "Validation: 0it [00:00, ?it/s]"
            ]
          },
          "metadata": {},
          "output_type": "display_data"
        },
        {
          "data": {
            "application/vnd.jupyter.widget-view+json": {
              "model_id": "000247fd12164a91a6b22ffbe814d99f",
              "version_major": 2,
              "version_minor": 0
            },
            "text/plain": [
              "Validation: 0it [00:00, ?it/s]"
            ]
          },
          "metadata": {},
          "output_type": "display_data"
        },
        {
          "data": {
            "application/vnd.jupyter.widget-view+json": {
              "model_id": "5ecd44a37ef041409ef4f3334cd2f9b9",
              "version_major": 2,
              "version_minor": 0
            },
            "text/plain": [
              "Validation: 0it [00:00, ?it/s]"
            ]
          },
          "metadata": {},
          "output_type": "display_data"
        },
        {
          "data": {
            "application/vnd.jupyter.widget-view+json": {
              "model_id": "6f995a850fac4532b760e2155b84532e",
              "version_major": 2,
              "version_minor": 0
            },
            "text/plain": [
              "Validation: 0it [00:00, ?it/s]"
            ]
          },
          "metadata": {},
          "output_type": "display_data"
        },
        {
          "output_type": "display_data",
          "data": {
            "text/plain": [
              "Validation: 0it [00:00, ?it/s]"
            ],
            "application/vnd.jupyter.widget-view+json": {
              "version_major": 2,
              "version_minor": 0,
              "model_id": "e53cda6b577349818ccad34d2aca8758"
            }
          },
          "metadata": {}
        },
        {
          "output_type": "display_data",
          "data": {
            "text/plain": [
              "Validation: 0it [00:00, ?it/s]"
            ],
            "application/vnd.jupyter.widget-view+json": {
              "version_major": 2,
              "version_minor": 0,
              "model_id": "041a2c613b1f411080a528357d645958"
            }
          },
          "metadata": {}
        },
        {
          "output_type": "display_data",
          "data": {
            "text/plain": [
              "Validation: 0it [00:00, ?it/s]"
            ],
            "application/vnd.jupyter.widget-view+json": {
              "version_major": 2,
              "version_minor": 0,
              "model_id": "b2f9d75110db4bac8918b716a2854695"
            }
          },
          "metadata": {}
        },
        {
          "output_type": "display_data",
          "data": {
            "text/plain": [
              "Validation: 0it [00:00, ?it/s]"
            ],
            "application/vnd.jupyter.widget-view+json": {
              "version_major": 2,
              "version_minor": 0,
              "model_id": "15685e2299e044a9920dafd609fcf6b6"
            }
          },
          "metadata": {}
        }
      ]
    },
    {
      "cell_type": "markdown",
      "source": [
        " ```python\n",
        " \n",
        " [01:01<00:00, 6.27it/s, loss=0.426, v_num=1, valid_loss=0.323, valid_acc=0.905, train_loss=0.424, train_acc=0.868]\n",
        "\n",
        "\n",
        " ```"
      ],
      "metadata": {
        "id": "Jm8vJWJWil2V"
      }
    },
    {
      "cell_type": "markdown",
      "source": [
        "```python\n",
        " [00:58<00:00, 6.57it/s, loss=0.0697, v_num=2, valid_loss=0.273, valid_acc=0.919, train_loss=0.0684, train_acc=0.979]\n",
        "\n",
        "```"
      ],
      "metadata": {
        "id": "e8RyUUXcnjUx"
      }
    },
    {
      "cell_type": "markdown",
      "source": [
        "<div style=\"float:left;margin:0 10px 10px 0\" markdown=\"1\">\n",
        "    <a href=\"#footer\"><img src='https://img.shields.io/badge/Наверх-&#x21A9-blue'></a>\n",
        "</div>\n",
        "\n",
        "___\n"
      ],
      "metadata": {
        "id": "twzgS9JM96QV"
      }
    },
    {
      "cell_type": "markdown",
      "source": [
        "# Тестирование и Tensorboard"
      ],
      "metadata": {
        "id": "7kSiztGy98ZW"
      }
    },
    {
      "cell_type": "code",
      "source": [
        "# тестирование\n",
        "trainer.test(model, dm)"
      ],
      "metadata": {
        "id": "y8m5UQ5igyKW",
        "colab": {
          "base_uri": "https://localhost:8080/",
          "height": 197,
          "referenced_widgets": [
            "80855fb531bf485083087ab7662de2c8",
            "f03de73a60c842589514b4afb1a12db0",
            "d505506cd6074b598f2d1f5f1efcd1db",
            "c655d11029564eedbe8ed28deb892196",
            "b3cf43f347264facb24f5950a1fda989",
            "1784a44cb8e545f98963006fa110f999",
            "7796b2d48ba440f789af3cb17d436e23",
            "de5d58a6a1f846d090bffe6a93000a27",
            "2aa2fb4d29fc4a37bd033fae2e77a33e",
            "a27dcace6e3141b19fd3d9ad2f5dafdd",
            "b31677d39d9141e5b23c9b323a5573d6"
          ]
        },
        "outputId": "ebe87af6-ae23-4159-b445-b0f669fab1ed"
      },
      "execution_count": null,
      "outputs": [
        {
          "output_type": "stream",
          "name": "stderr",
          "text": [
            "INFO:pytorch_lightning.accelerators.cuda:LOCAL_RANK: 0 - CUDA_VISIBLE_DEVICES: [0]\n"
          ]
        },
        {
          "output_type": "display_data",
          "data": {
            "text/plain": [
              "Testing: 0it [00:00, ?it/s]"
            ],
            "application/vnd.jupyter.widget-view+json": {
              "version_major": 2,
              "version_minor": 0,
              "model_id": "80855fb531bf485083087ab7662de2c8"
            }
          },
          "metadata": {}
        },
        {
          "output_type": "stream",
          "name": "stdout",
          "text": [
            "────────────────────────────────────────────────────────────────────────────────────────────────────────────────────────\n",
            "       Test metric             DataLoader 0\n",
            "────────────────────────────────────────────────────────────────────────────────────────────────────────────────────────\n",
            "        test_acc            0.6139705882352942\n",
            "        test_loss            1.411625780274763\n",
            "────────────────────────────────────────────────────────────────────────────────────────────────────────────────────────\n"
          ]
        },
        {
          "output_type": "execute_result",
          "data": {
            "text/plain": [
              "[{'test_loss': 1.411625780274763, 'test_acc': 0.6139705882352942}]"
            ]
          },
          "metadata": {},
          "execution_count": 45
        }
      ]
    },
    {
      "cell_type": "code",
      "source": [
        "%load_ext tensorboard\n",
        "%tensorboard --logdir /content/logs/efficientnet-b0"
      ],
      "metadata": {
        "id": "wvWBClP8nzI9"
      },
      "execution_count": null,
      "outputs": []
    },
    {
      "cell_type": "markdown",
      "source": [
        "<div style=\"float:left;margin:0 10px 10px 0\" markdown=\"1\">\n",
        "    <a href=\"#footer\"><img src='https://img.shields.io/badge/Наверх-&#x21A9-blue'></a>\n",
        "</div>\n",
        "\n",
        "___\n"
      ],
      "metadata": {
        "id": "cqcqC-2Q-A-K"
      }
    },
    {
      "cell_type": "markdown",
      "source": [
        "# Работа с моделью после обучения"
      ],
      "metadata": {
        "id": "bQq2BzjQ-DTY"
      }
    },
    {
      "cell_type": "code",
      "source": [
        "DEVICE = \"cuda\" if torch.cuda.is_available() else \"cpu\"\n",
        "weights = \"models/epoch=3_valid_acc=0.59_valid_loss=1.27.ckpt\"\n",
        "model = EffNetClassifier.load_from_checkpoint(weights)"
      ],
      "metadata": {
        "id": "NY54WA1-gz67",
        "colab": {
          "base_uri": "https://localhost:8080/"
        },
        "outputId": "c77a79e2-d0ee-422a-c02d-a2878f57c463"
      },
      "execution_count": null,
      "outputs": [
        {
          "output_type": "stream",
          "name": "stdout",
          "text": [
            "Loaded pretrained weights for efficientnet-b0\n"
          ]
        }
      ]
    },
    {
      "cell_type": "code",
      "source": [
        "model = model.to(DEVICE)"
      ],
      "metadata": {
        "id": "SFE-PlCbpKEx"
      },
      "execution_count": null,
      "outputs": []
    },
    {
      "cell_type": "code",
      "source": [
        "# test\n",
        "test = dm.test_dataloader()"
      ],
      "metadata": {
        "id": "_-dDsLhgpQQ2"
      },
      "execution_count": null,
      "outputs": []
    },
    {
      "cell_type": "code",
      "source": [
        "# список предсказаний\n",
        "predictions = []\n",
        "# список целевых\n",
        "targets = []\n",
        "# тут уже не забываем про eval() и no_grad()\n",
        "model.eval()\n",
        "with torch.no_grad():\n",
        "    # перебираем батчи в тесте\n",
        "    for X, y in tqdm(test):\n",
        "        # через argmax находим классы\n",
        "        outputs = torch.argmax(model(X.to(torch.float32).to(DEVICE)), 1)\n",
        "        predictions.append(outputs.detach())\n",
        "        targets.append(y.detach())\n",
        "    \n",
        "predictions = (torch.cat(predictions)).cpu().numpy() \n",
        "targets = (torch.cat(targets)).cpu().numpy()"
      ],
      "metadata": {
        "id": "hdktvlIapVbZ",
        "colab": {
          "base_uri": "https://localhost:8080/",
          "height": 49,
          "referenced_widgets": [
            "48b245bb65da4e3383af922768594c0a",
            "a4e1a6e28b8d4ed6b26097e379ef9f77",
            "bb24f57f3db84964826d96696e720996",
            "a811ce0cfcd54408aac79d1617769219",
            "b5e7a4bdc6ba4097b7de7d62ca98ec8c",
            "630b5261760744af887c1c100dec1e15",
            "cd1266e48b224662b98e0b19c0129bf5",
            "ce46f68046b04dc09c721c75a0c7d7fc",
            "5a25f9d10e93439ba2c46c6b34a88ead",
            "ebf1cec9cf174327873ff2286bd58405",
            "d57023896dc04b438c0a2bcbce990989"
          ]
        },
        "outputId": "acd3e2e6-758b-4081-d9d6-e5202cda1c52"
      },
      "execution_count": null,
      "outputs": [
        {
          "output_type": "display_data",
          "data": {
            "text/plain": [
              "  0%|          | 0/34 [00:00<?, ?it/s]"
            ],
            "application/vnd.jupyter.widget-view+json": {
              "version_major": 2,
              "version_minor": 0,
              "model_id": "48b245bb65da4e3383af922768594c0a"
            }
          },
          "metadata": {}
        }
      ]
    },
    {
      "cell_type": "code",
      "source": [
        "classes = dm.test_set.classes\n",
        "print(classification_report(targets, predictions, target_names=classes))"
      ],
      "metadata": {
        "id": "_ScDt5flqKX_",
        "colab": {
          "base_uri": "https://localhost:8080/"
        },
        "outputId": "aee77c61-1aef-4e59-945b-70ccb44f7f5d"
      },
      "execution_count": null,
      "outputs": [
        {
          "output_type": "stream",
          "name": "stdout",
          "text": [
            "                          precision    recall  f1-score   support\n",
            "\n",
            "      Aistnik_tsikutoviy       1.00      0.25      0.40         4\n",
            "          Bodyak_polevoi       0.64      0.71      0.67        78\n",
            "     China_klubnenosnaya       0.40      0.40      0.40         5\n",
            "      Gorchitsa_polevaya       0.00      0.00      0.00         2\n",
            "       Goroshek_mishiniy       0.00      0.00      0.00         2\n",
            "             Gortsy_vidy       0.56      0.74      0.64        31\n",
            "     Grechiha_tatarskaya       0.50      0.20      0.29        15\n",
            "   Kermek_shirokolistniy       0.00      0.00      0.00         2\n",
            "          Konskiy_shavel       0.00      0.00      0.00         2\n",
            "                   Kuray       0.00      0.00      0.00         2\n",
            "           Kurinoe_proso       0.00      0.00      0.00        11\n",
            "    Lebeda_Kopielistnaya       0.00      0.00      0.00         2\n",
            "     Lebeda_raskidistaya       0.00      0.00      0.00         3\n",
            "    Lipuchka_ezhevidnaya       0.00      0.00      0.00         5\n",
            "   Lnyanka_obiknovennaya       0.00      0.00      0.00         6\n",
            "              Mar_belaya       0.28      0.38      0.32        21\n",
            "         Molochai_lozniy       0.75      0.76      0.76        68\n",
            "        Molokan_tataskiy       0.52      0.57      0.54        23\n",
            "     Noneya_temno_buraya       0.00      0.00      0.00         8\n",
            "Oduvanchik_lekarstvenniy       1.00      0.40      0.57         5\n",
            "            Osot_polevoi       0.39      0.27      0.32        33\n",
            "      Ovsug_obiknovenniy       0.56      0.36      0.44        25\n",
            "      Padalica_pshenitsy       0.52      0.58      0.55        24\n",
            "           Padalitsa_Lna       0.00      0.00      0.00         4\n",
            "   Padalitsa_chechevitsy       0.00      0.00      0.00         2\n",
            "Padalitsa_podsolnechnika       0.00      0.00      0.00         4\n",
            "         Pastushya_sumka       0.17      0.14      0.15         7\n",
            "     Podmarennik_tsepkiy       0.00      0.00      0.00         2\n",
            "           Polyn_gorkaya       0.00      0.00      0.00         4\n",
            "          Polyn_polevaya       0.00      0.00      0.00         1\n",
            "    Prosovidnie_sornyaki       0.64      0.91      0.76       129\n",
            "\n",
            "                accuracy                           0.58       530\n",
            "               macro avg       0.26      0.22      0.22       530\n",
            "            weighted avg       0.53      0.58      0.54       530\n",
            "\n"
          ]
        }
      ]
    },
    {
      "cell_type": "code",
      "source": [
        "!wget https://cdnn1.img.sputnik.tj/img/07e5/06/1c/1040498811_0:183:2995:1867_1920x0_80_0_0_4f99b9f73fd1e3686d26f4de46c6bacf.jpg -O 001.jpg"
      ],
      "metadata": {
        "id": "JDx-Tulfq4QX",
        "colab": {
          "base_uri": "https://localhost:8080/"
        },
        "outputId": "d3888410-ffe6-485c-d1a0-b2635d45b226"
      },
      "execution_count": null,
      "outputs": [
        {
          "output_type": "stream",
          "name": "stdout",
          "text": [
            "--2023-02-23 07:15:18--  https://cdnn1.img.sputnik.tj/img/07e5/06/1c/1040498811_0:183:2995:1867_1920x0_80_0_0_4f99b9f73fd1e3686d26f4de46c6bacf.jpg\n",
            "Resolving cdnn1.img.sputnik.tj (cdnn1.img.sputnik.tj)... 185.40.155.13\n",
            "Connecting to cdnn1.img.sputnik.tj (cdnn1.img.sputnik.tj)|185.40.155.13|:443... connected.\n",
            "HTTP request sent, awaiting response... 200 OK\n",
            "Length: unspecified [image/jpeg]\n",
            "Saving to: ‘001.jpg’\n",
            "\n",
            "001.jpg                 [   <=>              ] 320.54K   540KB/s    in 0.6s    \n",
            "\n",
            "2023-02-23 07:15:21 (540 KB/s) - ‘001.jpg’ saved [328228]\n",
            "\n"
          ]
        }
      ]
    },
    {
      "cell_type": "code",
      "source": [],
      "metadata": {
        "id": "1Zt2jJ3YDsDH"
      },
      "execution_count": null,
      "outputs": []
    },
    {
      "cell_type": "code",
      "source": [
        "!dir /content/drive/MyDrive/weed_split/val/"
      ],
      "metadata": {
        "id": "gaCpqtI2DgLx",
        "colab": {
          "base_uri": "https://localhost:8080/"
        },
        "outputId": "ade59745-5fe0-4e33-d440-2719a4f241d8"
      },
      "execution_count": null,
      "outputs": [
        {
          "output_type": "stream",
          "name": "stdout",
          "text": [
            "dir: cannot access '/content/drive/MyDrive/weed_split/val/': No such file or directory\n"
          ]
        }
      ]
    },
    {
      "cell_type": "code",
      "source": [
        "img = Image.open(\"/content/weed_split/val/Molochai_lozniy/ce5b4e8f-3bdc-eae2-0581-877422077b87.jpg\")\n",
        "plt.axis(\"off\")\n",
        "plt.imshow(img);"
      ],
      "metadata": {
        "id": "kPfM8kEGq8wO",
        "colab": {
          "base_uri": "https://localhost:8080/",
          "height": 248
        },
        "outputId": "54c38e3f-7782-4b22-b33d-e8095ea23ef7"
      },
      "execution_count": null,
      "outputs": [
        {
          "output_type": "display_data",
          "data": {
            "text/plain": [
              "<Figure size 432x288 with 1 Axes>"
            ],
            "image/png": "[encoded data removed]"
          },
          "metadata": {}
        }
      ]
    },
    {
      "cell_type": "code",
      "source": [
        "input = transform_test(img)"
      ],
      "metadata": {
        "id": "jiEyFvLYrDyg"
      },
      "execution_count": null,
      "outputs": []
    },
    {
      "cell_type": "code",
      "source": [
        "input.size()"
      ],
      "metadata": {
        "id": "bKbdbDTCrSXz",
        "colab": {
          "base_uri": "https://localhost:8080/"
        },
        "outputId": "9edcf88f-99ab-4913-b2ce-97817c13bd8e"
      },
      "execution_count": null,
      "outputs": [
        {
          "output_type": "execute_result",
          "data": {
            "text/plain": [
              "torch.Size([3, 224, 224])"
            ]
          },
          "metadata": {},
          "execution_count": 84
        }
      ]
    },
    {
      "cell_type": "code",
      "source": [
        "input.unsqueeze(0).size()"
      ],
      "metadata": {
        "id": "jrieonjJrh6c",
        "colab": {
          "base_uri": "https://localhost:8080/"
        },
        "outputId": "0d8ccefd-e41f-4571-f252-8788b732bad4"
      },
      "execution_count": null,
      "outputs": [
        {
          "output_type": "execute_result",
          "data": {
            "text/plain": [
              "torch.Size([1, 3, 224, 224])"
            ]
          },
          "metadata": {},
          "execution_count": 85
        }
      ]
    },
    {
      "cell_type": "code",
      "source": [
        "model.eval()\n",
        "with torch.no_grad():\n",
        "  out = model(input.unsqueeze(0).to(DEVICE))"
      ],
      "metadata": {
        "id": "3NXIHUXurVMx"
      },
      "execution_count": null,
      "outputs": []
    },
    {
      "cell_type": "code",
      "source": [
        "out_vec = out.cpu().numpy()"
      ],
      "metadata": {
        "id": "F6ONzKMUrulh"
      },
      "execution_count": null,
      "outputs": []
    },
    {
      "cell_type": "code",
      "source": [
        "idx = np.argmax(out_vec)"
      ],
      "metadata": {
        "id": "1ACYD3Gdr2ab"
      },
      "execution_count": null,
      "outputs": []
    },
    {
      "cell_type": "code",
      "source": [
        "idx"
      ],
      "metadata": {
        "id": "6q8QYoOar5cM",
        "colab": {
          "base_uri": "https://localhost:8080/"
        },
        "outputId": "dfbf671e-38b0-4ee3-d4a3-c648f44b176e"
      },
      "execution_count": null,
      "outputs": [
        {
          "output_type": "execute_result",
          "data": {
            "text/plain": [
              "16"
            ]
          },
          "metadata": {},
          "execution_count": 89
        }
      ]
    },
    {
      "cell_type": "code",
      "source": [
        "dm.test_set.classes[idx]"
      ],
      "metadata": {
        "id": "68WJyG8fr6Qt",
        "colab": {
          "base_uri": "https://localhost:8080/",
          "height": 36
        },
        "outputId": "b63eabc0-52c1-4f76-8532-a72498384f3f"
      },
      "execution_count": null,
      "outputs": [
        {
          "output_type": "execute_result",
          "data": {
            "text/plain": [
              "'Molochai_lozniy'"
            ],
            "application/vnd.google.colaboratory.intrinsic+json": {
              "type": "string"
            }
          },
          "metadata": {},
          "execution_count": 90
        }
      ]
    },
    {
      "cell_type": "markdown",
      "source": [
        "<div style=\"float:left;margin:0 10px 10px 0\" markdown=\"1\">\n",
        "    <a href=\"#footer\"><img src='https://img.shields.io/badge/Наверх-&#x21A9-blue'></a>\n",
        "</div>\n",
        "\n",
        "___\n"
      ],
      "metadata": {
        "id": "6RQpZ8UJ-IPe"
      }
    },
    {
      "cell_type": "markdown",
      "source": [
        "# Полезные ссылки\n"
      ],
      "metadata": {
        "id": "jAQe1JRD72nH"
      }
    },
    {
      "cell_type": "markdown",
      "source": [
        "\n",
        "  \n",
        "\n",
        "- [pyTorch Lighning](https://www.pytorchlightning.ai/tutorials) - вспомогательная библиотка, которая помогает писать меньше кода для `pyTorch`\n",
        "- [Albumentations](https://albumentations.ai/docs/) - одна из лучших библиотек для аугментаций\n",
        "- [timm](https://github.com/rwightman/pytorch-image-models) - репозиторий зоопарка моделей `timm`\n",
        "- [SOTA](https://paperswithcode.com/sota) - поиск решений State-of-the-Art\n",
        "- [Обучение работы с captum](https://captum.ai/tutorials/Resnet_TorchVision_Interpret)\n",
        "\n",
        "\n"
      ],
      "metadata": {
        "id": "LHDoSVGK-fac"
      }
    },
    {
      "cell_type": "markdown",
      "source": [
        "<div style=\"float:left;margin:0 10px 10px 0\" markdown=\"1\">\n",
        "    <a href=\"#footer\"><img src='https://img.shields.io/badge/Наверх-&#x21A9-blue'></a>\n",
        "</div>\n",
        "\n",
        "___\n"
      ],
      "metadata": {
        "id": "hUwzLRYi77NY"
      }
    }
  ],
  "metadata": {
    "colab": {
      "provenance": [],
      "include_colab_link": true
    },
    "kernelspec": {
      "display_name": "Python 3",
      "name": "python3"
    },
    "language_info": {
      "name": "python"
    },
    "gpuClass": "standard",
    "widgets": {
      "application/vnd.jupyter.widget-state+json": {
        "f87ffb74156d4d979c6301f0faec0f85": {
          "model_module": "@jupyter-widgets/controls",
          "model_name": "HBoxModel",
          "model_module_version": "1.5.0",
          "state": {
            "_dom_classes": [],
            "_model_module": "@jupyter-widgets/controls",
            "_model_module_version": "1.5.0",
            "_model_name": "HBoxModel",
            "_view_count": null,
            "_view_module": "@jupyter-widgets/controls",
            "_view_module_version": "1.5.0",
            "_view_name": "HBoxView",
            "box_style": "",
            "children": [
              "IPY_MODEL_1c8e8c52387c41cd88a271c4efc2c180",
              "IPY_MODEL_4cdc97d36dfd47c684bd8bcc5e4cdf37",
              "IPY_MODEL_787b29d147c04f809f35610034010eed"
            ],
            "layout": "IPY_MODEL_0959b580e76b43fdab1aaac56c13912d"
          }
        },
        "1c8e8c52387c41cd88a271c4efc2c180": {
          "model_module": "@jupyter-widgets/controls",
          "model_name": "HTMLModel",
          "model_module_version": "1.5.0",
          "state": {
            "_dom_classes": [],
            "_model_module": "@jupyter-widgets/controls",
            "_model_module_version": "1.5.0",
            "_model_name": "HTMLModel",
            "_view_count": null,
            "_view_module": "@jupyter-widgets/controls",
            "_view_module_version": "1.5.0",
            "_view_name": "HTMLView",
            "description": "",
            "description_tooltip": null,
            "layout": "IPY_MODEL_5f6a4506d1fa43baab9c77aa5f00a332",
            "placeholder": "​",
            "style": "IPY_MODEL_478d07afbaaa45a89a2956cd6eec8c22",
            "value": "100%"
          }
        },
        "4cdc97d36dfd47c684bd8bcc5e4cdf37": {
          "model_module": "@jupyter-widgets/controls",
          "model_name": "FloatProgressModel",
          "model_module_version": "1.5.0",
          "state": {
            "_dom_classes": [],
            "_model_module": "@jupyter-widgets/controls",
            "_model_module_version": "1.5.0",
            "_model_name": "FloatProgressModel",
            "_view_count": null,
            "_view_module": "@jupyter-widgets/controls",
            "_view_module_version": "1.5.0",
            "_view_name": "ProgressView",
            "bar_style": "success",
            "description": "",
            "description_tooltip": null,
            "layout": "IPY_MODEL_3699e0673f764f1ea99b54cc347ccda1",
            "max": 21388428,
            "min": 0,
            "orientation": "horizontal",
            "style": "IPY_MODEL_67a953472d104fc583512ca4b9d0ab37",
            "value": 21388428
          }
        },
        "787b29d147c04f809f35610034010eed": {
          "model_module": "@jupyter-widgets/controls",
          "model_name": "HTMLModel",
          "model_module_version": "1.5.0",
          "state": {
            "_dom_classes": [],
            "_model_module": "@jupyter-widgets/controls",
            "_model_module_version": "1.5.0",
            "_model_name": "HTMLModel",
            "_view_count": null,
            "_view_module": "@jupyter-widgets/controls",
            "_view_module_version": "1.5.0",
            "_view_name": "HTMLView",
            "description": "",
            "description_tooltip": null,
            "layout": "IPY_MODEL_3874161097084a75819a0b843921607e",
            "placeholder": "​",
            "style": "IPY_MODEL_62792643924f479f8249d601adf77b4e",
            "value": " 20.4M/20.4M [00:01&lt;00:00, 13.3MB/s]"
          }
        },
        "0959b580e76b43fdab1aaac56c13912d": {
          "model_module": "@jupyter-widgets/base",
          "model_name": "LayoutModel",
          "model_module_version": "1.2.0",
          "state": {
            "_model_module": "@jupyter-widgets/base",
            "_model_module_version": "1.2.0",
            "_model_name": "LayoutModel",
            "_view_count": null,
            "_view_module": "@jupyter-widgets/base",
            "_view_module_version": "1.2.0",
            "_view_name": "LayoutView",
            "align_content": null,
            "align_items": null,
            "align_self": null,
            "border": null,
            "bottom": null,
            "display": null,
            "flex": null,
            "flex_flow": null,
            "grid_area": null,
            "grid_auto_columns": null,
            "grid_auto_flow": null,
            "grid_auto_rows": null,
            "grid_column": null,
            "grid_gap": null,
            "grid_row": null,
            "grid_template_areas": null,
            "grid_template_columns": null,
            "grid_template_rows": null,
            "height": null,
            "justify_content": null,
            "justify_items": null,
            "left": null,
            "margin": null,
            "max_height": null,
            "max_width": null,
            "min_height": null,
            "min_width": null,
            "object_fit": null,
            "object_position": null,
            "order": null,
            "overflow": null,
            "overflow_x": null,
            "overflow_y": null,
            "padding": null,
            "right": null,
            "top": null,
            "visibility": null,
            "width": null
          }
        },
        "5f6a4506d1fa43baab9c77aa5f00a332": {
          "model_module": "@jupyter-widgets/base",
          "model_name": "LayoutModel",
          "model_module_version": "1.2.0",
          "state": {
            "_model_module": "@jupyter-widgets/base",
            "_model_module_version": "1.2.0",
            "_model_name": "LayoutModel",
            "_view_count": null,
            "_view_module": "@jupyter-widgets/base",
            "_view_module_version": "1.2.0",
            "_view_name": "LayoutView",
            "align_content": null,
            "align_items": null,
            "align_self": null,
            "border": null,
            "bottom": null,
            "display": null,
            "flex": null,
            "flex_flow": null,
            "grid_area": null,
            "grid_auto_columns": null,
            "grid_auto_flow": null,
            "grid_auto_rows": null,
            "grid_column": null,
            "grid_gap": null,
            "grid_row": null,
            "grid_template_areas": null,
            "grid_template_columns": null,
            "grid_template_rows": null,
            "height": null,
            "justify_content": null,
            "justify_items": null,
            "left": null,
            "margin": null,
            "max_height": null,
            "max_width": null,
            "min_height": null,
            "min_width": null,
            "object_fit": null,
            "object_position": null,
            "order": null,
            "overflow": null,
            "overflow_x": null,
            "overflow_y": null,
            "padding": null,
            "right": null,
            "top": null,
            "visibility": null,
            "width": null
          }
        },
        "478d07afbaaa45a89a2956cd6eec8c22": {
          "model_module": "@jupyter-widgets/controls",
          "model_name": "DescriptionStyleModel",
          "model_module_version": "1.5.0",
          "state": {
            "_model_module": "@jupyter-widgets/controls",
            "_model_module_version": "1.5.0",
            "_model_name": "DescriptionStyleModel",
            "_view_count": null,
            "_view_module": "@jupyter-widgets/base",
            "_view_module_version": "1.2.0",
            "_view_name": "StyleView",
            "description_width": ""
          }
        },
        "3699e0673f764f1ea99b54cc347ccda1": {
          "model_module": "@jupyter-widgets/base",
          "model_name": "LayoutModel",
          "model_module_version": "1.2.0",
          "state": {
            "_model_module": "@jupyter-widgets/base",
            "_model_module_version": "1.2.0",
            "_model_name": "LayoutModel",
            "_view_count": null,
            "_view_module": "@jupyter-widgets/base",
            "_view_module_version": "1.2.0",
            "_view_name": "LayoutView",
            "align_content": null,
            "align_items": null,
            "align_self": null,
            "border": null,
            "bottom": null,
            "display": null,
            "flex": null,
            "flex_flow": null,
            "grid_area": null,
            "grid_auto_columns": null,
            "grid_auto_flow": null,
            "grid_auto_rows": null,
            "grid_column": null,
            "grid_gap": null,
            "grid_row": null,
            "grid_template_areas": null,
            "grid_template_columns": null,
            "grid_template_rows": null,
            "height": null,
            "justify_content": null,
            "justify_items": null,
            "left": null,
            "margin": null,
            "max_height": null,
            "max_width": null,
            "min_height": null,
            "min_width": null,
            "object_fit": null,
            "object_position": null,
            "order": null,
            "overflow": null,
            "overflow_x": null,
            "overflow_y": null,
            "padding": null,
            "right": null,
            "top": null,
            "visibility": null,
            "width": null
          }
        },
        "67a953472d104fc583512ca4b9d0ab37": {
          "model_module": "@jupyter-widgets/controls",
          "model_name": "ProgressStyleModel",
          "model_module_version": "1.5.0",
          "state": {
            "_model_module": "@jupyter-widgets/controls",
            "_model_module_version": "1.5.0",
            "_model_name": "ProgressStyleModel",
            "_view_count": null,
            "_view_module": "@jupyter-widgets/base",
            "_view_module_version": "1.2.0",
            "_view_name": "StyleView",
            "bar_color": null,
            "description_width": ""
          }
        },
        "3874161097084a75819a0b843921607e": {
          "model_module": "@jupyter-widgets/base",
          "model_name": "LayoutModel",
          "model_module_version": "1.2.0",
          "state": {
            "_model_module": "@jupyter-widgets/base",
            "_model_module_version": "1.2.0",
            "_model_name": "LayoutModel",
            "_view_count": null,
            "_view_module": "@jupyter-widgets/base",
            "_view_module_version": "1.2.0",
            "_view_name": "LayoutView",
            "align_content": null,
            "align_items": null,
            "align_self": null,
            "border": null,
            "bottom": null,
            "display": null,
            "flex": null,
            "flex_flow": null,
            "grid_area": null,
            "grid_auto_columns": null,
            "grid_auto_flow": null,
            "grid_auto_rows": null,
            "grid_column": null,
            "grid_gap": null,
            "grid_row": null,
            "grid_template_areas": null,
            "grid_template_columns": null,
            "grid_template_rows": null,
            "height": null,
            "justify_content": null,
            "justify_items": null,
            "left": null,
            "margin": null,
            "max_height": null,
            "max_width": null,
            "min_height": null,
            "min_width": null,
            "object_fit": null,
            "object_position": null,
            "order": null,
            "overflow": null,
            "overflow_x": null,
            "overflow_y": null,
            "padding": null,
            "right": null,
            "top": null,
            "visibility": null,
            "width": null
          }
        },
        "62792643924f479f8249d601adf77b4e": {
          "model_module": "@jupyter-widgets/controls",
          "model_name": "DescriptionStyleModel",
          "model_module_version": "1.5.0",
          "state": {
            "_model_module": "@jupyter-widgets/controls",
            "_model_module_version": "1.5.0",
            "_model_name": "DescriptionStyleModel",
            "_view_count": null,
            "_view_module": "@jupyter-widgets/base",
            "_view_module_version": "1.2.0",
            "_view_name": "StyleView",
            "description_width": ""
          }
        },
        "1851e68c27f14cfab195863b2f2fba4d": {
          "model_module": "@jupyter-widgets/controls",
          "model_name": "HBoxModel",
          "model_module_version": "1.5.0",
          "state": {
            "_dom_classes": [],
            "_model_module": "@jupyter-widgets/controls",
            "_model_module_version": "1.5.0",
            "_model_name": "HBoxModel",
            "_view_count": null,
            "_view_module": "@jupyter-widgets/controls",
            "_view_module_version": "1.5.0",
            "_view_name": "HBoxView",
            "box_style": "",
            "children": [
              "IPY_MODEL_f846709ee27f44c9b8ee59859492153b",
              "IPY_MODEL_eb3bf525f17c4ff1af9331eae18d5f9f",
              "IPY_MODEL_ab607883715944b1b7947ca0ddf4a95a"
            ],
            "layout": "IPY_MODEL_6cf89fb689b7444883db7c2b7878cd47"
          }
        },
        "f846709ee27f44c9b8ee59859492153b": {
          "model_module": "@jupyter-widgets/controls",
          "model_name": "HTMLModel",
          "model_module_version": "1.5.0",
          "state": {
            "_dom_classes": [],
            "_model_module": "@jupyter-widgets/controls",
            "_model_module_version": "1.5.0",
            "_model_name": "HTMLModel",
            "_view_count": null,
            "_view_module": "@jupyter-widgets/controls",
            "_view_module_version": "1.5.0",
            "_view_name": "HTMLView",
            "description": "",
            "description_tooltip": null,
            "layout": "IPY_MODEL_cc6439d54e944e0a86e83edb43502b42",
            "placeholder": "​",
            "style": "IPY_MODEL_a5145e69b44b4405aa715abc46ccc4b5",
            "value": "Sanity Checking DataLoader 0: 100%"
          }
        },
        "eb3bf525f17c4ff1af9331eae18d5f9f": {
          "model_module": "@jupyter-widgets/controls",
          "model_name": "FloatProgressModel",
          "model_module_version": "1.5.0",
          "state": {
            "_dom_classes": [],
            "_model_module": "@jupyter-widgets/controls",
            "_model_module_version": "1.5.0",
            "_model_name": "FloatProgressModel",
            "_view_count": null,
            "_view_module": "@jupyter-widgets/controls",
            "_view_module_version": "1.5.0",
            "_view_name": "ProgressView",
            "bar_style": "",
            "description": "",
            "description_tooltip": null,
            "layout": "IPY_MODEL_606d4177dc2e4f7494b58652af5be2ab",
            "max": 2,
            "min": 0,
            "orientation": "horizontal",
            "style": "IPY_MODEL_1cc99c126267450da706e7558d2bc4b3",
            "value": 2
          }
        },
        "ab607883715944b1b7947ca0ddf4a95a": {
          "model_module": "@jupyter-widgets/controls",
          "model_name": "HTMLModel",
          "model_module_version": "1.5.0",
          "state": {
            "_dom_classes": [],
            "_model_module": "@jupyter-widgets/controls",
            "_model_module_version": "1.5.0",
            "_model_name": "HTMLModel",
            "_view_count": null,
            "_view_module": "@jupyter-widgets/controls",
            "_view_module_version": "1.5.0",
            "_view_name": "HTMLView",
            "description": "",
            "description_tooltip": null,
            "layout": "IPY_MODEL_e1d513440f7c4707ba166de1e76a62bf",
            "placeholder": "​",
            "style": "IPY_MODEL_01872716647d42afa8e0977efefa85e6",
            "value": " 2/2 [00:09&lt;00:00,  4.65s/it]"
          }
        },
        "6cf89fb689b7444883db7c2b7878cd47": {
          "model_module": "@jupyter-widgets/base",
          "model_name": "LayoutModel",
          "model_module_version": "1.2.0",
          "state": {
            "_model_module": "@jupyter-widgets/base",
            "_model_module_version": "1.2.0",
            "_model_name": "LayoutModel",
            "_view_count": null,
            "_view_module": "@jupyter-widgets/base",
            "_view_module_version": "1.2.0",
            "_view_name": "LayoutView",
            "align_content": null,
            "align_items": null,
            "align_self": null,
            "border": null,
            "bottom": null,
            "display": "inline-flex",
            "flex": null,
            "flex_flow": "row wrap",
            "grid_area": null,
            "grid_auto_columns": null,
            "grid_auto_flow": null,
            "grid_auto_rows": null,
            "grid_column": null,
            "grid_gap": null,
            "grid_row": null,
            "grid_template_areas": null,
            "grid_template_columns": null,
            "grid_template_rows": null,
            "height": null,
            "justify_content": null,
            "justify_items": null,
            "left": null,
            "margin": null,
            "max_height": null,
            "max_width": null,
            "min_height": null,
            "min_width": null,
            "object_fit": null,
            "object_position": null,
            "order": null,
            "overflow": null,
            "overflow_x": null,
            "overflow_y": null,
            "padding": null,
            "right": null,
            "top": null,
            "visibility": "hidden",
            "width": "100%"
          }
        },
        "cc6439d54e944e0a86e83edb43502b42": {
          "model_module": "@jupyter-widgets/base",
          "model_name": "LayoutModel",
          "model_module_version": "1.2.0",
          "state": {
            "_model_module": "@jupyter-widgets/base",
            "_model_module_version": "1.2.0",
            "_model_name": "LayoutModel",
            "_view_count": null,
            "_view_module": "@jupyter-widgets/base",
            "_view_module_version": "1.2.0",
            "_view_name": "LayoutView",
            "align_content": null,
            "align_items": null,
            "align_self": null,
            "border": null,
            "bottom": null,
            "display": null,
            "flex": null,
            "flex_flow": null,
            "grid_area": null,
            "grid_auto_columns": null,
            "grid_auto_flow": null,
            "grid_auto_rows": null,
            "grid_column": null,
            "grid_gap": null,
            "grid_row": null,
            "grid_template_areas": null,
            "grid_template_columns": null,
            "grid_template_rows": null,
            "height": null,
            "justify_content": null,
            "justify_items": null,
            "left": null,
            "margin": null,
            "max_height": null,
            "max_width": null,
            "min_height": null,
            "min_width": null,
            "object_fit": null,
            "object_position": null,
            "order": null,
            "overflow": null,
            "overflow_x": null,
            "overflow_y": null,
            "padding": null,
            "right": null,
            "top": null,
            "visibility": null,
            "width": null
          }
        },
        "a5145e69b44b4405aa715abc46ccc4b5": {
          "model_module": "@jupyter-widgets/controls",
          "model_name": "DescriptionStyleModel",
          "model_module_version": "1.5.0",
          "state": {
            "_model_module": "@jupyter-widgets/controls",
            "_model_module_version": "1.5.0",
            "_model_name": "DescriptionStyleModel",
            "_view_count": null,
            "_view_module": "@jupyter-widgets/base",
            "_view_module_version": "1.2.0",
            "_view_name": "StyleView",
            "description_width": ""
          }
        },
        "606d4177dc2e4f7494b58652af5be2ab": {
          "model_module": "@jupyter-widgets/base",
          "model_name": "LayoutModel",
          "model_module_version": "1.2.0",
          "state": {
            "_model_module": "@jupyter-widgets/base",
            "_model_module_version": "1.2.0",
            "_model_name": "LayoutModel",
            "_view_count": null,
            "_view_module": "@jupyter-widgets/base",
            "_view_module_version": "1.2.0",
            "_view_name": "LayoutView",
            "align_content": null,
            "align_items": null,
            "align_self": null,
            "border": null,
            "bottom": null,
            "display": null,
            "flex": "2",
            "flex_flow": null,
            "grid_area": null,
            "grid_auto_columns": null,
            "grid_auto_flow": null,
            "grid_auto_rows": null,
            "grid_column": null,
            "grid_gap": null,
            "grid_row": null,
            "grid_template_areas": null,
            "grid_template_columns": null,
            "grid_template_rows": null,
            "height": null,
            "justify_content": null,
            "justify_items": null,
            "left": null,
            "margin": null,
            "max_height": null,
            "max_width": null,
            "min_height": null,
            "min_width": null,
            "object_fit": null,
            "object_position": null,
            "order": null,
            "overflow": null,
            "overflow_x": null,
            "overflow_y": null,
            "padding": null,
            "right": null,
            "top": null,
            "visibility": null,
            "width": null
          }
        },
        "1cc99c126267450da706e7558d2bc4b3": {
          "model_module": "@jupyter-widgets/controls",
          "model_name": "ProgressStyleModel",
          "model_module_version": "1.5.0",
          "state": {
            "_model_module": "@jupyter-widgets/controls",
            "_model_module_version": "1.5.0",
            "_model_name": "ProgressStyleModel",
            "_view_count": null,
            "_view_module": "@jupyter-widgets/base",
            "_view_module_version": "1.2.0",
            "_view_name": "StyleView",
            "bar_color": null,
            "description_width": ""
          }
        },
        "e1d513440f7c4707ba166de1e76a62bf": {
          "model_module": "@jupyter-widgets/base",
          "model_name": "LayoutModel",
          "model_module_version": "1.2.0",
          "state": {
            "_model_module": "@jupyter-widgets/base",
            "_model_module_version": "1.2.0",
            "_model_name": "LayoutModel",
            "_view_count": null,
            "_view_module": "@jupyter-widgets/base",
            "_view_module_version": "1.2.0",
            "_view_name": "LayoutView",
            "align_content": null,
            "align_items": null,
            "align_self": null,
            "border": null,
            "bottom": null,
            "display": null,
            "flex": null,
            "flex_flow": null,
            "grid_area": null,
            "grid_auto_columns": null,
            "grid_auto_flow": null,
            "grid_auto_rows": null,
            "grid_column": null,
            "grid_gap": null,
            "grid_row": null,
            "grid_template_areas": null,
            "grid_template_columns": null,
            "grid_template_rows": null,
            "height": null,
            "justify_content": null,
            "justify_items": null,
            "left": null,
            "margin": null,
            "max_height": null,
            "max_width": null,
            "min_height": null,
            "min_width": null,
            "object_fit": null,
            "object_position": null,
            "order": null,
            "overflow": null,
            "overflow_x": null,
            "overflow_y": null,
            "padding": null,
            "right": null,
            "top": null,
            "visibility": null,
            "width": null
          }
        },
        "01872716647d42afa8e0977efefa85e6": {
          "model_module": "@jupyter-widgets/controls",
          "model_name": "DescriptionStyleModel",
          "model_module_version": "1.5.0",
          "state": {
            "_model_module": "@jupyter-widgets/controls",
            "_model_module_version": "1.5.0",
            "_model_name": "DescriptionStyleModel",
            "_view_count": null,
            "_view_module": "@jupyter-widgets/base",
            "_view_module_version": "1.2.0",
            "_view_name": "StyleView",
            "description_width": ""
          }
        },
        "a2117f06107a4b9ba6ec5f508e394ef2": {
          "model_module": "@jupyter-widgets/controls",
          "model_name": "HBoxModel",
          "model_module_version": "1.5.0",
          "state": {
            "_dom_classes": [],
            "_model_module": "@jupyter-widgets/controls",
            "_model_module_version": "1.5.0",
            "_model_name": "HBoxModel",
            "_view_count": null,
            "_view_module": "@jupyter-widgets/controls",
            "_view_module_version": "1.5.0",
            "_view_name": "HBoxView",
            "box_style": "",
            "children": [
              "IPY_MODEL_45c432b0e45f4ad0be4c7ed0195d5c34",
              "IPY_MODEL_0c598ffee7b944d59295c3b6e75473a4",
              "IPY_MODEL_e08af5145f014c2c8ba74a34381fefcc"
            ],
            "layout": "IPY_MODEL_a672979eec47416d9b7d3a39bebe8b1b"
          }
        },
        "45c432b0e45f4ad0be4c7ed0195d5c34": {
          "model_module": "@jupyter-widgets/controls",
          "model_name": "HTMLModel",
          "model_module_version": "1.5.0",
          "state": {
            "_dom_classes": [],
            "_model_module": "@jupyter-widgets/controls",
            "_model_module_version": "1.5.0",
            "_model_name": "HTMLModel",
            "_view_count": null,
            "_view_module": "@jupyter-widgets/controls",
            "_view_module_version": "1.5.0",
            "_view_name": "HTMLView",
            "description": "",
            "description_tooltip": null,
            "layout": "IPY_MODEL_e75db31e10984be79caa44011d79d9fb",
            "placeholder": "​",
            "style": "IPY_MODEL_aac89fe0e1154402aa1ae8ecf102b996",
            "value": "Epoch 13: 100%"
          }
        },
        "0c598ffee7b944d59295c3b6e75473a4": {
          "model_module": "@jupyter-widgets/controls",
          "model_name": "FloatProgressModel",
          "model_module_version": "1.5.0",
          "state": {
            "_dom_classes": [],
            "_model_module": "@jupyter-widgets/controls",
            "_model_module_version": "1.5.0",
            "_model_name": "FloatProgressModel",
            "_view_count": null,
            "_view_module": "@jupyter-widgets/controls",
            "_view_module_version": "1.5.0",
            "_view_name": "ProgressView",
            "bar_style": "success",
            "description": "",
            "description_tooltip": null,
            "layout": "IPY_MODEL_82922ce56df6477aa829283d4a97b95b",
            "max": 283,
            "min": 0,
            "orientation": "horizontal",
            "style": "IPY_MODEL_2e18c628b1384f42a9e0fa8e4c975a55",
            "value": 283
          }
        },
        "e08af5145f014c2c8ba74a34381fefcc": {
          "model_module": "@jupyter-widgets/controls",
          "model_name": "HTMLModel",
          "model_module_version": "1.5.0",
          "state": {
            "_dom_classes": [],
            "_model_module": "@jupyter-widgets/controls",
            "_model_module_version": "1.5.0",
            "_model_name": "HTMLModel",
            "_view_count": null,
            "_view_module": "@jupyter-widgets/controls",
            "_view_module_version": "1.5.0",
            "_view_name": "HTMLView",
            "description": "",
            "description_tooltip": null,
            "layout": "IPY_MODEL_523240c8fdc646cda246787521e6ba69",
            "placeholder": "​",
            "style": "IPY_MODEL_d8f5be122957489a93dcdac237609b36",
            "value": " 283/283 [13:27&lt;00:00,  2.86s/it, loss=0.305, v_num=0, valid_loss=1.350, valid_acc=0.622, train_loss=0.277, train_acc=0.929]"
          }
        },
        "a672979eec47416d9b7d3a39bebe8b1b": {
          "model_module": "@jupyter-widgets/base",
          "model_name": "LayoutModel",
          "model_module_version": "1.2.0",
          "state": {
            "_model_module": "@jupyter-widgets/base",
            "_model_module_version": "1.2.0",
            "_model_name": "LayoutModel",
            "_view_count": null,
            "_view_module": "@jupyter-widgets/base",
            "_view_module_version": "1.2.0",
            "_view_name": "LayoutView",
            "align_content": null,
            "align_items": null,
            "align_self": null,
            "border": null,
            "bottom": null,
            "display": "inline-flex",
            "flex": null,
            "flex_flow": "row wrap",
            "grid_area": null,
            "grid_auto_columns": null,
            "grid_auto_flow": null,
            "grid_auto_rows": null,
            "grid_column": null,
            "grid_gap": null,
            "grid_row": null,
            "grid_template_areas": null,
            "grid_template_columns": null,
            "grid_template_rows": null,
            "height": null,
            "justify_content": null,
            "justify_items": null,
            "left": null,
            "margin": null,
            "max_height": null,
            "max_width": null,
            "min_height": null,
            "min_width": null,
            "object_fit": null,
            "object_position": null,
            "order": null,
            "overflow": null,
            "overflow_x": null,
            "overflow_y": null,
            "padding": null,
            "right": null,
            "top": null,
            "visibility": null,
            "width": "100%"
          }
        },
        "e75db31e10984be79caa44011d79d9fb": {
          "model_module": "@jupyter-widgets/base",
          "model_name": "LayoutModel",
          "model_module_version": "1.2.0",
          "state": {
            "_model_module": "@jupyter-widgets/base",
            "_model_module_version": "1.2.0",
            "_model_name": "LayoutModel",
            "_view_count": null,
            "_view_module": "@jupyter-widgets/base",
            "_view_module_version": "1.2.0",
            "_view_name": "LayoutView",
            "align_content": null,
            "align_items": null,
            "align_self": null,
            "border": null,
            "bottom": null,
            "display": null,
            "flex": null,
            "flex_flow": null,
            "grid_area": null,
            "grid_auto_columns": null,
            "grid_auto_flow": null,
            "grid_auto_rows": null,
            "grid_column": null,
            "grid_gap": null,
            "grid_row": null,
            "grid_template_areas": null,
            "grid_template_columns": null,
            "grid_template_rows": null,
            "height": null,
            "justify_content": null,
            "justify_items": null,
            "left": null,
            "margin": null,
            "max_height": null,
            "max_width": null,
            "min_height": null,
            "min_width": null,
            "object_fit": null,
            "object_position": null,
            "order": null,
            "overflow": null,
            "overflow_x": null,
            "overflow_y": null,
            "padding": null,
            "right": null,
            "top": null,
            "visibility": null,
            "width": null
          }
        },
        "aac89fe0e1154402aa1ae8ecf102b996": {
          "model_module": "@jupyter-widgets/controls",
          "model_name": "DescriptionStyleModel",
          "model_module_version": "1.5.0",
          "state": {
            "_model_module": "@jupyter-widgets/controls",
            "_model_module_version": "1.5.0",
            "_model_name": "DescriptionStyleModel",
            "_view_count": null,
            "_view_module": "@jupyter-widgets/base",
            "_view_module_version": "1.2.0",
            "_view_name": "StyleView",
            "description_width": ""
          }
        },
        "82922ce56df6477aa829283d4a97b95b": {
          "model_module": "@jupyter-widgets/base",
          "model_name": "LayoutModel",
          "model_module_version": "1.2.0",
          "state": {
            "_model_module": "@jupyter-widgets/base",
            "_model_module_version": "1.2.0",
            "_model_name": "LayoutModel",
            "_view_count": null,
            "_view_module": "@jupyter-widgets/base",
            "_view_module_version": "1.2.0",
            "_view_name": "LayoutView",
            "align_content": null,
            "align_items": null,
            "align_self": null,
            "border": null,
            "bottom": null,
            "display": null,
            "flex": "2",
            "flex_flow": null,
            "grid_area": null,
            "grid_auto_columns": null,
            "grid_auto_flow": null,
            "grid_auto_rows": null,
            "grid_column": null,
            "grid_gap": null,
            "grid_row": null,
            "grid_template_areas": null,
            "grid_template_columns": null,
            "grid_template_rows": null,
            "height": null,
            "justify_content": null,
            "justify_items": null,
            "left": null,
            "margin": null,
            "max_height": null,
            "max_width": null,
            "min_height": null,
            "min_width": null,
            "object_fit": null,
            "object_position": null,
            "order": null,
            "overflow": null,
            "overflow_x": null,
            "overflow_y": null,
            "padding": null,
            "right": null,
            "top": null,
            "visibility": null,
            "width": null
          }
        },
        "2e18c628b1384f42a9e0fa8e4c975a55": {
          "model_module": "@jupyter-widgets/controls",
          "model_name": "ProgressStyleModel",
          "model_module_version": "1.5.0",
          "state": {
            "_model_module": "@jupyter-widgets/controls",
            "_model_module_version": "1.5.0",
            "_model_name": "ProgressStyleModel",
            "_view_count": null,
            "_view_module": "@jupyter-widgets/base",
            "_view_module_version": "1.2.0",
            "_view_name": "StyleView",
            "bar_color": null,
            "description_width": ""
          }
        },
        "523240c8fdc646cda246787521e6ba69": {
          "model_module": "@jupyter-widgets/base",
          "model_name": "LayoutModel",
          "model_module_version": "1.2.0",
          "state": {
            "_model_module": "@jupyter-widgets/base",
            "_model_module_version": "1.2.0",
            "_model_name": "LayoutModel",
            "_view_count": null,
            "_view_module": "@jupyter-widgets/base",
            "_view_module_version": "1.2.0",
            "_view_name": "LayoutView",
            "align_content": null,
            "align_items": null,
            "align_self": null,
            "border": null,
            "bottom": null,
            "display": null,
            "flex": null,
            "flex_flow": null,
            "grid_area": null,
            "grid_auto_columns": null,
            "grid_auto_flow": null,
            "grid_auto_rows": null,
            "grid_column": null,
            "grid_gap": null,
            "grid_row": null,
            "grid_template_areas": null,
            "grid_template_columns": null,
            "grid_template_rows": null,
            "height": null,
            "justify_content": null,
            "justify_items": null,
            "left": null,
            "margin": null,
            "max_height": null,
            "max_width": null,
            "min_height": null,
            "min_width": null,
            "object_fit": null,
            "object_position": null,
            "order": null,
            "overflow": null,
            "overflow_x": null,
            "overflow_y": null,
            "padding": null,
            "right": null,
            "top": null,
            "visibility": null,
            "width": null
          }
        },
        "d8f5be122957489a93dcdac237609b36": {
          "model_module": "@jupyter-widgets/controls",
          "model_name": "DescriptionStyleModel",
          "model_module_version": "1.5.0",
          "state": {
            "_model_module": "@jupyter-widgets/controls",
            "_model_module_version": "1.5.0",
            "_model_name": "DescriptionStyleModel",
            "_view_count": null,
            "_view_module": "@jupyter-widgets/base",
            "_view_module_version": "1.2.0",
            "_view_name": "StyleView",
            "description_width": ""
          }
        },
        "f5cc0a7da2f04ff487eb89d6229bef6a": {
          "model_module": "@jupyter-widgets/controls",
          "model_name": "HBoxModel",
          "model_module_version": "1.5.0",
          "state": {
            "_dom_classes": [],
            "_model_module": "@jupyter-widgets/controls",
            "_model_module_version": "1.5.0",
            "_model_name": "HBoxModel",
            "_view_count": null,
            "_view_module": "@jupyter-widgets/controls",
            "_view_module_version": "1.5.0",
            "_view_name": "HBoxView",
            "box_style": "",
            "children": [
              "IPY_MODEL_d52426f2a96f4288bccfcbb505b4bde8",
              "IPY_MODEL_60dbd0f3f7f54b07b6822c23e5848aa4",
              "IPY_MODEL_3cdee57af863476893b5597826a52a3f"
            ],
            "layout": "IPY_MODEL_06dca44e0d794539a6059ea6ef81cac1"
          }
        },
        "d52426f2a96f4288bccfcbb505b4bde8": {
          "model_module": "@jupyter-widgets/controls",
          "model_name": "HTMLModel",
          "model_module_version": "1.5.0",
          "state": {
            "_dom_classes": [],
            "_model_module": "@jupyter-widgets/controls",
            "_model_module_version": "1.5.0",
            "_model_name": "HTMLModel",
            "_view_count": null,
            "_view_module": "@jupyter-widgets/controls",
            "_view_module_version": "1.5.0",
            "_view_name": "HTMLView",
            "description": "",
            "description_tooltip": null,
            "layout": "IPY_MODEL_9cb52b2b27224e94b12c4ff0a9bf62e6",
            "placeholder": "​",
            "style": "IPY_MODEL_fd57e259b36a432d8329f30cdb6e480e",
            "value": "Validation DataLoader 0: 100%"
          }
        },
        "60dbd0f3f7f54b07b6822c23e5848aa4": {
          "model_module": "@jupyter-widgets/controls",
          "model_name": "FloatProgressModel",
          "model_module_version": "1.5.0",
          "state": {
            "_dom_classes": [],
            "_model_module": "@jupyter-widgets/controls",
            "_model_module_version": "1.5.0",
            "_model_name": "FloatProgressModel",
            "_view_count": null,
            "_view_module": "@jupyter-widgets/controls",
            "_view_module_version": "1.5.0",
            "_view_name": "ProgressView",
            "bar_style": "",
            "description": "",
            "description_tooltip": null,
            "layout": "IPY_MODEL_effe2879f5b3456bb1b9c0f5d65a88ff",
            "max": 31,
            "min": 0,
            "orientation": "horizontal",
            "style": "IPY_MODEL_dcb1cad7dafa4003b61df95c379360a5",
            "value": 31
          }
        },
        "3cdee57af863476893b5597826a52a3f": {
          "model_module": "@jupyter-widgets/controls",
          "model_name": "HTMLModel",
          "model_module_version": "1.5.0",
          "state": {
            "_dom_classes": [],
            "_model_module": "@jupyter-widgets/controls",
            "_model_module_version": "1.5.0",
            "_model_name": "HTMLModel",
            "_view_count": null,
            "_view_module": "@jupyter-widgets/controls",
            "_view_module_version": "1.5.0",
            "_view_name": "HTMLView",
            "description": "",
            "description_tooltip": null,
            "layout": "IPY_MODEL_4309ad8565de47f485d50a9c2303cb70",
            "placeholder": "​",
            "style": "IPY_MODEL_3720ceed4d0041cdbace0715bf03ff38",
            "value": " 31/31 [01:23&lt;00:00,  2.69s/it]"
          }
        },
        "06dca44e0d794539a6059ea6ef81cac1": {
          "model_module": "@jupyter-widgets/base",
          "model_name": "LayoutModel",
          "model_module_version": "1.2.0",
          "state": {
            "_model_module": "@jupyter-widgets/base",
            "_model_module_version": "1.2.0",
            "_model_name": "LayoutModel",
            "_view_count": null,
            "_view_module": "@jupyter-widgets/base",
            "_view_module_version": "1.2.0",
            "_view_name": "LayoutView",
            "align_content": null,
            "align_items": null,
            "align_self": null,
            "border": null,
            "bottom": null,
            "display": "inline-flex",
            "flex": null,
            "flex_flow": "row wrap",
            "grid_area": null,
            "grid_auto_columns": null,
            "grid_auto_flow": null,
            "grid_auto_rows": null,
            "grid_column": null,
            "grid_gap": null,
            "grid_row": null,
            "grid_template_areas": null,
            "grid_template_columns": null,
            "grid_template_rows": null,
            "height": null,
            "justify_content": null,
            "justify_items": null,
            "left": null,
            "margin": null,
            "max_height": null,
            "max_width": null,
            "min_height": null,
            "min_width": null,
            "object_fit": null,
            "object_position": null,
            "order": null,
            "overflow": null,
            "overflow_x": null,
            "overflow_y": null,
            "padding": null,
            "right": null,
            "top": null,
            "visibility": "hidden",
            "width": "100%"
          }
        },
        "9cb52b2b27224e94b12c4ff0a9bf62e6": {
          "model_module": "@jupyter-widgets/base",
          "model_name": "LayoutModel",
          "model_module_version": "1.2.0",
          "state": {
            "_model_module": "@jupyter-widgets/base",
            "_model_module_version": "1.2.0",
            "_model_name": "LayoutModel",
            "_view_count": null,
            "_view_module": "@jupyter-widgets/base",
            "_view_module_version": "1.2.0",
            "_view_name": "LayoutView",
            "align_content": null,
            "align_items": null,
            "align_self": null,
            "border": null,
            "bottom": null,
            "display": null,
            "flex": null,
            "flex_flow": null,
            "grid_area": null,
            "grid_auto_columns": null,
            "grid_auto_flow": null,
            "grid_auto_rows": null,
            "grid_column": null,
            "grid_gap": null,
            "grid_row": null,
            "grid_template_areas": null,
            "grid_template_columns": null,
            "grid_template_rows": null,
            "height": null,
            "justify_content": null,
            "justify_items": null,
            "left": null,
            "margin": null,
            "max_height": null,
            "max_width": null,
            "min_height": null,
            "min_width": null,
            "object_fit": null,
            "object_position": null,
            "order": null,
            "overflow": null,
            "overflow_x": null,
            "overflow_y": null,
            "padding": null,
            "right": null,
            "top": null,
            "visibility": null,
            "width": null
          }
        },
        "fd57e259b36a432d8329f30cdb6e480e": {
          "model_module": "@jupyter-widgets/controls",
          "model_name": "DescriptionStyleModel",
          "model_module_version": "1.5.0",
          "state": {
            "_model_module": "@jupyter-widgets/controls",
            "_model_module_version": "1.5.0",
            "_model_name": "DescriptionStyleModel",
            "_view_count": null,
            "_view_module": "@jupyter-widgets/base",
            "_view_module_version": "1.2.0",
            "_view_name": "StyleView",
            "description_width": ""
          }
        },
        "effe2879f5b3456bb1b9c0f5d65a88ff": {
          "model_module": "@jupyter-widgets/base",
          "model_name": "LayoutModel",
          "model_module_version": "1.2.0",
          "state": {
            "_model_module": "@jupyter-widgets/base",
            "_model_module_version": "1.2.0",
            "_model_name": "LayoutModel",
            "_view_count": null,
            "_view_module": "@jupyter-widgets/base",
            "_view_module_version": "1.2.0",
            "_view_name": "LayoutView",
            "align_content": null,
            "align_items": null,
            "align_self": null,
            "border": null,
            "bottom": null,
            "display": null,
            "flex": "2",
            "flex_flow": null,
            "grid_area": null,
            "grid_auto_columns": null,
            "grid_auto_flow": null,
            "grid_auto_rows": null,
            "grid_column": null,
            "grid_gap": null,
            "grid_row": null,
            "grid_template_areas": null,
            "grid_template_columns": null,
            "grid_template_rows": null,
            "height": null,
            "justify_content": null,
            "justify_items": null,
            "left": null,
            "margin": null,
            "max_height": null,
            "max_width": null,
            "min_height": null,
            "min_width": null,
            "object_fit": null,
            "object_position": null,
            "order": null,
            "overflow": null,
            "overflow_x": null,
            "overflow_y": null,
            "padding": null,
            "right": null,
            "top": null,
            "visibility": null,
            "width": null
          }
        },
        "dcb1cad7dafa4003b61df95c379360a5": {
          "model_module": "@jupyter-widgets/controls",
          "model_name": "ProgressStyleModel",
          "model_module_version": "1.5.0",
          "state": {
            "_model_module": "@jupyter-widgets/controls",
            "_model_module_version": "1.5.0",
            "_model_name": "ProgressStyleModel",
            "_view_count": null,
            "_view_module": "@jupyter-widgets/base",
            "_view_module_version": "1.2.0",
            "_view_name": "StyleView",
            "bar_color": null,
            "description_width": ""
          }
        },
        "4309ad8565de47f485d50a9c2303cb70": {
          "model_module": "@jupyter-widgets/base",
          "model_name": "LayoutModel",
          "model_module_version": "1.2.0",
          "state": {
            "_model_module": "@jupyter-widgets/base",
            "_model_module_version": "1.2.0",
            "_model_name": "LayoutModel",
            "_view_count": null,
            "_view_module": "@jupyter-widgets/base",
            "_view_module_version": "1.2.0",
            "_view_name": "LayoutView",
            "align_content": null,
            "align_items": null,
            "align_self": null,
            "border": null,
            "bottom": null,
            "display": null,
            "flex": null,
            "flex_flow": null,
            "grid_area": null,
            "grid_auto_columns": null,
            "grid_auto_flow": null,
            "grid_auto_rows": null,
            "grid_column": null,
            "grid_gap": null,
            "grid_row": null,
            "grid_template_areas": null,
            "grid_template_columns": null,
            "grid_template_rows": null,
            "height": null,
            "justify_content": null,
            "justify_items": null,
            "left": null,
            "margin": null,
            "max_height": null,
            "max_width": null,
            "min_height": null,
            "min_width": null,
            "object_fit": null,
            "object_position": null,
            "order": null,
            "overflow": null,
            "overflow_x": null,
            "overflow_y": null,
            "padding": null,
            "right": null,
            "top": null,
            "visibility": null,
            "width": null
          }
        },
        "3720ceed4d0041cdbace0715bf03ff38": {
          "model_module": "@jupyter-widgets/controls",
          "model_name": "DescriptionStyleModel",
          "model_module_version": "1.5.0",
          "state": {
            "_model_module": "@jupyter-widgets/controls",
            "_model_module_version": "1.5.0",
            "_model_name": "DescriptionStyleModel",
            "_view_count": null,
            "_view_module": "@jupyter-widgets/base",
            "_view_module_version": "1.2.0",
            "_view_name": "StyleView",
            "description_width": ""
          }
        },
        "d911648d55d9479a84fe44e13d80cead": {
          "model_module": "@jupyter-widgets/controls",
          "model_name": "HBoxModel",
          "model_module_version": "1.5.0",
          "state": {
            "_dom_classes": [],
            "_model_module": "@jupyter-widgets/controls",
            "_model_module_version": "1.5.0",
            "_model_name": "HBoxModel",
            "_view_count": null,
            "_view_module": "@jupyter-widgets/controls",
            "_view_module_version": "1.5.0",
            "_view_name": "HBoxView",
            "box_style": "",
            "children": [
              "IPY_MODEL_1484fb5175de4cb9bb4743a7afe63e9a",
              "IPY_MODEL_4d21b2b61ad64a339133575eee421e5f",
              "IPY_MODEL_4f531b34b78c4c10bef5c7df2c53ddbe"
            ],
            "layout": "IPY_MODEL_3df298a2f721467293c5bed8c40f5af0"
          }
        },
        "1484fb5175de4cb9bb4743a7afe63e9a": {
          "model_module": "@jupyter-widgets/controls",
          "model_name": "HTMLModel",
          "model_module_version": "1.5.0",
          "state": {
            "_dom_classes": [],
            "_model_module": "@jupyter-widgets/controls",
            "_model_module_version": "1.5.0",
            "_model_name": "HTMLModel",
            "_view_count": null,
            "_view_module": "@jupyter-widgets/controls",
            "_view_module_version": "1.5.0",
            "_view_name": "HTMLView",
            "description": "",
            "description_tooltip": null,
            "layout": "IPY_MODEL_485333df8392412f8227edb69169d950",
            "placeholder": "​",
            "style": "IPY_MODEL_4a0f2b15b92b4ccbbc0c7eea1d6fd657",
            "value": "Validation DataLoader 0: 100%"
          }
        },
        "4d21b2b61ad64a339133575eee421e5f": {
          "model_module": "@jupyter-widgets/controls",
          "model_name": "FloatProgressModel",
          "model_module_version": "1.5.0",
          "state": {
            "_dom_classes": [],
            "_model_module": "@jupyter-widgets/controls",
            "_model_module_version": "1.5.0",
            "_model_name": "FloatProgressModel",
            "_view_count": null,
            "_view_module": "@jupyter-widgets/controls",
            "_view_module_version": "1.5.0",
            "_view_name": "ProgressView",
            "bar_style": "",
            "description": "",
            "description_tooltip": null,
            "layout": "IPY_MODEL_894c003f351949a391a53674a1c3cffa",
            "max": 31,
            "min": 0,
            "orientation": "horizontal",
            "style": "IPY_MODEL_b22e2334b11a48a798a2f4d8cff02dc4",
            "value": 31
          }
        },
        "4f531b34b78c4c10bef5c7df2c53ddbe": {
          "model_module": "@jupyter-widgets/controls",
          "model_name": "HTMLModel",
          "model_module_version": "1.5.0",
          "state": {
            "_dom_classes": [],
            "_model_module": "@jupyter-widgets/controls",
            "_model_module_version": "1.5.0",
            "_model_name": "HTMLModel",
            "_view_count": null,
            "_view_module": "@jupyter-widgets/controls",
            "_view_module_version": "1.5.0",
            "_view_name": "HTMLView",
            "description": "",
            "description_tooltip": null,
            "layout": "IPY_MODEL_42ae831b7eea4906924df249b811f8c9",
            "placeholder": "​",
            "style": "IPY_MODEL_eb837b118d2e4459aa065b0793c52867",
            "value": " 31/31 [01:22&lt;00:00,  2.65s/it]"
          }
        },
        "3df298a2f721467293c5bed8c40f5af0": {
          "model_module": "@jupyter-widgets/base",
          "model_name": "LayoutModel",
          "model_module_version": "1.2.0",
          "state": {
            "_model_module": "@jupyter-widgets/base",
            "_model_module_version": "1.2.0",
            "_model_name": "LayoutModel",
            "_view_count": null,
            "_view_module": "@jupyter-widgets/base",
            "_view_module_version": "1.2.0",
            "_view_name": "LayoutView",
            "align_content": null,
            "align_items": null,
            "align_self": null,
            "border": null,
            "bottom": null,
            "display": "inline-flex",
            "flex": null,
            "flex_flow": "row wrap",
            "grid_area": null,
            "grid_auto_columns": null,
            "grid_auto_flow": null,
            "grid_auto_rows": null,
            "grid_column": null,
            "grid_gap": null,
            "grid_row": null,
            "grid_template_areas": null,
            "grid_template_columns": null,
            "grid_template_rows": null,
            "height": null,
            "justify_content": null,
            "justify_items": null,
            "left": null,
            "margin": null,
            "max_height": null,
            "max_width": null,
            "min_height": null,
            "min_width": null,
            "object_fit": null,
            "object_position": null,
            "order": null,
            "overflow": null,
            "overflow_x": null,
            "overflow_y": null,
            "padding": null,
            "right": null,
            "top": null,
            "visibility": "hidden",
            "width": "100%"
          }
        },
        "485333df8392412f8227edb69169d950": {
          "model_module": "@jupyter-widgets/base",
          "model_name": "LayoutModel",
          "model_module_version": "1.2.0",
          "state": {
            "_model_module": "@jupyter-widgets/base",
            "_model_module_version": "1.2.0",
            "_model_name": "LayoutModel",
            "_view_count": null,
            "_view_module": "@jupyter-widgets/base",
            "_view_module_version": "1.2.0",
            "_view_name": "LayoutView",
            "align_content": null,
            "align_items": null,
            "align_self": null,
            "border": null,
            "bottom": null,
            "display": null,
            "flex": null,
            "flex_flow": null,
            "grid_area": null,
            "grid_auto_columns": null,
            "grid_auto_flow": null,
            "grid_auto_rows": null,
            "grid_column": null,
            "grid_gap": null,
            "grid_row": null,
            "grid_template_areas": null,
            "grid_template_columns": null,
            "grid_template_rows": null,
            "height": null,
            "justify_content": null,
            "justify_items": null,
            "left": null,
            "margin": null,
            "max_height": null,
            "max_width": null,
            "min_height": null,
            "min_width": null,
            "object_fit": null,
            "object_position": null,
            "order": null,
            "overflow": null,
            "overflow_x": null,
            "overflow_y": null,
            "padding": null,
            "right": null,
            "top": null,
            "visibility": null,
            "width": null
          }
        },
        "4a0f2b15b92b4ccbbc0c7eea1d6fd657": {
          "model_module": "@jupyter-widgets/controls",
          "model_name": "DescriptionStyleModel",
          "model_module_version": "1.5.0",
          "state": {
            "_model_module": "@jupyter-widgets/controls",
            "_model_module_version": "1.5.0",
            "_model_name": "DescriptionStyleModel",
            "_view_count": null,
            "_view_module": "@jupyter-widgets/base",
            "_view_module_version": "1.2.0",
            "_view_name": "StyleView",
            "description_width": ""
          }
        },
        "894c003f351949a391a53674a1c3cffa": {
          "model_module": "@jupyter-widgets/base",
          "model_name": "LayoutModel",
          "model_module_version": "1.2.0",
          "state": {
            "_model_module": "@jupyter-widgets/base",
            "_model_module_version": "1.2.0",
            "_model_name": "LayoutModel",
            "_view_count": null,
            "_view_module": "@jupyter-widgets/base",
            "_view_module_version": "1.2.0",
            "_view_name": "LayoutView",
            "align_content": null,
            "align_items": null,
            "align_self": null,
            "border": null,
            "bottom": null,
            "display": null,
            "flex": "2",
            "flex_flow": null,
            "grid_area": null,
            "grid_auto_columns": null,
            "grid_auto_flow": null,
            "grid_auto_rows": null,
            "grid_column": null,
            "grid_gap": null,
            "grid_row": null,
            "grid_template_areas": null,
            "grid_template_columns": null,
            "grid_template_rows": null,
            "height": null,
            "justify_content": null,
            "justify_items": null,
            "left": null,
            "margin": null,
            "max_height": null,
            "max_width": null,
            "min_height": null,
            "min_width": null,
            "object_fit": null,
            "object_position": null,
            "order": null,
            "overflow": null,
            "overflow_x": null,
            "overflow_y": null,
            "padding": null,
            "right": null,
            "top": null,
            "visibility": null,
            "width": null
          }
        },
        "b22e2334b11a48a798a2f4d8cff02dc4": {
          "model_module": "@jupyter-widgets/controls",
          "model_name": "ProgressStyleModel",
          "model_module_version": "1.5.0",
          "state": {
            "_model_module": "@jupyter-widgets/controls",
            "_model_module_version": "1.5.0",
            "_model_name": "ProgressStyleModel",
            "_view_count": null,
            "_view_module": "@jupyter-widgets/base",
            "_view_module_version": "1.2.0",
            "_view_name": "StyleView",
            "bar_color": null,
            "description_width": ""
          }
        },
        "42ae831b7eea4906924df249b811f8c9": {
          "model_module": "@jupyter-widgets/base",
          "model_name": "LayoutModel",
          "model_module_version": "1.2.0",
          "state": {
            "_model_module": "@jupyter-widgets/base",
            "_model_module_version": "1.2.0",
            "_model_name": "LayoutModel",
            "_view_count": null,
            "_view_module": "@jupyter-widgets/base",
            "_view_module_version": "1.2.0",
            "_view_name": "LayoutView",
            "align_content": null,
            "align_items": null,
            "align_self": null,
            "border": null,
            "bottom": null,
            "display": null,
            "flex": null,
            "flex_flow": null,
            "grid_area": null,
            "grid_auto_columns": null,
            "grid_auto_flow": null,
            "grid_auto_rows": null,
            "grid_column": null,
            "grid_gap": null,
            "grid_row": null,
            "grid_template_areas": null,
            "grid_template_columns": null,
            "grid_template_rows": null,
            "height": null,
            "justify_content": null,
            "justify_items": null,
            "left": null,
            "margin": null,
            "max_height": null,
            "max_width": null,
            "min_height": null,
            "min_width": null,
            "object_fit": null,
            "object_position": null,
            "order": null,
            "overflow": null,
            "overflow_x": null,
            "overflow_y": null,
            "padding": null,
            "right": null,
            "top": null,
            "visibility": null,
            "width": null
          }
        },
        "eb837b118d2e4459aa065b0793c52867": {
          "model_module": "@jupyter-widgets/controls",
          "model_name": "DescriptionStyleModel",
          "model_module_version": "1.5.0",
          "state": {
            "_model_module": "@jupyter-widgets/controls",
            "_model_module_version": "1.5.0",
            "_model_name": "DescriptionStyleModel",
            "_view_count": null,
            "_view_module": "@jupyter-widgets/base",
            "_view_module_version": "1.2.0",
            "_view_name": "StyleView",
            "description_width": ""
          }
        },
        "354ba0527bc44e1f860a1bcb0c87b15d": {
          "model_module": "@jupyter-widgets/controls",
          "model_name": "HBoxModel",
          "model_module_version": "1.5.0",
          "state": {
            "_dom_classes": [],
            "_model_module": "@jupyter-widgets/controls",
            "_model_module_version": "1.5.0",
            "_model_name": "HBoxModel",
            "_view_count": null,
            "_view_module": "@jupyter-widgets/controls",
            "_view_module_version": "1.5.0",
            "_view_name": "HBoxView",
            "box_style": "",
            "children": [
              "IPY_MODEL_f94ff03059d846a7b9378a6702f77552",
              "IPY_MODEL_869bd8c257a0447f9342210ed4552a27",
              "IPY_MODEL_37b2d42a954745b7b98c094f209df07f"
            ],
            "layout": "IPY_MODEL_c9d0c6308f724fbcb49539a67e785b46"
          }
        },
        "f94ff03059d846a7b9378a6702f77552": {
          "model_module": "@jupyter-widgets/controls",
          "model_name": "HTMLModel",
          "model_module_version": "1.5.0",
          "state": {
            "_dom_classes": [],
            "_model_module": "@jupyter-widgets/controls",
            "_model_module_version": "1.5.0",
            "_model_name": "HTMLModel",
            "_view_count": null,
            "_view_module": "@jupyter-widgets/controls",
            "_view_module_version": "1.5.0",
            "_view_name": "HTMLView",
            "description": "",
            "description_tooltip": null,
            "layout": "IPY_MODEL_8fd1e63fb350436f8f81c7a370f0b70c",
            "placeholder": "​",
            "style": "IPY_MODEL_5219be8b6ee3432ca8d80c78876aa778",
            "value": "Validation DataLoader 0: 100%"
          }
        },
        "869bd8c257a0447f9342210ed4552a27": {
          "model_module": "@jupyter-widgets/controls",
          "model_name": "FloatProgressModel",
          "model_module_version": "1.5.0",
          "state": {
            "_dom_classes": [],
            "_model_module": "@jupyter-widgets/controls",
            "_model_module_version": "1.5.0",
            "_model_name": "FloatProgressModel",
            "_view_count": null,
            "_view_module": "@jupyter-widgets/controls",
            "_view_module_version": "1.5.0",
            "_view_name": "ProgressView",
            "bar_style": "",
            "description": "",
            "description_tooltip": null,
            "layout": "IPY_MODEL_8a4434365d3e47e1bf76ae6fba9610bc",
            "max": 31,
            "min": 0,
            "orientation": "horizontal",
            "style": "IPY_MODEL_753ca83c7d1043efae5250036bddf7f3",
            "value": 31
          }
        },
        "37b2d42a954745b7b98c094f209df07f": {
          "model_module": "@jupyter-widgets/controls",
          "model_name": "HTMLModel",
          "model_module_version": "1.5.0",
          "state": {
            "_dom_classes": [],
            "_model_module": "@jupyter-widgets/controls",
            "_model_module_version": "1.5.0",
            "_model_name": "HTMLModel",
            "_view_count": null,
            "_view_module": "@jupyter-widgets/controls",
            "_view_module_version": "1.5.0",
            "_view_name": "HTMLView",
            "description": "",
            "description_tooltip": null,
            "layout": "IPY_MODEL_6f3529c0fa614eb2833ddfe184ae320d",
            "placeholder": "​",
            "style": "IPY_MODEL_53adc6fef35947589454d96c0843faca",
            "value": " 31/31 [01:22&lt;00:00,  2.66s/it]"
          }
        },
        "c9d0c6308f724fbcb49539a67e785b46": {
          "model_module": "@jupyter-widgets/base",
          "model_name": "LayoutModel",
          "model_module_version": "1.2.0",
          "state": {
            "_model_module": "@jupyter-widgets/base",
            "_model_module_version": "1.2.0",
            "_model_name": "LayoutModel",
            "_view_count": null,
            "_view_module": "@jupyter-widgets/base",
            "_view_module_version": "1.2.0",
            "_view_name": "LayoutView",
            "align_content": null,
            "align_items": null,
            "align_self": null,
            "border": null,
            "bottom": null,
            "display": "inline-flex",
            "flex": null,
            "flex_flow": "row wrap",
            "grid_area": null,
            "grid_auto_columns": null,
            "grid_auto_flow": null,
            "grid_auto_rows": null,
            "grid_column": null,
            "grid_gap": null,
            "grid_row": null,
            "grid_template_areas": null,
            "grid_template_columns": null,
            "grid_template_rows": null,
            "height": null,
            "justify_content": null,
            "justify_items": null,
            "left": null,
            "margin": null,
            "max_height": null,
            "max_width": null,
            "min_height": null,
            "min_width": null,
            "object_fit": null,
            "object_position": null,
            "order": null,
            "overflow": null,
            "overflow_x": null,
            "overflow_y": null,
            "padding": null,
            "right": null,
            "top": null,
            "visibility": "hidden",
            "width": "100%"
          }
        },
        "8fd1e63fb350436f8f81c7a370f0b70c": {
          "model_module": "@jupyter-widgets/base",
          "model_name": "LayoutModel",
          "model_module_version": "1.2.0",
          "state": {
            "_model_module": "@jupyter-widgets/base",
            "_model_module_version": "1.2.0",
            "_model_name": "LayoutModel",
            "_view_count": null,
            "_view_module": "@jupyter-widgets/base",
            "_view_module_version": "1.2.0",
            "_view_name": "LayoutView",
            "align_content": null,
            "align_items": null,
            "align_self": null,
            "border": null,
            "bottom": null,
            "display": null,
            "flex": null,
            "flex_flow": null,
            "grid_area": null,
            "grid_auto_columns": null,
            "grid_auto_flow": null,
            "grid_auto_rows": null,
            "grid_column": null,
            "grid_gap": null,
            "grid_row": null,
            "grid_template_areas": null,
            "grid_template_columns": null,
            "grid_template_rows": null,
            "height": null,
            "justify_content": null,
            "justify_items": null,
            "left": null,
            "margin": null,
            "max_height": null,
            "max_width": null,
            "min_height": null,
            "min_width": null,
            "object_fit": null,
            "object_position": null,
            "order": null,
            "overflow": null,
            "overflow_x": null,
            "overflow_y": null,
            "padding": null,
            "right": null,
            "top": null,
            "visibility": null,
            "width": null
          }
        },
        "5219be8b6ee3432ca8d80c78876aa778": {
          "model_module": "@jupyter-widgets/controls",
          "model_name": "DescriptionStyleModel",
          "model_module_version": "1.5.0",
          "state": {
            "_model_module": "@jupyter-widgets/controls",
            "_model_module_version": "1.5.0",
            "_model_name": "DescriptionStyleModel",
            "_view_count": null,
            "_view_module": "@jupyter-widgets/base",
            "_view_module_version": "1.2.0",
            "_view_name": "StyleView",
            "description_width": ""
          }
        },
        "8a4434365d3e47e1bf76ae6fba9610bc": {
          "model_module": "@jupyter-widgets/base",
          "model_name": "LayoutModel",
          "model_module_version": "1.2.0",
          "state": {
            "_model_module": "@jupyter-widgets/base",
            "_model_module_version": "1.2.0",
            "_model_name": "LayoutModel",
            "_view_count": null,
            "_view_module": "@jupyter-widgets/base",
            "_view_module_version": "1.2.0",
            "_view_name": "LayoutView",
            "align_content": null,
            "align_items": null,
            "align_self": null,
            "border": null,
            "bottom": null,
            "display": null,
            "flex": "2",
            "flex_flow": null,
            "grid_area": null,
            "grid_auto_columns": null,
            "grid_auto_flow": null,
            "grid_auto_rows": null,
            "grid_column": null,
            "grid_gap": null,
            "grid_row": null,
            "grid_template_areas": null,
            "grid_template_columns": null,
            "grid_template_rows": null,
            "height": null,
            "justify_content": null,
            "justify_items": null,
            "left": null,
            "margin": null,
            "max_height": null,
            "max_width": null,
            "min_height": null,
            "min_width": null,
            "object_fit": null,
            "object_position": null,
            "order": null,
            "overflow": null,
            "overflow_x": null,
            "overflow_y": null,
            "padding": null,
            "right": null,
            "top": null,
            "visibility": null,
            "width": null
          }
        },
        "753ca83c7d1043efae5250036bddf7f3": {
          "model_module": "@jupyter-widgets/controls",
          "model_name": "ProgressStyleModel",
          "model_module_version": "1.5.0",
          "state": {
            "_model_module": "@jupyter-widgets/controls",
            "_model_module_version": "1.5.0",
            "_model_name": "ProgressStyleModel",
            "_view_count": null,
            "_view_module": "@jupyter-widgets/base",
            "_view_module_version": "1.2.0",
            "_view_name": "StyleView",
            "bar_color": null,
            "description_width": ""
          }
        },
        "6f3529c0fa614eb2833ddfe184ae320d": {
          "model_module": "@jupyter-widgets/base",
          "model_name": "LayoutModel",
          "model_module_version": "1.2.0",
          "state": {
            "_model_module": "@jupyter-widgets/base",
            "_model_module_version": "1.2.0",
            "_model_name": "LayoutModel",
            "_view_count": null,
            "_view_module": "@jupyter-widgets/base",
            "_view_module_version": "1.2.0",
            "_view_name": "LayoutView",
            "align_content": null,
            "align_items": null,
            "align_self": null,
            "border": null,
            "bottom": null,
            "display": null,
            "flex": null,
            "flex_flow": null,
            "grid_area": null,
            "grid_auto_columns": null,
            "grid_auto_flow": null,
            "grid_auto_rows": null,
            "grid_column": null,
            "grid_gap": null,
            "grid_row": null,
            "grid_template_areas": null,
            "grid_template_columns": null,
            "grid_template_rows": null,
            "height": null,
            "justify_content": null,
            "justify_items": null,
            "left": null,
            "margin": null,
            "max_height": null,
            "max_width": null,
            "min_height": null,
            "min_width": null,
            "object_fit": null,
            "object_position": null,
            "order": null,
            "overflow": null,
            "overflow_x": null,
            "overflow_y": null,
            "padding": null,
            "right": null,
            "top": null,
            "visibility": null,
            "width": null
          }
        },
        "53adc6fef35947589454d96c0843faca": {
          "model_module": "@jupyter-widgets/controls",
          "model_name": "DescriptionStyleModel",
          "model_module_version": "1.5.0",
          "state": {
            "_model_module": "@jupyter-widgets/controls",
            "_model_module_version": "1.5.0",
            "_model_name": "DescriptionStyleModel",
            "_view_count": null,
            "_view_module": "@jupyter-widgets/base",
            "_view_module_version": "1.2.0",
            "_view_name": "StyleView",
            "description_width": ""
          }
        },
        "dc8c16a9f609446d8c1f88e1b672698a": {
          "model_module": "@jupyter-widgets/controls",
          "model_name": "HBoxModel",
          "model_module_version": "1.5.0",
          "state": {
            "_dom_classes": [],
            "_model_module": "@jupyter-widgets/controls",
            "_model_module_version": "1.5.0",
            "_model_name": "HBoxModel",
            "_view_count": null,
            "_view_module": "@jupyter-widgets/controls",
            "_view_module_version": "1.5.0",
            "_view_name": "HBoxView",
            "box_style": "",
            "children": [
              "IPY_MODEL_ecff0b52dfc54365b0157c1e5d33ab55",
              "IPY_MODEL_38b91d4628814973b8382278f7c6fddd",
              "IPY_MODEL_302f54d7b8664638a91aa1f252695f78"
            ],
            "layout": "IPY_MODEL_0c77eba0972d4828a36f0982529ccc46"
          }
        },
        "ecff0b52dfc54365b0157c1e5d33ab55": {
          "model_module": "@jupyter-widgets/controls",
          "model_name": "HTMLModel",
          "model_module_version": "1.5.0",
          "state": {
            "_dom_classes": [],
            "_model_module": "@jupyter-widgets/controls",
            "_model_module_version": "1.5.0",
            "_model_name": "HTMLModel",
            "_view_count": null,
            "_view_module": "@jupyter-widgets/controls",
            "_view_module_version": "1.5.0",
            "_view_name": "HTMLView",
            "description": "",
            "description_tooltip": null,
            "layout": "IPY_MODEL_bedae48af8874034a42912e28c5aa3f7",
            "placeholder": "​",
            "style": "IPY_MODEL_5d6f8f7ddce94b14ab8dfc70ea48f017",
            "value": "Validation DataLoader 0: 100%"
          }
        },
        "38b91d4628814973b8382278f7c6fddd": {
          "model_module": "@jupyter-widgets/controls",
          "model_name": "FloatProgressModel",
          "model_module_version": "1.5.0",
          "state": {
            "_dom_classes": [],
            "_model_module": "@jupyter-widgets/controls",
            "_model_module_version": "1.5.0",
            "_model_name": "FloatProgressModel",
            "_view_count": null,
            "_view_module": "@jupyter-widgets/controls",
            "_view_module_version": "1.5.0",
            "_view_name": "ProgressView",
            "bar_style": "",
            "description": "",
            "description_tooltip": null,
            "layout": "IPY_MODEL_36d3bc879fc14b3ba5571ac4097e4178",
            "max": 31,
            "min": 0,
            "orientation": "horizontal",
            "style": "IPY_MODEL_ee0d4aa64038490f8d467931e3077877",
            "value": 31
          }
        },
        "302f54d7b8664638a91aa1f252695f78": {
          "model_module": "@jupyter-widgets/controls",
          "model_name": "HTMLModel",
          "model_module_version": "1.5.0",
          "state": {
            "_dom_classes": [],
            "_model_module": "@jupyter-widgets/controls",
            "_model_module_version": "1.5.0",
            "_model_name": "HTMLModel",
            "_view_count": null,
            "_view_module": "@jupyter-widgets/controls",
            "_view_module_version": "1.5.0",
            "_view_name": "HTMLView",
            "description": "",
            "description_tooltip": null,
            "layout": "IPY_MODEL_19370c5a7db7410c832122b577b70ca8",
            "placeholder": "​",
            "style": "IPY_MODEL_cb549f1a9dbc468cacff4bd58166bf10",
            "value": " 31/31 [01:22&lt;00:00,  2.66s/it]"
          }
        },
        "0c77eba0972d4828a36f0982529ccc46": {
          "model_module": "@jupyter-widgets/base",
          "model_name": "LayoutModel",
          "model_module_version": "1.2.0",
          "state": {
            "_model_module": "@jupyter-widgets/base",
            "_model_module_version": "1.2.0",
            "_model_name": "LayoutModel",
            "_view_count": null,
            "_view_module": "@jupyter-widgets/base",
            "_view_module_version": "1.2.0",
            "_view_name": "LayoutView",
            "align_content": null,
            "align_items": null,
            "align_self": null,
            "border": null,
            "bottom": null,
            "display": "inline-flex",
            "flex": null,
            "flex_flow": "row wrap",
            "grid_area": null,
            "grid_auto_columns": null,
            "grid_auto_flow": null,
            "grid_auto_rows": null,
            "grid_column": null,
            "grid_gap": null,
            "grid_row": null,
            "grid_template_areas": null,
            "grid_template_columns": null,
            "grid_template_rows": null,
            "height": null,
            "justify_content": null,
            "justify_items": null,
            "left": null,
            "margin": null,
            "max_height": null,
            "max_width": null,
            "min_height": null,
            "min_width": null,
            "object_fit": null,
            "object_position": null,
            "order": null,
            "overflow": null,
            "overflow_x": null,
            "overflow_y": null,
            "padding": null,
            "right": null,
            "top": null,
            "visibility": "hidden",
            "width": "100%"
          }
        },
        "bedae48af8874034a42912e28c5aa3f7": {
          "model_module": "@jupyter-widgets/base",
          "model_name": "LayoutModel",
          "model_module_version": "1.2.0",
          "state": {
            "_model_module": "@jupyter-widgets/base",
            "_model_module_version": "1.2.0",
            "_model_name": "LayoutModel",
            "_view_count": null,
            "_view_module": "@jupyter-widgets/base",
            "_view_module_version": "1.2.0",
            "_view_name": "LayoutView",
            "align_content": null,
            "align_items": null,
            "align_self": null,
            "border": null,
            "bottom": null,
            "display": null,
            "flex": null,
            "flex_flow": null,
            "grid_area": null,
            "grid_auto_columns": null,
            "grid_auto_flow": null,
            "grid_auto_rows": null,
            "grid_column": null,
            "grid_gap": null,
            "grid_row": null,
            "grid_template_areas": null,
            "grid_template_columns": null,
            "grid_template_rows": null,
            "height": null,
            "justify_content": null,
            "justify_items": null,
            "left": null,
            "margin": null,
            "max_height": null,
            "max_width": null,
            "min_height": null,
            "min_width": null,
            "object_fit": null,
            "object_position": null,
            "order": null,
            "overflow": null,
            "overflow_x": null,
            "overflow_y": null,
            "padding": null,
            "right": null,
            "top": null,
            "visibility": null,
            "width": null
          }
        },
        "5d6f8f7ddce94b14ab8dfc70ea48f017": {
          "model_module": "@jupyter-widgets/controls",
          "model_name": "DescriptionStyleModel",
          "model_module_version": "1.5.0",
          "state": {
            "_model_module": "@jupyter-widgets/controls",
            "_model_module_version": "1.5.0",
            "_model_name": "DescriptionStyleModel",
            "_view_count": null,
            "_view_module": "@jupyter-widgets/base",
            "_view_module_version": "1.2.0",
            "_view_name": "StyleView",
            "description_width": ""
          }
        },
        "36d3bc879fc14b3ba5571ac4097e4178": {
          "model_module": "@jupyter-widgets/base",
          "model_name": "LayoutModel",
          "model_module_version": "1.2.0",
          "state": {
            "_model_module": "@jupyter-widgets/base",
            "_model_module_version": "1.2.0",
            "_model_name": "LayoutModel",
            "_view_count": null,
            "_view_module": "@jupyter-widgets/base",
            "_view_module_version": "1.2.0",
            "_view_name": "LayoutView",
            "align_content": null,
            "align_items": null,
            "align_self": null,
            "border": null,
            "bottom": null,
            "display": null,
            "flex": "2",
            "flex_flow": null,
            "grid_area": null,
            "grid_auto_columns": null,
            "grid_auto_flow": null,
            "grid_auto_rows": null,
            "grid_column": null,
            "grid_gap": null,
            "grid_row": null,
            "grid_template_areas": null,
            "grid_template_columns": null,
            "grid_template_rows": null,
            "height": null,
            "justify_content": null,
            "justify_items": null,
            "left": null,
            "margin": null,
            "max_height": null,
            "max_width": null,
            "min_height": null,
            "min_width": null,
            "object_fit": null,
            "object_position": null,
            "order": null,
            "overflow": null,
            "overflow_x": null,
            "overflow_y": null,
            "padding": null,
            "right": null,
            "top": null,
            "visibility": null,
            "width": null
          }
        },
        "ee0d4aa64038490f8d467931e3077877": {
          "model_module": "@jupyter-widgets/controls",
          "model_name": "ProgressStyleModel",
          "model_module_version": "1.5.0",
          "state": {
            "_model_module": "@jupyter-widgets/controls",
            "_model_module_version": "1.5.0",
            "_model_name": "ProgressStyleModel",
            "_view_count": null,
            "_view_module": "@jupyter-widgets/base",
            "_view_module_version": "1.2.0",
            "_view_name": "StyleView",
            "bar_color": null,
            "description_width": ""
          }
        },
        "19370c5a7db7410c832122b577b70ca8": {
          "model_module": "@jupyter-widgets/base",
          "model_name": "LayoutModel",
          "model_module_version": "1.2.0",
          "state": {
            "_model_module": "@jupyter-widgets/base",
            "_model_module_version": "1.2.0",
            "_model_name": "LayoutModel",
            "_view_count": null,
            "_view_module": "@jupyter-widgets/base",
            "_view_module_version": "1.2.0",
            "_view_name": "LayoutView",
            "align_content": null,
            "align_items": null,
            "align_self": null,
            "border": null,
            "bottom": null,
            "display": null,
            "flex": null,
            "flex_flow": null,
            "grid_area": null,
            "grid_auto_columns": null,
            "grid_auto_flow": null,
            "grid_auto_rows": null,
            "grid_column": null,
            "grid_gap": null,
            "grid_row": null,
            "grid_template_areas": null,
            "grid_template_columns": null,
            "grid_template_rows": null,
            "height": null,
            "justify_content": null,
            "justify_items": null,
            "left": null,
            "margin": null,
            "max_height": null,
            "max_width": null,
            "min_height": null,
            "min_width": null,
            "object_fit": null,
            "object_position": null,
            "order": null,
            "overflow": null,
            "overflow_x": null,
            "overflow_y": null,
            "padding": null,
            "right": null,
            "top": null,
            "visibility": null,
            "width": null
          }
        },
        "cb549f1a9dbc468cacff4bd58166bf10": {
          "model_module": "@jupyter-widgets/controls",
          "model_name": "DescriptionStyleModel",
          "model_module_version": "1.5.0",
          "state": {
            "_model_module": "@jupyter-widgets/controls",
            "_model_module_version": "1.5.0",
            "_model_name": "DescriptionStyleModel",
            "_view_count": null,
            "_view_module": "@jupyter-widgets/base",
            "_view_module_version": "1.2.0",
            "_view_name": "StyleView",
            "description_width": ""
          }
        },
        "f7d58e0c319147ceb19eaaf270d641d5": {
          "model_module": "@jupyter-widgets/controls",
          "model_name": "HBoxModel",
          "model_module_version": "1.5.0",
          "state": {
            "_dom_classes": [],
            "_model_module": "@jupyter-widgets/controls",
            "_model_module_version": "1.5.0",
            "_model_name": "HBoxModel",
            "_view_count": null,
            "_view_module": "@jupyter-widgets/controls",
            "_view_module_version": "1.5.0",
            "_view_name": "HBoxView",
            "box_style": "",
            "children": [
              "IPY_MODEL_de64604d4b064389b1062a6d6406df6a",
              "IPY_MODEL_a83ed239cc504a7a9547d47a80bed7cc",
              "IPY_MODEL_03c06124ea9e42678a0191cfa151921f"
            ],
            "layout": "IPY_MODEL_42543d55a0f148588fba605db2752093"
          }
        },
        "de64604d4b064389b1062a6d6406df6a": {
          "model_module": "@jupyter-widgets/controls",
          "model_name": "HTMLModel",
          "model_module_version": "1.5.0",
          "state": {
            "_dom_classes": [],
            "_model_module": "@jupyter-widgets/controls",
            "_model_module_version": "1.5.0",
            "_model_name": "HTMLModel",
            "_view_count": null,
            "_view_module": "@jupyter-widgets/controls",
            "_view_module_version": "1.5.0",
            "_view_name": "HTMLView",
            "description": "",
            "description_tooltip": null,
            "layout": "IPY_MODEL_a242c2eff7f14373b3a084991fb3827b",
            "placeholder": "​",
            "style": "IPY_MODEL_54aa89694297406cb3772831ba1af222",
            "value": "Validation DataLoader 0: 100%"
          }
        },
        "a83ed239cc504a7a9547d47a80bed7cc": {
          "model_module": "@jupyter-widgets/controls",
          "model_name": "FloatProgressModel",
          "model_module_version": "1.5.0",
          "state": {
            "_dom_classes": [],
            "_model_module": "@jupyter-widgets/controls",
            "_model_module_version": "1.5.0",
            "_model_name": "FloatProgressModel",
            "_view_count": null,
            "_view_module": "@jupyter-widgets/controls",
            "_view_module_version": "1.5.0",
            "_view_name": "ProgressView",
            "bar_style": "",
            "description": "",
            "description_tooltip": null,
            "layout": "IPY_MODEL_74e68fec6c1449378b9096a570072190",
            "max": 31,
            "min": 0,
            "orientation": "horizontal",
            "style": "IPY_MODEL_c06ac8b825764c9fb8547d2e5c87b411",
            "value": 31
          }
        },
        "03c06124ea9e42678a0191cfa151921f": {
          "model_module": "@jupyter-widgets/controls",
          "model_name": "HTMLModel",
          "model_module_version": "1.5.0",
          "state": {
            "_dom_classes": [],
            "_model_module": "@jupyter-widgets/controls",
            "_model_module_version": "1.5.0",
            "_model_name": "HTMLModel",
            "_view_count": null,
            "_view_module": "@jupyter-widgets/controls",
            "_view_module_version": "1.5.0",
            "_view_name": "HTMLView",
            "description": "",
            "description_tooltip": null,
            "layout": "IPY_MODEL_e31a180dbb2a46c5b379360ba9c23ba9",
            "placeholder": "​",
            "style": "IPY_MODEL_a0130591ce7b4625821968191c3eae82",
            "value": " 31/31 [01:22&lt;00:00,  2.65s/it]"
          }
        },
        "42543d55a0f148588fba605db2752093": {
          "model_module": "@jupyter-widgets/base",
          "model_name": "LayoutModel",
          "model_module_version": "1.2.0",
          "state": {
            "_model_module": "@jupyter-widgets/base",
            "_model_module_version": "1.2.0",
            "_model_name": "LayoutModel",
            "_view_count": null,
            "_view_module": "@jupyter-widgets/base",
            "_view_module_version": "1.2.0",
            "_view_name": "LayoutView",
            "align_content": null,
            "align_items": null,
            "align_self": null,
            "border": null,
            "bottom": null,
            "display": "inline-flex",
            "flex": null,
            "flex_flow": "row wrap",
            "grid_area": null,
            "grid_auto_columns": null,
            "grid_auto_flow": null,
            "grid_auto_rows": null,
            "grid_column": null,
            "grid_gap": null,
            "grid_row": null,
            "grid_template_areas": null,
            "grid_template_columns": null,
            "grid_template_rows": null,
            "height": null,
            "justify_content": null,
            "justify_items": null,
            "left": null,
            "margin": null,
            "max_height": null,
            "max_width": null,
            "min_height": null,
            "min_width": null,
            "object_fit": null,
            "object_position": null,
            "order": null,
            "overflow": null,
            "overflow_x": null,
            "overflow_y": null,
            "padding": null,
            "right": null,
            "top": null,
            "visibility": "hidden",
            "width": "100%"
          }
        },
        "a242c2eff7f14373b3a084991fb3827b": {
          "model_module": "@jupyter-widgets/base",
          "model_name": "LayoutModel",
          "model_module_version": "1.2.0",
          "state": {
            "_model_module": "@jupyter-widgets/base",
            "_model_module_version": "1.2.0",
            "_model_name": "LayoutModel",
            "_view_count": null,
            "_view_module": "@jupyter-widgets/base",
            "_view_module_version": "1.2.0",
            "_view_name": "LayoutView",
            "align_content": null,
            "align_items": null,
            "align_self": null,
            "border": null,
            "bottom": null,
            "display": null,
            "flex": null,
            "flex_flow": null,
            "grid_area": null,
            "grid_auto_columns": null,
            "grid_auto_flow": null,
            "grid_auto_rows": null,
            "grid_column": null,
            "grid_gap": null,
            "grid_row": null,
            "grid_template_areas": null,
            "grid_template_columns": null,
            "grid_template_rows": null,
            "height": null,
            "justify_content": null,
            "justify_items": null,
            "left": null,
            "margin": null,
            "max_height": null,
            "max_width": null,
            "min_height": null,
            "min_width": null,
            "object_fit": null,
            "object_position": null,
            "order": null,
            "overflow": null,
            "overflow_x": null,
            "overflow_y": null,
            "padding": null,
            "right": null,
            "top": null,
            "visibility": null,
            "width": null
          }
        },
        "54aa89694297406cb3772831ba1af222": {
          "model_module": "@jupyter-widgets/controls",
          "model_name": "DescriptionStyleModel",
          "model_module_version": "1.5.0",
          "state": {
            "_model_module": "@jupyter-widgets/controls",
            "_model_module_version": "1.5.0",
            "_model_name": "DescriptionStyleModel",
            "_view_count": null,
            "_view_module": "@jupyter-widgets/base",
            "_view_module_version": "1.2.0",
            "_view_name": "StyleView",
            "description_width": ""
          }
        },
        "74e68fec6c1449378b9096a570072190": {
          "model_module": "@jupyter-widgets/base",
          "model_name": "LayoutModel",
          "model_module_version": "1.2.0",
          "state": {
            "_model_module": "@jupyter-widgets/base",
            "_model_module_version": "1.2.0",
            "_model_name": "LayoutModel",
            "_view_count": null,
            "_view_module": "@jupyter-widgets/base",
            "_view_module_version": "1.2.0",
            "_view_name": "LayoutView",
            "align_content": null,
            "align_items": null,
            "align_self": null,
            "border": null,
            "bottom": null,
            "display": null,
            "flex": "2",
            "flex_flow": null,
            "grid_area": null,
            "grid_auto_columns": null,
            "grid_auto_flow": null,
            "grid_auto_rows": null,
            "grid_column": null,
            "grid_gap": null,
            "grid_row": null,
            "grid_template_areas": null,
            "grid_template_columns": null,
            "grid_template_rows": null,
            "height": null,
            "justify_content": null,
            "justify_items": null,
            "left": null,
            "margin": null,
            "max_height": null,
            "max_width": null,
            "min_height": null,
            "min_width": null,
            "object_fit": null,
            "object_position": null,
            "order": null,
            "overflow": null,
            "overflow_x": null,
            "overflow_y": null,
            "padding": null,
            "right": null,
            "top": null,
            "visibility": null,
            "width": null
          }
        },
        "c06ac8b825764c9fb8547d2e5c87b411": {
          "model_module": "@jupyter-widgets/controls",
          "model_name": "ProgressStyleModel",
          "model_module_version": "1.5.0",
          "state": {
            "_model_module": "@jupyter-widgets/controls",
            "_model_module_version": "1.5.0",
            "_model_name": "ProgressStyleModel",
            "_view_count": null,
            "_view_module": "@jupyter-widgets/base",
            "_view_module_version": "1.2.0",
            "_view_name": "StyleView",
            "bar_color": null,
            "description_width": ""
          }
        },
        "e31a180dbb2a46c5b379360ba9c23ba9": {
          "model_module": "@jupyter-widgets/base",
          "model_name": "LayoutModel",
          "model_module_version": "1.2.0",
          "state": {
            "_model_module": "@jupyter-widgets/base",
            "_model_module_version": "1.2.0",
            "_model_name": "LayoutModel",
            "_view_count": null,
            "_view_module": "@jupyter-widgets/base",
            "_view_module_version": "1.2.0",
            "_view_name": "LayoutView",
            "align_content": null,
            "align_items": null,
            "align_self": null,
            "border": null,
            "bottom": null,
            "display": null,
            "flex": null,
            "flex_flow": null,
            "grid_area": null,
            "grid_auto_columns": null,
            "grid_auto_flow": null,
            "grid_auto_rows": null,
            "grid_column": null,
            "grid_gap": null,
            "grid_row": null,
            "grid_template_areas": null,
            "grid_template_columns": null,
            "grid_template_rows": null,
            "height": null,
            "justify_content": null,
            "justify_items": null,
            "left": null,
            "margin": null,
            "max_height": null,
            "max_width": null,
            "min_height": null,
            "min_width": null,
            "object_fit": null,
            "object_position": null,
            "order": null,
            "overflow": null,
            "overflow_x": null,
            "overflow_y": null,
            "padding": null,
            "right": null,
            "top": null,
            "visibility": null,
            "width": null
          }
        },
        "a0130591ce7b4625821968191c3eae82": {
          "model_module": "@jupyter-widgets/controls",
          "model_name": "DescriptionStyleModel",
          "model_module_version": "1.5.0",
          "state": {
            "_model_module": "@jupyter-widgets/controls",
            "_model_module_version": "1.5.0",
            "_model_name": "DescriptionStyleModel",
            "_view_count": null,
            "_view_module": "@jupyter-widgets/base",
            "_view_module_version": "1.2.0",
            "_view_name": "StyleView",
            "description_width": ""
          }
        },
        "38365bd03f91456ba64d45bfaca9c1a0": {
          "model_module": "@jupyter-widgets/controls",
          "model_name": "HBoxModel",
          "model_module_version": "1.5.0",
          "state": {
            "_dom_classes": [],
            "_model_module": "@jupyter-widgets/controls",
            "_model_module_version": "1.5.0",
            "_model_name": "HBoxModel",
            "_view_count": null,
            "_view_module": "@jupyter-widgets/controls",
            "_view_module_version": "1.5.0",
            "_view_name": "HBoxView",
            "box_style": "",
            "children": [
              "IPY_MODEL_3dd28919a0564ea3ad808c6e81fbb437",
              "IPY_MODEL_863b81711fea4e5ba06fbd2a1c233362",
              "IPY_MODEL_4e448bb185ad44f099c5c56031e96347"
            ],
            "layout": "IPY_MODEL_426a04ac95fe4bd4831f88e0c1d6b23d"
          }
        },
        "3dd28919a0564ea3ad808c6e81fbb437": {
          "model_module": "@jupyter-widgets/controls",
          "model_name": "HTMLModel",
          "model_module_version": "1.5.0",
          "state": {
            "_dom_classes": [],
            "_model_module": "@jupyter-widgets/controls",
            "_model_module_version": "1.5.0",
            "_model_name": "HTMLModel",
            "_view_count": null,
            "_view_module": "@jupyter-widgets/controls",
            "_view_module_version": "1.5.0",
            "_view_name": "HTMLView",
            "description": "",
            "description_tooltip": null,
            "layout": "IPY_MODEL_07613007013a4fc3a82cb8f36f55e698",
            "placeholder": "​",
            "style": "IPY_MODEL_66df0a52cde24f59939eefb43eb61d64",
            "value": "Validation DataLoader 0: 100%"
          }
        },
        "863b81711fea4e5ba06fbd2a1c233362": {
          "model_module": "@jupyter-widgets/controls",
          "model_name": "FloatProgressModel",
          "model_module_version": "1.5.0",
          "state": {
            "_dom_classes": [],
            "_model_module": "@jupyter-widgets/controls",
            "_model_module_version": "1.5.0",
            "_model_name": "FloatProgressModel",
            "_view_count": null,
            "_view_module": "@jupyter-widgets/controls",
            "_view_module_version": "1.5.0",
            "_view_name": "ProgressView",
            "bar_style": "",
            "description": "",
            "description_tooltip": null,
            "layout": "IPY_MODEL_e2ea680a1d0e4ff1a8f1026313bfe801",
            "max": 31,
            "min": 0,
            "orientation": "horizontal",
            "style": "IPY_MODEL_8edea06c01fd4293b934c41072960448",
            "value": 31
          }
        },
        "4e448bb185ad44f099c5c56031e96347": {
          "model_module": "@jupyter-widgets/controls",
          "model_name": "HTMLModel",
          "model_module_version": "1.5.0",
          "state": {
            "_dom_classes": [],
            "_model_module": "@jupyter-widgets/controls",
            "_model_module_version": "1.5.0",
            "_model_name": "HTMLModel",
            "_view_count": null,
            "_view_module": "@jupyter-widgets/controls",
            "_view_module_version": "1.5.0",
            "_view_name": "HTMLView",
            "description": "",
            "description_tooltip": null,
            "layout": "IPY_MODEL_ee692fc83e6849f7aade8e748daf9d23",
            "placeholder": "​",
            "style": "IPY_MODEL_a4775a8c10e8437288d58e877d7f8b01",
            "value": " 31/31 [01:22&lt;00:00,  2.65s/it]"
          }
        },
        "426a04ac95fe4bd4831f88e0c1d6b23d": {
          "model_module": "@jupyter-widgets/base",
          "model_name": "LayoutModel",
          "model_module_version": "1.2.0",
          "state": {
            "_model_module": "@jupyter-widgets/base",
            "_model_module_version": "1.2.0",
            "_model_name": "LayoutModel",
            "_view_count": null,
            "_view_module": "@jupyter-widgets/base",
            "_view_module_version": "1.2.0",
            "_view_name": "LayoutView",
            "align_content": null,
            "align_items": null,
            "align_self": null,
            "border": null,
            "bottom": null,
            "display": "inline-flex",
            "flex": null,
            "flex_flow": "row wrap",
            "grid_area": null,
            "grid_auto_columns": null,
            "grid_auto_flow": null,
            "grid_auto_rows": null,
            "grid_column": null,
            "grid_gap": null,
            "grid_row": null,
            "grid_template_areas": null,
            "grid_template_columns": null,
            "grid_template_rows": null,
            "height": null,
            "justify_content": null,
            "justify_items": null,
            "left": null,
            "margin": null,
            "max_height": null,
            "max_width": null,
            "min_height": null,
            "min_width": null,
            "object_fit": null,
            "object_position": null,
            "order": null,
            "overflow": null,
            "overflow_x": null,
            "overflow_y": null,
            "padding": null,
            "right": null,
            "top": null,
            "visibility": "hidden",
            "width": "100%"
          }
        },
        "07613007013a4fc3a82cb8f36f55e698": {
          "model_module": "@jupyter-widgets/base",
          "model_name": "LayoutModel",
          "model_module_version": "1.2.0",
          "state": {
            "_model_module": "@jupyter-widgets/base",
            "_model_module_version": "1.2.0",
            "_model_name": "LayoutModel",
            "_view_count": null,
            "_view_module": "@jupyter-widgets/base",
            "_view_module_version": "1.2.0",
            "_view_name": "LayoutView",
            "align_content": null,
            "align_items": null,
            "align_self": null,
            "border": null,
            "bottom": null,
            "display": null,
            "flex": null,
            "flex_flow": null,
            "grid_area": null,
            "grid_auto_columns": null,
            "grid_auto_flow": null,
            "grid_auto_rows": null,
            "grid_column": null,
            "grid_gap": null,
            "grid_row": null,
            "grid_template_areas": null,
            "grid_template_columns": null,
            "grid_template_rows": null,
            "height": null,
            "justify_content": null,
            "justify_items": null,
            "left": null,
            "margin": null,
            "max_height": null,
            "max_width": null,
            "min_height": null,
            "min_width": null,
            "object_fit": null,
            "object_position": null,
            "order": null,
            "overflow": null,
            "overflow_x": null,
            "overflow_y": null,
            "padding": null,
            "right": null,
            "top": null,
            "visibility": null,
            "width": null
          }
        },
        "66df0a52cde24f59939eefb43eb61d64": {
          "model_module": "@jupyter-widgets/controls",
          "model_name": "DescriptionStyleModel",
          "model_module_version": "1.5.0",
          "state": {
            "_model_module": "@jupyter-widgets/controls",
            "_model_module_version": "1.5.0",
            "_model_name": "DescriptionStyleModel",
            "_view_count": null,
            "_view_module": "@jupyter-widgets/base",
            "_view_module_version": "1.2.0",
            "_view_name": "StyleView",
            "description_width": ""
          }
        },
        "e2ea680a1d0e4ff1a8f1026313bfe801": {
          "model_module": "@jupyter-widgets/base",
          "model_name": "LayoutModel",
          "model_module_version": "1.2.0",
          "state": {
            "_model_module": "@jupyter-widgets/base",
            "_model_module_version": "1.2.0",
            "_model_name": "LayoutModel",
            "_view_count": null,
            "_view_module": "@jupyter-widgets/base",
            "_view_module_version": "1.2.0",
            "_view_name": "LayoutView",
            "align_content": null,
            "align_items": null,
            "align_self": null,
            "border": null,
            "bottom": null,
            "display": null,
            "flex": "2",
            "flex_flow": null,
            "grid_area": null,
            "grid_auto_columns": null,
            "grid_auto_flow": null,
            "grid_auto_rows": null,
            "grid_column": null,
            "grid_gap": null,
            "grid_row": null,
            "grid_template_areas": null,
            "grid_template_columns": null,
            "grid_template_rows": null,
            "height": null,
            "justify_content": null,
            "justify_items": null,
            "left": null,
            "margin": null,
            "max_height": null,
            "max_width": null,
            "min_height": null,
            "min_width": null,
            "object_fit": null,
            "object_position": null,
            "order": null,
            "overflow": null,
            "overflow_x": null,
            "overflow_y": null,
            "padding": null,
            "right": null,
            "top": null,
            "visibility": null,
            "width": null
          }
        },
        "8edea06c01fd4293b934c41072960448": {
          "model_module": "@jupyter-widgets/controls",
          "model_name": "ProgressStyleModel",
          "model_module_version": "1.5.0",
          "state": {
            "_model_module": "@jupyter-widgets/controls",
            "_model_module_version": "1.5.0",
            "_model_name": "ProgressStyleModel",
            "_view_count": null,
            "_view_module": "@jupyter-widgets/base",
            "_view_module_version": "1.2.0",
            "_view_name": "StyleView",
            "bar_color": null,
            "description_width": ""
          }
        },
        "ee692fc83e6849f7aade8e748daf9d23": {
          "model_module": "@jupyter-widgets/base",
          "model_name": "LayoutModel",
          "model_module_version": "1.2.0",
          "state": {
            "_model_module": "@jupyter-widgets/base",
            "_model_module_version": "1.2.0",
            "_model_name": "LayoutModel",
            "_view_count": null,
            "_view_module": "@jupyter-widgets/base",
            "_view_module_version": "1.2.0",
            "_view_name": "LayoutView",
            "align_content": null,
            "align_items": null,
            "align_self": null,
            "border": null,
            "bottom": null,
            "display": null,
            "flex": null,
            "flex_flow": null,
            "grid_area": null,
            "grid_auto_columns": null,
            "grid_auto_flow": null,
            "grid_auto_rows": null,
            "grid_column": null,
            "grid_gap": null,
            "grid_row": null,
            "grid_template_areas": null,
            "grid_template_columns": null,
            "grid_template_rows": null,
            "height": null,
            "justify_content": null,
            "justify_items": null,
            "left": null,
            "margin": null,
            "max_height": null,
            "max_width": null,
            "min_height": null,
            "min_width": null,
            "object_fit": null,
            "object_position": null,
            "order": null,
            "overflow": null,
            "overflow_x": null,
            "overflow_y": null,
            "padding": null,
            "right": null,
            "top": null,
            "visibility": null,
            "width": null
          }
        },
        "a4775a8c10e8437288d58e877d7f8b01": {
          "model_module": "@jupyter-widgets/controls",
          "model_name": "DescriptionStyleModel",
          "model_module_version": "1.5.0",
          "state": {
            "_model_module": "@jupyter-widgets/controls",
            "_model_module_version": "1.5.0",
            "_model_name": "DescriptionStyleModel",
            "_view_count": null,
            "_view_module": "@jupyter-widgets/base",
            "_view_module_version": "1.2.0",
            "_view_name": "StyleView",
            "description_width": ""
          }
        },
        "e092da4d36b04ee2941492791e83e6e6": {
          "model_module": "@jupyter-widgets/controls",
          "model_name": "HBoxModel",
          "model_module_version": "1.5.0",
          "state": {
            "_dom_classes": [],
            "_model_module": "@jupyter-widgets/controls",
            "_model_module_version": "1.5.0",
            "_model_name": "HBoxModel",
            "_view_count": null,
            "_view_module": "@jupyter-widgets/controls",
            "_view_module_version": "1.5.0",
            "_view_name": "HBoxView",
            "box_style": "",
            "children": [
              "IPY_MODEL_dbbbd955d58845308c9baf8ec02ee611",
              "IPY_MODEL_d383154d7c29473182d444c31a171238",
              "IPY_MODEL_d9ac083416f44faf8bbbd129ecfb49cf"
            ],
            "layout": "IPY_MODEL_b05dc383ad53494c863771bcb645658b"
          }
        },
        "dbbbd955d58845308c9baf8ec02ee611": {
          "model_module": "@jupyter-widgets/controls",
          "model_name": "HTMLModel",
          "model_module_version": "1.5.0",
          "state": {
            "_dom_classes": [],
            "_model_module": "@jupyter-widgets/controls",
            "_model_module_version": "1.5.0",
            "_model_name": "HTMLModel",
            "_view_count": null,
            "_view_module": "@jupyter-widgets/controls",
            "_view_module_version": "1.5.0",
            "_view_name": "HTMLView",
            "description": "",
            "description_tooltip": null,
            "layout": "IPY_MODEL_3bc81968e8214c95aedc979756de8ff2",
            "placeholder": "​",
            "style": "IPY_MODEL_126f6bc07fd041a4b3f68f8e871937f0",
            "value": "Validation DataLoader 0: 100%"
          }
        },
        "d383154d7c29473182d444c31a171238": {
          "model_module": "@jupyter-widgets/controls",
          "model_name": "FloatProgressModel",
          "model_module_version": "1.5.0",
          "state": {
            "_dom_classes": [],
            "_model_module": "@jupyter-widgets/controls",
            "_model_module_version": "1.5.0",
            "_model_name": "FloatProgressModel",
            "_view_count": null,
            "_view_module": "@jupyter-widgets/controls",
            "_view_module_version": "1.5.0",
            "_view_name": "ProgressView",
            "bar_style": "",
            "description": "",
            "description_tooltip": null,
            "layout": "IPY_MODEL_39450a58f5154de89121814e2819edb2",
            "max": 31,
            "min": 0,
            "orientation": "horizontal",
            "style": "IPY_MODEL_cd96603eee7a4925b0af57978ad46d30",
            "value": 31
          }
        },
        "d9ac083416f44faf8bbbd129ecfb49cf": {
          "model_module": "@jupyter-widgets/controls",
          "model_name": "HTMLModel",
          "model_module_version": "1.5.0",
          "state": {
            "_dom_classes": [],
            "_model_module": "@jupyter-widgets/controls",
            "_model_module_version": "1.5.0",
            "_model_name": "HTMLModel",
            "_view_count": null,
            "_view_module": "@jupyter-widgets/controls",
            "_view_module_version": "1.5.0",
            "_view_name": "HTMLView",
            "description": "",
            "description_tooltip": null,
            "layout": "IPY_MODEL_dd31dd8eb2d14a36953755f3ca4ec03f",
            "placeholder": "​",
            "style": "IPY_MODEL_90f8fb9bf3ee4534b82fcb7290a2dc55",
            "value": " 31/31 [01:22&lt;00:00,  2.67s/it]"
          }
        },
        "b05dc383ad53494c863771bcb645658b": {
          "model_module": "@jupyter-widgets/base",
          "model_name": "LayoutModel",
          "model_module_version": "1.2.0",
          "state": {
            "_model_module": "@jupyter-widgets/base",
            "_model_module_version": "1.2.0",
            "_model_name": "LayoutModel",
            "_view_count": null,
            "_view_module": "@jupyter-widgets/base",
            "_view_module_version": "1.2.0",
            "_view_name": "LayoutView",
            "align_content": null,
            "align_items": null,
            "align_self": null,
            "border": null,
            "bottom": null,
            "display": "inline-flex",
            "flex": null,
            "flex_flow": "row wrap",
            "grid_area": null,
            "grid_auto_columns": null,
            "grid_auto_flow": null,
            "grid_auto_rows": null,
            "grid_column": null,
            "grid_gap": null,
            "grid_row": null,
            "grid_template_areas": null,
            "grid_template_columns": null,
            "grid_template_rows": null,
            "height": null,
            "justify_content": null,
            "justify_items": null,
            "left": null,
            "margin": null,
            "max_height": null,
            "max_width": null,
            "min_height": null,
            "min_width": null,
            "object_fit": null,
            "object_position": null,
            "order": null,
            "overflow": null,
            "overflow_x": null,
            "overflow_y": null,
            "padding": null,
            "right": null,
            "top": null,
            "visibility": "hidden",
            "width": "100%"
          }
        },
        "3bc81968e8214c95aedc979756de8ff2": {
          "model_module": "@jupyter-widgets/base",
          "model_name": "LayoutModel",
          "model_module_version": "1.2.0",
          "state": {
            "_model_module": "@jupyter-widgets/base",
            "_model_module_version": "1.2.0",
            "_model_name": "LayoutModel",
            "_view_count": null,
            "_view_module": "@jupyter-widgets/base",
            "_view_module_version": "1.2.0",
            "_view_name": "LayoutView",
            "align_content": null,
            "align_items": null,
            "align_self": null,
            "border": null,
            "bottom": null,
            "display": null,
            "flex": null,
            "flex_flow": null,
            "grid_area": null,
            "grid_auto_columns": null,
            "grid_auto_flow": null,
            "grid_auto_rows": null,
            "grid_column": null,
            "grid_gap": null,
            "grid_row": null,
            "grid_template_areas": null,
            "grid_template_columns": null,
            "grid_template_rows": null,
            "height": null,
            "justify_content": null,
            "justify_items": null,
            "left": null,
            "margin": null,
            "max_height": null,
            "max_width": null,
            "min_height": null,
            "min_width": null,
            "object_fit": null,
            "object_position": null,
            "order": null,
            "overflow": null,
            "overflow_x": null,
            "overflow_y": null,
            "padding": null,
            "right": null,
            "top": null,
            "visibility": null,
            "width": null
          }
        },
        "126f6bc07fd041a4b3f68f8e871937f0": {
          "model_module": "@jupyter-widgets/controls",
          "model_name": "DescriptionStyleModel",
          "model_module_version": "1.5.0",
          "state": {
            "_model_module": "@jupyter-widgets/controls",
            "_model_module_version": "1.5.0",
            "_model_name": "DescriptionStyleModel",
            "_view_count": null,
            "_view_module": "@jupyter-widgets/base",
            "_view_module_version": "1.2.0",
            "_view_name": "StyleView",
            "description_width": ""
          }
        },
        "39450a58f5154de89121814e2819edb2": {
          "model_module": "@jupyter-widgets/base",
          "model_name": "LayoutModel",
          "model_module_version": "1.2.0",
          "state": {
            "_model_module": "@jupyter-widgets/base",
            "_model_module_version": "1.2.0",
            "_model_name": "LayoutModel",
            "_view_count": null,
            "_view_module": "@jupyter-widgets/base",
            "_view_module_version": "1.2.0",
            "_view_name": "LayoutView",
            "align_content": null,
            "align_items": null,
            "align_self": null,
            "border": null,
            "bottom": null,
            "display": null,
            "flex": "2",
            "flex_flow": null,
            "grid_area": null,
            "grid_auto_columns": null,
            "grid_auto_flow": null,
            "grid_auto_rows": null,
            "grid_column": null,
            "grid_gap": null,
            "grid_row": null,
            "grid_template_areas": null,
            "grid_template_columns": null,
            "grid_template_rows": null,
            "height": null,
            "justify_content": null,
            "justify_items": null,
            "left": null,
            "margin": null,
            "max_height": null,
            "max_width": null,
            "min_height": null,
            "min_width": null,
            "object_fit": null,
            "object_position": null,
            "order": null,
            "overflow": null,
            "overflow_x": null,
            "overflow_y": null,
            "padding": null,
            "right": null,
            "top": null,
            "visibility": null,
            "width": null
          }
        },
        "cd96603eee7a4925b0af57978ad46d30": {
          "model_module": "@jupyter-widgets/controls",
          "model_name": "ProgressStyleModel",
          "model_module_version": "1.5.0",
          "state": {
            "_model_module": "@jupyter-widgets/controls",
            "_model_module_version": "1.5.0",
            "_model_name": "ProgressStyleModel",
            "_view_count": null,
            "_view_module": "@jupyter-widgets/base",
            "_view_module_version": "1.2.0",
            "_view_name": "StyleView",
            "bar_color": null,
            "description_width": ""
          }
        },
        "dd31dd8eb2d14a36953755f3ca4ec03f": {
          "model_module": "@jupyter-widgets/base",
          "model_name": "LayoutModel",
          "model_module_version": "1.2.0",
          "state": {
            "_model_module": "@jupyter-widgets/base",
            "_model_module_version": "1.2.0",
            "_model_name": "LayoutModel",
            "_view_count": null,
            "_view_module": "@jupyter-widgets/base",
            "_view_module_version": "1.2.0",
            "_view_name": "LayoutView",
            "align_content": null,
            "align_items": null,
            "align_self": null,
            "border": null,
            "bottom": null,
            "display": null,
            "flex": null,
            "flex_flow": null,
            "grid_area": null,
            "grid_auto_columns": null,
            "grid_auto_flow": null,
            "grid_auto_rows": null,
            "grid_column": null,
            "grid_gap": null,
            "grid_row": null,
            "grid_template_areas": null,
            "grid_template_columns": null,
            "grid_template_rows": null,
            "height": null,
            "justify_content": null,
            "justify_items": null,
            "left": null,
            "margin": null,
            "max_height": null,
            "max_width": null,
            "min_height": null,
            "min_width": null,
            "object_fit": null,
            "object_position": null,
            "order": null,
            "overflow": null,
            "overflow_x": null,
            "overflow_y": null,
            "padding": null,
            "right": null,
            "top": null,
            "visibility": null,
            "width": null
          }
        },
        "90f8fb9bf3ee4534b82fcb7290a2dc55": {
          "model_module": "@jupyter-widgets/controls",
          "model_name": "DescriptionStyleModel",
          "model_module_version": "1.5.0",
          "state": {
            "_model_module": "@jupyter-widgets/controls",
            "_model_module_version": "1.5.0",
            "_model_name": "DescriptionStyleModel",
            "_view_count": null,
            "_view_module": "@jupyter-widgets/base",
            "_view_module_version": "1.2.0",
            "_view_name": "StyleView",
            "description_width": ""
          }
        },
        "000247fd12164a91a6b22ffbe814d99f": {
          "model_module": "@jupyter-widgets/controls",
          "model_name": "HBoxModel",
          "model_module_version": "1.5.0",
          "state": {
            "_dom_classes": [],
            "_model_module": "@jupyter-widgets/controls",
            "_model_module_version": "1.5.0",
            "_model_name": "HBoxModel",
            "_view_count": null,
            "_view_module": "@jupyter-widgets/controls",
            "_view_module_version": "1.5.0",
            "_view_name": "HBoxView",
            "box_style": "",
            "children": [
              "IPY_MODEL_62a66ef62b3c4ce8b19cc936b04a4404",
              "IPY_MODEL_db126533f4ea4c86b844c220f274790f",
              "IPY_MODEL_a798e09425154c0fbb9f5929149f0682"
            ],
            "layout": "IPY_MODEL_6c5133ed8030489b92b3ee004229e534"
          }
        },
        "62a66ef62b3c4ce8b19cc936b04a4404": {
          "model_module": "@jupyter-widgets/controls",
          "model_name": "HTMLModel",
          "model_module_version": "1.5.0",
          "state": {
            "_dom_classes": [],
            "_model_module": "@jupyter-widgets/controls",
            "_model_module_version": "1.5.0",
            "_model_name": "HTMLModel",
            "_view_count": null,
            "_view_module": "@jupyter-widgets/controls",
            "_view_module_version": "1.5.0",
            "_view_name": "HTMLView",
            "description": "",
            "description_tooltip": null,
            "layout": "IPY_MODEL_9f5fe7933327495c90c674a79f623738",
            "placeholder": "​",
            "style": "IPY_MODEL_c92c32ea6593489580d1c64b8b1a8e98",
            "value": "Validation DataLoader 0: 100%"
          }
        },
        "db126533f4ea4c86b844c220f274790f": {
          "model_module": "@jupyter-widgets/controls",
          "model_name": "FloatProgressModel",
          "model_module_version": "1.5.0",
          "state": {
            "_dom_classes": [],
            "_model_module": "@jupyter-widgets/controls",
            "_model_module_version": "1.5.0",
            "_model_name": "FloatProgressModel",
            "_view_count": null,
            "_view_module": "@jupyter-widgets/controls",
            "_view_module_version": "1.5.0",
            "_view_name": "ProgressView",
            "bar_style": "",
            "description": "",
            "description_tooltip": null,
            "layout": "IPY_MODEL_ce3914651da646b0809705ba80c5c11c",
            "max": 31,
            "min": 0,
            "orientation": "horizontal",
            "style": "IPY_MODEL_67ecd7910e7444d39877c4c35debe746",
            "value": 31
          }
        },
        "a798e09425154c0fbb9f5929149f0682": {
          "model_module": "@jupyter-widgets/controls",
          "model_name": "HTMLModel",
          "model_module_version": "1.5.0",
          "state": {
            "_dom_classes": [],
            "_model_module": "@jupyter-widgets/controls",
            "_model_module_version": "1.5.0",
            "_model_name": "HTMLModel",
            "_view_count": null,
            "_view_module": "@jupyter-widgets/controls",
            "_view_module_version": "1.5.0",
            "_view_name": "HTMLView",
            "description": "",
            "description_tooltip": null,
            "layout": "IPY_MODEL_cb0ab6c5b94140fea3cc59fad46cc63e",
            "placeholder": "​",
            "style": "IPY_MODEL_b7c2fc6ef20f493fba76475ad7213201",
            "value": " 31/31 [01:22&lt;00:00,  2.66s/it]"
          }
        },
        "6c5133ed8030489b92b3ee004229e534": {
          "model_module": "@jupyter-widgets/base",
          "model_name": "LayoutModel",
          "model_module_version": "1.2.0",
          "state": {
            "_model_module": "@jupyter-widgets/base",
            "_model_module_version": "1.2.0",
            "_model_name": "LayoutModel",
            "_view_count": null,
            "_view_module": "@jupyter-widgets/base",
            "_view_module_version": "1.2.0",
            "_view_name": "LayoutView",
            "align_content": null,
            "align_items": null,
            "align_self": null,
            "border": null,
            "bottom": null,
            "display": "inline-flex",
            "flex": null,
            "flex_flow": "row wrap",
            "grid_area": null,
            "grid_auto_columns": null,
            "grid_auto_flow": null,
            "grid_auto_rows": null,
            "grid_column": null,
            "grid_gap": null,
            "grid_row": null,
            "grid_template_areas": null,
            "grid_template_columns": null,
            "grid_template_rows": null,
            "height": null,
            "justify_content": null,
            "justify_items": null,
            "left": null,
            "margin": null,
            "max_height": null,
            "max_width": null,
            "min_height": null,
            "min_width": null,
            "object_fit": null,
            "object_position": null,
            "order": null,
            "overflow": null,
            "overflow_x": null,
            "overflow_y": null,
            "padding": null,
            "right": null,
            "top": null,
            "visibility": "hidden",
            "width": "100%"
          }
        },
        "9f5fe7933327495c90c674a79f623738": {
          "model_module": "@jupyter-widgets/base",
          "model_name": "LayoutModel",
          "model_module_version": "1.2.0",
          "state": {
            "_model_module": "@jupyter-widgets/base",
            "_model_module_version": "1.2.0",
            "_model_name": "LayoutModel",
            "_view_count": null,
            "_view_module": "@jupyter-widgets/base",
            "_view_module_version": "1.2.0",
            "_view_name": "LayoutView",
            "align_content": null,
            "align_items": null,
            "align_self": null,
            "border": null,
            "bottom": null,
            "display": null,
            "flex": null,
            "flex_flow": null,
            "grid_area": null,
            "grid_auto_columns": null,
            "grid_auto_flow": null,
            "grid_auto_rows": null,
            "grid_column": null,
            "grid_gap": null,
            "grid_row": null,
            "grid_template_areas": null,
            "grid_template_columns": null,
            "grid_template_rows": null,
            "height": null,
            "justify_content": null,
            "justify_items": null,
            "left": null,
            "margin": null,
            "max_height": null,
            "max_width": null,
            "min_height": null,
            "min_width": null,
            "object_fit": null,
            "object_position": null,
            "order": null,
            "overflow": null,
            "overflow_x": null,
            "overflow_y": null,
            "padding": null,
            "right": null,
            "top": null,
            "visibility": null,
            "width": null
          }
        },
        "c92c32ea6593489580d1c64b8b1a8e98": {
          "model_module": "@jupyter-widgets/controls",
          "model_name": "DescriptionStyleModel",
          "model_module_version": "1.5.0",
          "state": {
            "_model_module": "@jupyter-widgets/controls",
            "_model_module_version": "1.5.0",
            "_model_name": "DescriptionStyleModel",
            "_view_count": null,
            "_view_module": "@jupyter-widgets/base",
            "_view_module_version": "1.2.0",
            "_view_name": "StyleView",
            "description_width": ""
          }
        },
        "ce3914651da646b0809705ba80c5c11c": {
          "model_module": "@jupyter-widgets/base",
          "model_name": "LayoutModel",
          "model_module_version": "1.2.0",
          "state": {
            "_model_module": "@jupyter-widgets/base",
            "_model_module_version": "1.2.0",
            "_model_name": "LayoutModel",
            "_view_count": null,
            "_view_module": "@jupyter-widgets/base",
            "_view_module_version": "1.2.0",
            "_view_name": "LayoutView",
            "align_content": null,
            "align_items": null,
            "align_self": null,
            "border": null,
            "bottom": null,
            "display": null,
            "flex": "2",
            "flex_flow": null,
            "grid_area": null,
            "grid_auto_columns": null,
            "grid_auto_flow": null,
            "grid_auto_rows": null,
            "grid_column": null,
            "grid_gap": null,
            "grid_row": null,
            "grid_template_areas": null,
            "grid_template_columns": null,
            "grid_template_rows": null,
            "height": null,
            "justify_content": null,
            "justify_items": null,
            "left": null,
            "margin": null,
            "max_height": null,
            "max_width": null,
            "min_height": null,
            "min_width": null,
            "object_fit": null,
            "object_position": null,
            "order": null,
            "overflow": null,
            "overflow_x": null,
            "overflow_y": null,
            "padding": null,
            "right": null,
            "top": null,
            "visibility": null,
            "width": null
          }
        },
        "67ecd7910e7444d39877c4c35debe746": {
          "model_module": "@jupyter-widgets/controls",
          "model_name": "ProgressStyleModel",
          "model_module_version": "1.5.0",
          "state": {
            "_model_module": "@jupyter-widgets/controls",
            "_model_module_version": "1.5.0",
            "_model_name": "ProgressStyleModel",
            "_view_count": null,
            "_view_module": "@jupyter-widgets/base",
            "_view_module_version": "1.2.0",
            "_view_name": "StyleView",
            "bar_color": null,
            "description_width": ""
          }
        },
        "cb0ab6c5b94140fea3cc59fad46cc63e": {
          "model_module": "@jupyter-widgets/base",
          "model_name": "LayoutModel",
          "model_module_version": "1.2.0",
          "state": {
            "_model_module": "@jupyter-widgets/base",
            "_model_module_version": "1.2.0",
            "_model_name": "LayoutModel",
            "_view_count": null,
            "_view_module": "@jupyter-widgets/base",
            "_view_module_version": "1.2.0",
            "_view_name": "LayoutView",
            "align_content": null,
            "align_items": null,
            "align_self": null,
            "border": null,
            "bottom": null,
            "display": null,
            "flex": null,
            "flex_flow": null,
            "grid_area": null,
            "grid_auto_columns": null,
            "grid_auto_flow": null,
            "grid_auto_rows": null,
            "grid_column": null,
            "grid_gap": null,
            "grid_row": null,
            "grid_template_areas": null,
            "grid_template_columns": null,
            "grid_template_rows": null,
            "height": null,
            "justify_content": null,
            "justify_items": null,
            "left": null,
            "margin": null,
            "max_height": null,
            "max_width": null,
            "min_height": null,
            "min_width": null,
            "object_fit": null,
            "object_position": null,
            "order": null,
            "overflow": null,
            "overflow_x": null,
            "overflow_y": null,
            "padding": null,
            "right": null,
            "top": null,
            "visibility": null,
            "width": null
          }
        },
        "b7c2fc6ef20f493fba76475ad7213201": {
          "model_module": "@jupyter-widgets/controls",
          "model_name": "DescriptionStyleModel",
          "model_module_version": "1.5.0",
          "state": {
            "_model_module": "@jupyter-widgets/controls",
            "_model_module_version": "1.5.0",
            "_model_name": "DescriptionStyleModel",
            "_view_count": null,
            "_view_module": "@jupyter-widgets/base",
            "_view_module_version": "1.2.0",
            "_view_name": "StyleView",
            "description_width": ""
          }
        },
        "5ecd44a37ef041409ef4f3334cd2f9b9": {
          "model_module": "@jupyter-widgets/controls",
          "model_name": "HBoxModel",
          "model_module_version": "1.5.0",
          "state": {
            "_dom_classes": [],
            "_model_module": "@jupyter-widgets/controls",
            "_model_module_version": "1.5.0",
            "_model_name": "HBoxModel",
            "_view_count": null,
            "_view_module": "@jupyter-widgets/controls",
            "_view_module_version": "1.5.0",
            "_view_name": "HBoxView",
            "box_style": "",
            "children": [
              "IPY_MODEL_9a994a1739a74f3895f8565b18a6453a",
              "IPY_MODEL_0072ab35eaf14146929abd2f7a61bc5a",
              "IPY_MODEL_66e04a67ecc4422cb36737a39931ec49"
            ],
            "layout": "IPY_MODEL_d741195b27734567a29695e04e19ac69"
          }
        },
        "9a994a1739a74f3895f8565b18a6453a": {
          "model_module": "@jupyter-widgets/controls",
          "model_name": "HTMLModel",
          "model_module_version": "1.5.0",
          "state": {
            "_dom_classes": [],
            "_model_module": "@jupyter-widgets/controls",
            "_model_module_version": "1.5.0",
            "_model_name": "HTMLModel",
            "_view_count": null,
            "_view_module": "@jupyter-widgets/controls",
            "_view_module_version": "1.5.0",
            "_view_name": "HTMLView",
            "description": "",
            "description_tooltip": null,
            "layout": "IPY_MODEL_952881641054460997dc6b33fd4333a2",
            "placeholder": "​",
            "style": "IPY_MODEL_b20a8d91991e4a45894d96227a3d3a6d",
            "value": "Validation DataLoader 0: 100%"
          }
        },
        "0072ab35eaf14146929abd2f7a61bc5a": {
          "model_module": "@jupyter-widgets/controls",
          "model_name": "FloatProgressModel",
          "model_module_version": "1.5.0",
          "state": {
            "_dom_classes": [],
            "_model_module": "@jupyter-widgets/controls",
            "_model_module_version": "1.5.0",
            "_model_name": "FloatProgressModel",
            "_view_count": null,
            "_view_module": "@jupyter-widgets/controls",
            "_view_module_version": "1.5.0",
            "_view_name": "ProgressView",
            "bar_style": "",
            "description": "",
            "description_tooltip": null,
            "layout": "IPY_MODEL_f389725e52be45358d3741d8ec786241",
            "max": 31,
            "min": 0,
            "orientation": "horizontal",
            "style": "IPY_MODEL_f07f24f6805949f19a8b9b20c259e309",
            "value": 31
          }
        },
        "66e04a67ecc4422cb36737a39931ec49": {
          "model_module": "@jupyter-widgets/controls",
          "model_name": "HTMLModel",
          "model_module_version": "1.5.0",
          "state": {
            "_dom_classes": [],
            "_model_module": "@jupyter-widgets/controls",
            "_model_module_version": "1.5.0",
            "_model_name": "HTMLModel",
            "_view_count": null,
            "_view_module": "@jupyter-widgets/controls",
            "_view_module_version": "1.5.0",
            "_view_name": "HTMLView",
            "description": "",
            "description_tooltip": null,
            "layout": "IPY_MODEL_2a18e0d158ad43038b2516ba71710153",
            "placeholder": "​",
            "style": "IPY_MODEL_0ff92fb608bb4f1b964da33c445fd67a",
            "value": " 31/31 [01:22&lt;00:00,  2.65s/it]"
          }
        },
        "d741195b27734567a29695e04e19ac69": {
          "model_module": "@jupyter-widgets/base",
          "model_name": "LayoutModel",
          "model_module_version": "1.2.0",
          "state": {
            "_model_module": "@jupyter-widgets/base",
            "_model_module_version": "1.2.0",
            "_model_name": "LayoutModel",
            "_view_count": null,
            "_view_module": "@jupyter-widgets/base",
            "_view_module_version": "1.2.0",
            "_view_name": "LayoutView",
            "align_content": null,
            "align_items": null,
            "align_self": null,
            "border": null,
            "bottom": null,
            "display": "inline-flex",
            "flex": null,
            "flex_flow": "row wrap",
            "grid_area": null,
            "grid_auto_columns": null,
            "grid_auto_flow": null,
            "grid_auto_rows": null,
            "grid_column": null,
            "grid_gap": null,
            "grid_row": null,
            "grid_template_areas": null,
            "grid_template_columns": null,
            "grid_template_rows": null,
            "height": null,
            "justify_content": null,
            "justify_items": null,
            "left": null,
            "margin": null,
            "max_height": null,
            "max_width": null,
            "min_height": null,
            "min_width": null,
            "object_fit": null,
            "object_position": null,
            "order": null,
            "overflow": null,
            "overflow_x": null,
            "overflow_y": null,
            "padding": null,
            "right": null,
            "top": null,
            "visibility": "hidden",
            "width": "100%"
          }
        },
        "952881641054460997dc6b33fd4333a2": {
          "model_module": "@jupyter-widgets/base",
          "model_name": "LayoutModel",
          "model_module_version": "1.2.0",
          "state": {
            "_model_module": "@jupyter-widgets/base",
            "_model_module_version": "1.2.0",
            "_model_name": "LayoutModel",
            "_view_count": null,
            "_view_module": "@jupyter-widgets/base",
            "_view_module_version": "1.2.0",
            "_view_name": "LayoutView",
            "align_content": null,
            "align_items": null,
            "align_self": null,
            "border": null,
            "bottom": null,
            "display": null,
            "flex": null,
            "flex_flow": null,
            "grid_area": null,
            "grid_auto_columns": null,
            "grid_auto_flow": null,
            "grid_auto_rows": null,
            "grid_column": null,
            "grid_gap": null,
            "grid_row": null,
            "grid_template_areas": null,
            "grid_template_columns": null,
            "grid_template_rows": null,
            "height": null,
            "justify_content": null,
            "justify_items": null,
            "left": null,
            "margin": null,
            "max_height": null,
            "max_width": null,
            "min_height": null,
            "min_width": null,
            "object_fit": null,
            "object_position": null,
            "order": null,
            "overflow": null,
            "overflow_x": null,
            "overflow_y": null,
            "padding": null,
            "right": null,
            "top": null,
            "visibility": null,
            "width": null
          }
        },
        "b20a8d91991e4a45894d96227a3d3a6d": {
          "model_module": "@jupyter-widgets/controls",
          "model_name": "DescriptionStyleModel",
          "model_module_version": "1.5.0",
          "state": {
            "_model_module": "@jupyter-widgets/controls",
            "_model_module_version": "1.5.0",
            "_model_name": "DescriptionStyleModel",
            "_view_count": null,
            "_view_module": "@jupyter-widgets/base",
            "_view_module_version": "1.2.0",
            "_view_name": "StyleView",
            "description_width": ""
          }
        },
        "f389725e52be45358d3741d8ec786241": {
          "model_module": "@jupyter-widgets/base",
          "model_name": "LayoutModel",
          "model_module_version": "1.2.0",
          "state": {
            "_model_module": "@jupyter-widgets/base",
            "_model_module_version": "1.2.0",
            "_model_name": "LayoutModel",
            "_view_count": null,
            "_view_module": "@jupyter-widgets/base",
            "_view_module_version": "1.2.0",
            "_view_name": "LayoutView",
            "align_content": null,
            "align_items": null,
            "align_self": null,
            "border": null,
            "bottom": null,
            "display": null,
            "flex": "2",
            "flex_flow": null,
            "grid_area": null,
            "grid_auto_columns": null,
            "grid_auto_flow": null,
            "grid_auto_rows": null,
            "grid_column": null,
            "grid_gap": null,
            "grid_row": null,
            "grid_template_areas": null,
            "grid_template_columns": null,
            "grid_template_rows": null,
            "height": null,
            "justify_content": null,
            "justify_items": null,
            "left": null,
            "margin": null,
            "max_height": null,
            "max_width": null,
            "min_height": null,
            "min_width": null,
            "object_fit": null,
            "object_position": null,
            "order": null,
            "overflow": null,
            "overflow_x": null,
            "overflow_y": null,
            "padding": null,
            "right": null,
            "top": null,
            "visibility": null,
            "width": null
          }
        },
        "f07f24f6805949f19a8b9b20c259e309": {
          "model_module": "@jupyter-widgets/controls",
          "model_name": "ProgressStyleModel",
          "model_module_version": "1.5.0",
          "state": {
            "_model_module": "@jupyter-widgets/controls",
            "_model_module_version": "1.5.0",
            "_model_name": "ProgressStyleModel",
            "_view_count": null,
            "_view_module": "@jupyter-widgets/base",
            "_view_module_version": "1.2.0",
            "_view_name": "StyleView",
            "bar_color": null,
            "description_width": ""
          }
        },
        "2a18e0d158ad43038b2516ba71710153": {
          "model_module": "@jupyter-widgets/base",
          "model_name": "LayoutModel",
          "model_module_version": "1.2.0",
          "state": {
            "_model_module": "@jupyter-widgets/base",
            "_model_module_version": "1.2.0",
            "_model_name": "LayoutModel",
            "_view_count": null,
            "_view_module": "@jupyter-widgets/base",
            "_view_module_version": "1.2.0",
            "_view_name": "LayoutView",
            "align_content": null,
            "align_items": null,
            "align_self": null,
            "border": null,
            "bottom": null,
            "display": null,
            "flex": null,
            "flex_flow": null,
            "grid_area": null,
            "grid_auto_columns": null,
            "grid_auto_flow": null,
            "grid_auto_rows": null,
            "grid_column": null,
            "grid_gap": null,
            "grid_row": null,
            "grid_template_areas": null,
            "grid_template_columns": null,
            "grid_template_rows": null,
            "height": null,
            "justify_content": null,
            "justify_items": null,
            "left": null,
            "margin": null,
            "max_height": null,
            "max_width": null,
            "min_height": null,
            "min_width": null,
            "object_fit": null,
            "object_position": null,
            "order": null,
            "overflow": null,
            "overflow_x": null,
            "overflow_y": null,
            "padding": null,
            "right": null,
            "top": null,
            "visibility": null,
            "width": null
          }
        },
        "0ff92fb608bb4f1b964da33c445fd67a": {
          "model_module": "@jupyter-widgets/controls",
          "model_name": "DescriptionStyleModel",
          "model_module_version": "1.5.0",
          "state": {
            "_model_module": "@jupyter-widgets/controls",
            "_model_module_version": "1.5.0",
            "_model_name": "DescriptionStyleModel",
            "_view_count": null,
            "_view_module": "@jupyter-widgets/base",
            "_view_module_version": "1.2.0",
            "_view_name": "StyleView",
            "description_width": ""
          }
        },
        "6f995a850fac4532b760e2155b84532e": {
          "model_module": "@jupyter-widgets/controls",
          "model_name": "HBoxModel",
          "model_module_version": "1.5.0",
          "state": {
            "_dom_classes": [],
            "_model_module": "@jupyter-widgets/controls",
            "_model_module_version": "1.5.0",
            "_model_name": "HBoxModel",
            "_view_count": null,
            "_view_module": "@jupyter-widgets/controls",
            "_view_module_version": "1.5.0",
            "_view_name": "HBoxView",
            "box_style": "",
            "children": [
              "IPY_MODEL_dd11c7e798ae474ca414aaccb59c5057",
              "IPY_MODEL_3e30fe943c404409901523d37a81539b",
              "IPY_MODEL_b3dee72141774d25b05499cfc45c3371"
            ],
            "layout": "IPY_MODEL_539f10b784ed4d1186f15fb7fdef46cb"
          }
        },
        "dd11c7e798ae474ca414aaccb59c5057": {
          "model_module": "@jupyter-widgets/controls",
          "model_name": "HTMLModel",
          "model_module_version": "1.5.0",
          "state": {
            "_dom_classes": [],
            "_model_module": "@jupyter-widgets/controls",
            "_model_module_version": "1.5.0",
            "_model_name": "HTMLModel",
            "_view_count": null,
            "_view_module": "@jupyter-widgets/controls",
            "_view_module_version": "1.5.0",
            "_view_name": "HTMLView",
            "description": "",
            "description_tooltip": null,
            "layout": "IPY_MODEL_c508383d59d34cdca11cb42f36cc3606",
            "placeholder": "​",
            "style": "IPY_MODEL_4c8c5dcc514e4d54ba4f59935d3651cf",
            "value": "Validation DataLoader 0: 100%"
          }
        },
        "3e30fe943c404409901523d37a81539b": {
          "model_module": "@jupyter-widgets/controls",
          "model_name": "FloatProgressModel",
          "model_module_version": "1.5.0",
          "state": {
            "_dom_classes": [],
            "_model_module": "@jupyter-widgets/controls",
            "_model_module_version": "1.5.0",
            "_model_name": "FloatProgressModel",
            "_view_count": null,
            "_view_module": "@jupyter-widgets/controls",
            "_view_module_version": "1.5.0",
            "_view_name": "ProgressView",
            "bar_style": "",
            "description": "",
            "description_tooltip": null,
            "layout": "IPY_MODEL_02d0bb8ef06e410bb8d2e39b71ed54cb",
            "max": 31,
            "min": 0,
            "orientation": "horizontal",
            "style": "IPY_MODEL_ab6bf8152a3145c6ade52e6cd84aeb14",
            "value": 31
          }
        },
        "b3dee72141774d25b05499cfc45c3371": {
          "model_module": "@jupyter-widgets/controls",
          "model_name": "HTMLModel",
          "model_module_version": "1.5.0",
          "state": {
            "_dom_classes": [],
            "_model_module": "@jupyter-widgets/controls",
            "_model_module_version": "1.5.0",
            "_model_name": "HTMLModel",
            "_view_count": null,
            "_view_module": "@jupyter-widgets/controls",
            "_view_module_version": "1.5.0",
            "_view_name": "HTMLView",
            "description": "",
            "description_tooltip": null,
            "layout": "IPY_MODEL_2b09c7a85784419e8e3c3a159864857f",
            "placeholder": "​",
            "style": "IPY_MODEL_f3a5901719084ab3965a9fa253ff4019",
            "value": " 31/31 [01:21&lt;00:00,  2.64s/it]"
          }
        },
        "539f10b784ed4d1186f15fb7fdef46cb": {
          "model_module": "@jupyter-widgets/base",
          "model_name": "LayoutModel",
          "model_module_version": "1.2.0",
          "state": {
            "_model_module": "@jupyter-widgets/base",
            "_model_module_version": "1.2.0",
            "_model_name": "LayoutModel",
            "_view_count": null,
            "_view_module": "@jupyter-widgets/base",
            "_view_module_version": "1.2.0",
            "_view_name": "LayoutView",
            "align_content": null,
            "align_items": null,
            "align_self": null,
            "border": null,
            "bottom": null,
            "display": "inline-flex",
            "flex": null,
            "flex_flow": "row wrap",
            "grid_area": null,
            "grid_auto_columns": null,
            "grid_auto_flow": null,
            "grid_auto_rows": null,
            "grid_column": null,
            "grid_gap": null,
            "grid_row": null,
            "grid_template_areas": null,
            "grid_template_columns": null,
            "grid_template_rows": null,
            "height": null,
            "justify_content": null,
            "justify_items": null,
            "left": null,
            "margin": null,
            "max_height": null,
            "max_width": null,
            "min_height": null,
            "min_width": null,
            "object_fit": null,
            "object_position": null,
            "order": null,
            "overflow": null,
            "overflow_x": null,
            "overflow_y": null,
            "padding": null,
            "right": null,
            "top": null,
            "visibility": "hidden",
            "width": "100%"
          }
        },
        "c508383d59d34cdca11cb42f36cc3606": {
          "model_module": "@jupyter-widgets/base",
          "model_name": "LayoutModel",
          "model_module_version": "1.2.0",
          "state": {
            "_model_module": "@jupyter-widgets/base",
            "_model_module_version": "1.2.0",
            "_model_name": "LayoutModel",
            "_view_count": null,
            "_view_module": "@jupyter-widgets/base",
            "_view_module_version": "1.2.0",
            "_view_name": "LayoutView",
            "align_content": null,
            "align_items": null,
            "align_self": null,
            "border": null,
            "bottom": null,
            "display": null,
            "flex": null,
            "flex_flow": null,
            "grid_area": null,
            "grid_auto_columns": null,
            "grid_auto_flow": null,
            "grid_auto_rows": null,
            "grid_column": null,
            "grid_gap": null,
            "grid_row": null,
            "grid_template_areas": null,
            "grid_template_columns": null,
            "grid_template_rows": null,
            "height": null,
            "justify_content": null,
            "justify_items": null,
            "left": null,
            "margin": null,
            "max_height": null,
            "max_width": null,
            "min_height": null,
            "min_width": null,
            "object_fit": null,
            "object_position": null,
            "order": null,
            "overflow": null,
            "overflow_x": null,
            "overflow_y": null,
            "padding": null,
            "right": null,
            "top": null,
            "visibility": null,
            "width": null
          }
        },
        "4c8c5dcc514e4d54ba4f59935d3651cf": {
          "model_module": "@jupyter-widgets/controls",
          "model_name": "DescriptionStyleModel",
          "model_module_version": "1.5.0",
          "state": {
            "_model_module": "@jupyter-widgets/controls",
            "_model_module_version": "1.5.0",
            "_model_name": "DescriptionStyleModel",
            "_view_count": null,
            "_view_module": "@jupyter-widgets/base",
            "_view_module_version": "1.2.0",
            "_view_name": "StyleView",
            "description_width": ""
          }
        },
        "02d0bb8ef06e410bb8d2e39b71ed54cb": {
          "model_module": "@jupyter-widgets/base",
          "model_name": "LayoutModel",
          "model_module_version": "1.2.0",
          "state": {
            "_model_module": "@jupyter-widgets/base",
            "_model_module_version": "1.2.0",
            "_model_name": "LayoutModel",
            "_view_count": null,
            "_view_module": "@jupyter-widgets/base",
            "_view_module_version": "1.2.0",
            "_view_name": "LayoutView",
            "align_content": null,
            "align_items": null,
            "align_self": null,
            "border": null,
            "bottom": null,
            "display": null,
            "flex": "2",
            "flex_flow": null,
            "grid_area": null,
            "grid_auto_columns": null,
            "grid_auto_flow": null,
            "grid_auto_rows": null,
            "grid_column": null,
            "grid_gap": null,
            "grid_row": null,
            "grid_template_areas": null,
            "grid_template_columns": null,
            "grid_template_rows": null,
            "height": null,
            "justify_content": null,
            "justify_items": null,
            "left": null,
            "margin": null,
            "max_height": null,
            "max_width": null,
            "min_height": null,
            "min_width": null,
            "object_fit": null,
            "object_position": null,
            "order": null,
            "overflow": null,
            "overflow_x": null,
            "overflow_y": null,
            "padding": null,
            "right": null,
            "top": null,
            "visibility": null,
            "width": null
          }
        },
        "ab6bf8152a3145c6ade52e6cd84aeb14": {
          "model_module": "@jupyter-widgets/controls",
          "model_name": "ProgressStyleModel",
          "model_module_version": "1.5.0",
          "state": {
            "_model_module": "@jupyter-widgets/controls",
            "_model_module_version": "1.5.0",
            "_model_name": "ProgressStyleModel",
            "_view_count": null,
            "_view_module": "@jupyter-widgets/base",
            "_view_module_version": "1.2.0",
            "_view_name": "StyleView",
            "bar_color": null,
            "description_width": ""
          }
        },
        "2b09c7a85784419e8e3c3a159864857f": {
          "model_module": "@jupyter-widgets/base",
          "model_name": "LayoutModel",
          "model_module_version": "1.2.0",
          "state": {
            "_model_module": "@jupyter-widgets/base",
            "_model_module_version": "1.2.0",
            "_model_name": "LayoutModel",
            "_view_count": null,
            "_view_module": "@jupyter-widgets/base",
            "_view_module_version": "1.2.0",
            "_view_name": "LayoutView",
            "align_content": null,
            "align_items": null,
            "align_self": null,
            "border": null,
            "bottom": null,
            "display": null,
            "flex": null,
            "flex_flow": null,
            "grid_area": null,
            "grid_auto_columns": null,
            "grid_auto_flow": null,
            "grid_auto_rows": null,
            "grid_column": null,
            "grid_gap": null,
            "grid_row": null,
            "grid_template_areas": null,
            "grid_template_columns": null,
            "grid_template_rows": null,
            "height": null,
            "justify_content": null,
            "justify_items": null,
            "left": null,
            "margin": null,
            "max_height": null,
            "max_width": null,
            "min_height": null,
            "min_width": null,
            "object_fit": null,
            "object_position": null,
            "order": null,
            "overflow": null,
            "overflow_x": null,
            "overflow_y": null,
            "padding": null,
            "right": null,
            "top": null,
            "visibility": null,
            "width": null
          }
        },
        "f3a5901719084ab3965a9fa253ff4019": {
          "model_module": "@jupyter-widgets/controls",
          "model_name": "DescriptionStyleModel",
          "model_module_version": "1.5.0",
          "state": {
            "_model_module": "@jupyter-widgets/controls",
            "_model_module_version": "1.5.0",
            "_model_name": "DescriptionStyleModel",
            "_view_count": null,
            "_view_module": "@jupyter-widgets/base",
            "_view_module_version": "1.2.0",
            "_view_name": "StyleView",
            "description_width": ""
          }
        },
        "e53cda6b577349818ccad34d2aca8758": {
          "model_module": "@jupyter-widgets/controls",
          "model_name": "HBoxModel",
          "model_module_version": "1.5.0",
          "state": {
            "_dom_classes": [],
            "_model_module": "@jupyter-widgets/controls",
            "_model_module_version": "1.5.0",
            "_model_name": "HBoxModel",
            "_view_count": null,
            "_view_module": "@jupyter-widgets/controls",
            "_view_module_version": "1.5.0",
            "_view_name": "HBoxView",
            "box_style": "",
            "children": [
              "IPY_MODEL_451fbd9b8cc84f14843a42c619aacf8a",
              "IPY_MODEL_997f586dc8b342feb4f1e8a1fe897e8e",
              "IPY_MODEL_6601faeacb0947d7949be16787106142"
            ],
            "layout": "IPY_MODEL_a03cbe44a40a41c9bfa514ab009e4698"
          }
        },
        "451fbd9b8cc84f14843a42c619aacf8a": {
          "model_module": "@jupyter-widgets/controls",
          "model_name": "HTMLModel",
          "model_module_version": "1.5.0",
          "state": {
            "_dom_classes": [],
            "_model_module": "@jupyter-widgets/controls",
            "_model_module_version": "1.5.0",
            "_model_name": "HTMLModel",
            "_view_count": null,
            "_view_module": "@jupyter-widgets/controls",
            "_view_module_version": "1.5.0",
            "_view_name": "HTMLView",
            "description": "",
            "description_tooltip": null,
            "layout": "IPY_MODEL_a6050c0f7c124c92a6a169b90499905b",
            "placeholder": "​",
            "style": "IPY_MODEL_41c537dfe0774e7abb8dce13153fdff8",
            "value": "Validation DataLoader 0: 100%"
          }
        },
        "997f586dc8b342feb4f1e8a1fe897e8e": {
          "model_module": "@jupyter-widgets/controls",
          "model_name": "FloatProgressModel",
          "model_module_version": "1.5.0",
          "state": {
            "_dom_classes": [],
            "_model_module": "@jupyter-widgets/controls",
            "_model_module_version": "1.5.0",
            "_model_name": "FloatProgressModel",
            "_view_count": null,
            "_view_module": "@jupyter-widgets/controls",
            "_view_module_version": "1.5.0",
            "_view_name": "ProgressView",
            "bar_style": "",
            "description": "",
            "description_tooltip": null,
            "layout": "IPY_MODEL_d764bcec1dc642bb9866dc7b6ff793de",
            "max": 31,
            "min": 0,
            "orientation": "horizontal",
            "style": "IPY_MODEL_b39c25ac441548fca4cea68c4596e80e",
            "value": 31
          }
        },
        "6601faeacb0947d7949be16787106142": {
          "model_module": "@jupyter-widgets/controls",
          "model_name": "HTMLModel",
          "model_module_version": "1.5.0",
          "state": {
            "_dom_classes": [],
            "_model_module": "@jupyter-widgets/controls",
            "_model_module_version": "1.5.0",
            "_model_name": "HTMLModel",
            "_view_count": null,
            "_view_module": "@jupyter-widgets/controls",
            "_view_module_version": "1.5.0",
            "_view_name": "HTMLView",
            "description": "",
            "description_tooltip": null,
            "layout": "IPY_MODEL_21fad94141954c91bd9b7e32909dff5c",
            "placeholder": "​",
            "style": "IPY_MODEL_0381c22e9182408c886eeadec43f7109",
            "value": " 31/31 [01:20&lt;00:00,  2.58s/it]"
          }
        },
        "a03cbe44a40a41c9bfa514ab009e4698": {
          "model_module": "@jupyter-widgets/base",
          "model_name": "LayoutModel",
          "model_module_version": "1.2.0",
          "state": {
            "_model_module": "@jupyter-widgets/base",
            "_model_module_version": "1.2.0",
            "_model_name": "LayoutModel",
            "_view_count": null,
            "_view_module": "@jupyter-widgets/base",
            "_view_module_version": "1.2.0",
            "_view_name": "LayoutView",
            "align_content": null,
            "align_items": null,
            "align_self": null,
            "border": null,
            "bottom": null,
            "display": "inline-flex",
            "flex": null,
            "flex_flow": "row wrap",
            "grid_area": null,
            "grid_auto_columns": null,
            "grid_auto_flow": null,
            "grid_auto_rows": null,
            "grid_column": null,
            "grid_gap": null,
            "grid_row": null,
            "grid_template_areas": null,
            "grid_template_columns": null,
            "grid_template_rows": null,
            "height": null,
            "justify_content": null,
            "justify_items": null,
            "left": null,
            "margin": null,
            "max_height": null,
            "max_width": null,
            "min_height": null,
            "min_width": null,
            "object_fit": null,
            "object_position": null,
            "order": null,
            "overflow": null,
            "overflow_x": null,
            "overflow_y": null,
            "padding": null,
            "right": null,
            "top": null,
            "visibility": "hidden",
            "width": "100%"
          }
        },
        "a6050c0f7c124c92a6a169b90499905b": {
          "model_module": "@jupyter-widgets/base",
          "model_name": "LayoutModel",
          "model_module_version": "1.2.0",
          "state": {
            "_model_module": "@jupyter-widgets/base",
            "_model_module_version": "1.2.0",
            "_model_name": "LayoutModel",
            "_view_count": null,
            "_view_module": "@jupyter-widgets/base",
            "_view_module_version": "1.2.0",
            "_view_name": "LayoutView",
            "align_content": null,
            "align_items": null,
            "align_self": null,
            "border": null,
            "bottom": null,
            "display": null,
            "flex": null,
            "flex_flow": null,
            "grid_area": null,
            "grid_auto_columns": null,
            "grid_auto_flow": null,
            "grid_auto_rows": null,
            "grid_column": null,
            "grid_gap": null,
            "grid_row": null,
            "grid_template_areas": null,
            "grid_template_columns": null,
            "grid_template_rows": null,
            "height": null,
            "justify_content": null,
            "justify_items": null,
            "left": null,
            "margin": null,
            "max_height": null,
            "max_width": null,
            "min_height": null,
            "min_width": null,
            "object_fit": null,
            "object_position": null,
            "order": null,
            "overflow": null,
            "overflow_x": null,
            "overflow_y": null,
            "padding": null,
            "right": null,
            "top": null,
            "visibility": null,
            "width": null
          }
        },
        "41c537dfe0774e7abb8dce13153fdff8": {
          "model_module": "@jupyter-widgets/controls",
          "model_name": "DescriptionStyleModel",
          "model_module_version": "1.5.0",
          "state": {
            "_model_module": "@jupyter-widgets/controls",
            "_model_module_version": "1.5.0",
            "_model_name": "DescriptionStyleModel",
            "_view_count": null,
            "_view_module": "@jupyter-widgets/base",
            "_view_module_version": "1.2.0",
            "_view_name": "StyleView",
            "description_width": ""
          }
        },
        "d764bcec1dc642bb9866dc7b6ff793de": {
          "model_module": "@jupyter-widgets/base",
          "model_name": "LayoutModel",
          "model_module_version": "1.2.0",
          "state": {
            "_model_module": "@jupyter-widgets/base",
            "_model_module_version": "1.2.0",
            "_model_name": "LayoutModel",
            "_view_count": null,
            "_view_module": "@jupyter-widgets/base",
            "_view_module_version": "1.2.0",
            "_view_name": "LayoutView",
            "align_content": null,
            "align_items": null,
            "align_self": null,
            "border": null,
            "bottom": null,
            "display": null,
            "flex": "2",
            "flex_flow": null,
            "grid_area": null,
            "grid_auto_columns": null,
            "grid_auto_flow": null,
            "grid_auto_rows": null,
            "grid_column": null,
            "grid_gap": null,
            "grid_row": null,
            "grid_template_areas": null,
            "grid_template_columns": null,
            "grid_template_rows": null,
            "height": null,
            "justify_content": null,
            "justify_items": null,
            "left": null,
            "margin": null,
            "max_height": null,
            "max_width": null,
            "min_height": null,
            "min_width": null,
            "object_fit": null,
            "object_position": null,
            "order": null,
            "overflow": null,
            "overflow_x": null,
            "overflow_y": null,
            "padding": null,
            "right": null,
            "top": null,
            "visibility": null,
            "width": null
          }
        },
        "b39c25ac441548fca4cea68c4596e80e": {
          "model_module": "@jupyter-widgets/controls",
          "model_name": "ProgressStyleModel",
          "model_module_version": "1.5.0",
          "state": {
            "_model_module": "@jupyter-widgets/controls",
            "_model_module_version": "1.5.0",
            "_model_name": "ProgressStyleModel",
            "_view_count": null,
            "_view_module": "@jupyter-widgets/base",
            "_view_module_version": "1.2.0",
            "_view_name": "StyleView",
            "bar_color": null,
            "description_width": ""
          }
        },
        "21fad94141954c91bd9b7e32909dff5c": {
          "model_module": "@jupyter-widgets/base",
          "model_name": "LayoutModel",
          "model_module_version": "1.2.0",
          "state": {
            "_model_module": "@jupyter-widgets/base",
            "_model_module_version": "1.2.0",
            "_model_name": "LayoutModel",
            "_view_count": null,
            "_view_module": "@jupyter-widgets/base",
            "_view_module_version": "1.2.0",
            "_view_name": "LayoutView",
            "align_content": null,
            "align_items": null,
            "align_self": null,
            "border": null,
            "bottom": null,
            "display": null,
            "flex": null,
            "flex_flow": null,
            "grid_area": null,
            "grid_auto_columns": null,
            "grid_auto_flow": null,
            "grid_auto_rows": null,
            "grid_column": null,
            "grid_gap": null,
            "grid_row": null,
            "grid_template_areas": null,
            "grid_template_columns": null,
            "grid_template_rows": null,
            "height": null,
            "justify_content": null,
            "justify_items": null,
            "left": null,
            "margin": null,
            "max_height": null,
            "max_width": null,
            "min_height": null,
            "min_width": null,
            "object_fit": null,
            "object_position": null,
            "order": null,
            "overflow": null,
            "overflow_x": null,
            "overflow_y": null,
            "padding": null,
            "right": null,
            "top": null,
            "visibility": null,
            "width": null
          }
        },
        "0381c22e9182408c886eeadec43f7109": {
          "model_module": "@jupyter-widgets/controls",
          "model_name": "DescriptionStyleModel",
          "model_module_version": "1.5.0",
          "state": {
            "_model_module": "@jupyter-widgets/controls",
            "_model_module_version": "1.5.0",
            "_model_name": "DescriptionStyleModel",
            "_view_count": null,
            "_view_module": "@jupyter-widgets/base",
            "_view_module_version": "1.2.0",
            "_view_name": "StyleView",
            "description_width": ""
          }
        },
        "041a2c613b1f411080a528357d645958": {
          "model_module": "@jupyter-widgets/controls",
          "model_name": "HBoxModel",
          "model_module_version": "1.5.0",
          "state": {
            "_dom_classes": [],
            "_model_module": "@jupyter-widgets/controls",
            "_model_module_version": "1.5.0",
            "_model_name": "HBoxModel",
            "_view_count": null,
            "_view_module": "@jupyter-widgets/controls",
            "_view_module_version": "1.5.0",
            "_view_name": "HBoxView",
            "box_style": "",
            "children": [
              "IPY_MODEL_0737baa06dbd4cb1abdfbce95e58f51a",
              "IPY_MODEL_c055d2fed406402c82ac9a7a20f357a0",
              "IPY_MODEL_0db32fa4358e4ddaacdcf6cca5bf9b81"
            ],
            "layout": "IPY_MODEL_cf9ef290f5b84756af13ba69b413e541"
          }
        },
        "0737baa06dbd4cb1abdfbce95e58f51a": {
          "model_module": "@jupyter-widgets/controls",
          "model_name": "HTMLModel",
          "model_module_version": "1.5.0",
          "state": {
            "_dom_classes": [],
            "_model_module": "@jupyter-widgets/controls",
            "_model_module_version": "1.5.0",
            "_model_name": "HTMLModel",
            "_view_count": null,
            "_view_module": "@jupyter-widgets/controls",
            "_view_module_version": "1.5.0",
            "_view_name": "HTMLView",
            "description": "",
            "description_tooltip": null,
            "layout": "IPY_MODEL_391e59e5f32547c5a28989add33571fc",
            "placeholder": "​",
            "style": "IPY_MODEL_898ff0c0047f4ed8957400ff3c41d85e",
            "value": "Validation DataLoader 0: 100%"
          }
        },
        "c055d2fed406402c82ac9a7a20f357a0": {
          "model_module": "@jupyter-widgets/controls",
          "model_name": "FloatProgressModel",
          "model_module_version": "1.5.0",
          "state": {
            "_dom_classes": [],
            "_model_module": "@jupyter-widgets/controls",
            "_model_module_version": "1.5.0",
            "_model_name": "FloatProgressModel",
            "_view_count": null,
            "_view_module": "@jupyter-widgets/controls",
            "_view_module_version": "1.5.0",
            "_view_name": "ProgressView",
            "bar_style": "",
            "description": "",
            "description_tooltip": null,
            "layout": "IPY_MODEL_bf6029927dc145bab31543d03028a92c",
            "max": 31,
            "min": 0,
            "orientation": "horizontal",
            "style": "IPY_MODEL_f04daac3ffb84d3eb3932198513b5b42",
            "value": 31
          }
        },
        "0db32fa4358e4ddaacdcf6cca5bf9b81": {
          "model_module": "@jupyter-widgets/controls",
          "model_name": "HTMLModel",
          "model_module_version": "1.5.0",
          "state": {
            "_dom_classes": [],
            "_model_module": "@jupyter-widgets/controls",
            "_model_module_version": "1.5.0",
            "_model_name": "HTMLModel",
            "_view_count": null,
            "_view_module": "@jupyter-widgets/controls",
            "_view_module_version": "1.5.0",
            "_view_name": "HTMLView",
            "description": "",
            "description_tooltip": null,
            "layout": "IPY_MODEL_6afab3d0fa0845ac9fdcd647972b23ef",
            "placeholder": "​",
            "style": "IPY_MODEL_1b4594e7c7204962aacaeebe60a326f5",
            "value": " 31/31 [01:19&lt;00:00,  2.58s/it]"
          }
        },
        "cf9ef290f5b84756af13ba69b413e541": {
          "model_module": "@jupyter-widgets/base",
          "model_name": "LayoutModel",
          "model_module_version": "1.2.0",
          "state": {
            "_model_module": "@jupyter-widgets/base",
            "_model_module_version": "1.2.0",
            "_model_name": "LayoutModel",
            "_view_count": null,
            "_view_module": "@jupyter-widgets/base",
            "_view_module_version": "1.2.0",
            "_view_name": "LayoutView",
            "align_content": null,
            "align_items": null,
            "align_self": null,
            "border": null,
            "bottom": null,
            "display": "inline-flex",
            "flex": null,
            "flex_flow": "row wrap",
            "grid_area": null,
            "grid_auto_columns": null,
            "grid_auto_flow": null,
            "grid_auto_rows": null,
            "grid_column": null,
            "grid_gap": null,
            "grid_row": null,
            "grid_template_areas": null,
            "grid_template_columns": null,
            "grid_template_rows": null,
            "height": null,
            "justify_content": null,
            "justify_items": null,
            "left": null,
            "margin": null,
            "max_height": null,
            "max_width": null,
            "min_height": null,
            "min_width": null,
            "object_fit": null,
            "object_position": null,
            "order": null,
            "overflow": null,
            "overflow_x": null,
            "overflow_y": null,
            "padding": null,
            "right": null,
            "top": null,
            "visibility": "hidden",
            "width": "100%"
          }
        },
        "391e59e5f32547c5a28989add33571fc": {
          "model_module": "@jupyter-widgets/base",
          "model_name": "LayoutModel",
          "model_module_version": "1.2.0",
          "state": {
            "_model_module": "@jupyter-widgets/base",
            "_model_module_version": "1.2.0",
            "_model_name": "LayoutModel",
            "_view_count": null,
            "_view_module": "@jupyter-widgets/base",
            "_view_module_version": "1.2.0",
            "_view_name": "LayoutView",
            "align_content": null,
            "align_items": null,
            "align_self": null,
            "border": null,
            "bottom": null,
            "display": null,
            "flex": null,
            "flex_flow": null,
            "grid_area": null,
            "grid_auto_columns": null,
            "grid_auto_flow": null,
            "grid_auto_rows": null,
            "grid_column": null,
            "grid_gap": null,
            "grid_row": null,
            "grid_template_areas": null,
            "grid_template_columns": null,
            "grid_template_rows": null,
            "height": null,
            "justify_content": null,
            "justify_items": null,
            "left": null,
            "margin": null,
            "max_height": null,
            "max_width": null,
            "min_height": null,
            "min_width": null,
            "object_fit": null,
            "object_position": null,
            "order": null,
            "overflow": null,
            "overflow_x": null,
            "overflow_y": null,
            "padding": null,
            "right": null,
            "top": null,
            "visibility": null,
            "width": null
          }
        },
        "898ff0c0047f4ed8957400ff3c41d85e": {
          "model_module": "@jupyter-widgets/controls",
          "model_name": "DescriptionStyleModel",
          "model_module_version": "1.5.0",
          "state": {
            "_model_module": "@jupyter-widgets/controls",
            "_model_module_version": "1.5.0",
            "_model_name": "DescriptionStyleModel",
            "_view_count": null,
            "_view_module": "@jupyter-widgets/base",
            "_view_module_version": "1.2.0",
            "_view_name": "StyleView",
            "description_width": ""
          }
        },
        "bf6029927dc145bab31543d03028a92c": {
          "model_module": "@jupyter-widgets/base",
          "model_name": "LayoutModel",
          "model_module_version": "1.2.0",
          "state": {
            "_model_module": "@jupyter-widgets/base",
            "_model_module_version": "1.2.0",
            "_model_name": "LayoutModel",
            "_view_count": null,
            "_view_module": "@jupyter-widgets/base",
            "_view_module_version": "1.2.0",
            "_view_name": "LayoutView",
            "align_content": null,
            "align_items": null,
            "align_self": null,
            "border": null,
            "bottom": null,
            "display": null,
            "flex": "2",
            "flex_flow": null,
            "grid_area": null,
            "grid_auto_columns": null,
            "grid_auto_flow": null,
            "grid_auto_rows": null,
            "grid_column": null,
            "grid_gap": null,
            "grid_row": null,
            "grid_template_areas": null,
            "grid_template_columns": null,
            "grid_template_rows": null,
            "height": null,
            "justify_content": null,
            "justify_items": null,
            "left": null,
            "margin": null,
            "max_height": null,
            "max_width": null,
            "min_height": null,
            "min_width": null,
            "object_fit": null,
            "object_position": null,
            "order": null,
            "overflow": null,
            "overflow_x": null,
            "overflow_y": null,
            "padding": null,
            "right": null,
            "top": null,
            "visibility": null,
            "width": null
          }
        },
        "f04daac3ffb84d3eb3932198513b5b42": {
          "model_module": "@jupyter-widgets/controls",
          "model_name": "ProgressStyleModel",
          "model_module_version": "1.5.0",
          "state": {
            "_model_module": "@jupyter-widgets/controls",
            "_model_module_version": "1.5.0",
            "_model_name": "ProgressStyleModel",
            "_view_count": null,
            "_view_module": "@jupyter-widgets/base",
            "_view_module_version": "1.2.0",
            "_view_name": "StyleView",
            "bar_color": null,
            "description_width": ""
          }
        },
        "6afab3d0fa0845ac9fdcd647972b23ef": {
          "model_module": "@jupyter-widgets/base",
          "model_name": "LayoutModel",
          "model_module_version": "1.2.0",
          "state": {
            "_model_module": "@jupyter-widgets/base",
            "_model_module_version": "1.2.0",
            "_model_name": "LayoutModel",
            "_view_count": null,
            "_view_module": "@jupyter-widgets/base",
            "_view_module_version": "1.2.0",
            "_view_name": "LayoutView",
            "align_content": null,
            "align_items": null,
            "align_self": null,
            "border": null,
            "bottom": null,
            "display": null,
            "flex": null,
            "flex_flow": null,
            "grid_area": null,
            "grid_auto_columns": null,
            "grid_auto_flow": null,
            "grid_auto_rows": null,
            "grid_column": null,
            "grid_gap": null,
            "grid_row": null,
            "grid_template_areas": null,
            "grid_template_columns": null,
            "grid_template_rows": null,
            "height": null,
            "justify_content": null,
            "justify_items": null,
            "left": null,
            "margin": null,
            "max_height": null,
            "max_width": null,
            "min_height": null,
            "min_width": null,
            "object_fit": null,
            "object_position": null,
            "order": null,
            "overflow": null,
            "overflow_x": null,
            "overflow_y": null,
            "padding": null,
            "right": null,
            "top": null,
            "visibility": null,
            "width": null
          }
        },
        "1b4594e7c7204962aacaeebe60a326f5": {
          "model_module": "@jupyter-widgets/controls",
          "model_name": "DescriptionStyleModel",
          "model_module_version": "1.5.0",
          "state": {
            "_model_module": "@jupyter-widgets/controls",
            "_model_module_version": "1.5.0",
            "_model_name": "DescriptionStyleModel",
            "_view_count": null,
            "_view_module": "@jupyter-widgets/base",
            "_view_module_version": "1.2.0",
            "_view_name": "StyleView",
            "description_width": ""
          }
        },
        "b2f9d75110db4bac8918b716a2854695": {
          "model_module": "@jupyter-widgets/controls",
          "model_name": "HBoxModel",
          "model_module_version": "1.5.0",
          "state": {
            "_dom_classes": [],
            "_model_module": "@jupyter-widgets/controls",
            "_model_module_version": "1.5.0",
            "_model_name": "HBoxModel",
            "_view_count": null,
            "_view_module": "@jupyter-widgets/controls",
            "_view_module_version": "1.5.0",
            "_view_name": "HBoxView",
            "box_style": "",
            "children": [
              "IPY_MODEL_6354f10502aa4b96a79bd8fc453413e0",
              "IPY_MODEL_4ef4b0564eb249f698ec763e86bdc6cc",
              "IPY_MODEL_000bb5270f2f4de28835ed4d5e2f64eb"
            ],
            "layout": "IPY_MODEL_cdafe1e1792e408c8d0430a8f32862ae"
          }
        },
        "6354f10502aa4b96a79bd8fc453413e0": {
          "model_module": "@jupyter-widgets/controls",
          "model_name": "HTMLModel",
          "model_module_version": "1.5.0",
          "state": {
            "_dom_classes": [],
            "_model_module": "@jupyter-widgets/controls",
            "_model_module_version": "1.5.0",
            "_model_name": "HTMLModel",
            "_view_count": null,
            "_view_module": "@jupyter-widgets/controls",
            "_view_module_version": "1.5.0",
            "_view_name": "HTMLView",
            "description": "",
            "description_tooltip": null,
            "layout": "IPY_MODEL_7f831194a2fe44c0a624baadb6544951",
            "placeholder": "​",
            "style": "IPY_MODEL_328a7b24228f4981af00758ec8785d79",
            "value": "Validation DataLoader 0: 100%"
          }
        },
        "4ef4b0564eb249f698ec763e86bdc6cc": {
          "model_module": "@jupyter-widgets/controls",
          "model_name": "FloatProgressModel",
          "model_module_version": "1.5.0",
          "state": {
            "_dom_classes": [],
            "_model_module": "@jupyter-widgets/controls",
            "_model_module_version": "1.5.0",
            "_model_name": "FloatProgressModel",
            "_view_count": null,
            "_view_module": "@jupyter-widgets/controls",
            "_view_module_version": "1.5.0",
            "_view_name": "ProgressView",
            "bar_style": "",
            "description": "",
            "description_tooltip": null,
            "layout": "IPY_MODEL_f40fcbb01ac847598cc6bd444c32ff7d",
            "max": 31,
            "min": 0,
            "orientation": "horizontal",
            "style": "IPY_MODEL_50bc39c4f4db4d34bf76eeb1a41544e1",
            "value": 31
          }
        },
        "000bb5270f2f4de28835ed4d5e2f64eb": {
          "model_module": "@jupyter-widgets/controls",
          "model_name": "HTMLModel",
          "model_module_version": "1.5.0",
          "state": {
            "_dom_classes": [],
            "_model_module": "@jupyter-widgets/controls",
            "_model_module_version": "1.5.0",
            "_model_name": "HTMLModel",
            "_view_count": null,
            "_view_module": "@jupyter-widgets/controls",
            "_view_module_version": "1.5.0",
            "_view_name": "HTMLView",
            "description": "",
            "description_tooltip": null,
            "layout": "IPY_MODEL_5bd36b95df914889ab122f5503cc4f33",
            "placeholder": "​",
            "style": "IPY_MODEL_dba24137a11d430a953254c71bab70ac",
            "value": " 31/31 [01:20&lt;00:00,  2.60s/it]"
          }
        },
        "cdafe1e1792e408c8d0430a8f32862ae": {
          "model_module": "@jupyter-widgets/base",
          "model_name": "LayoutModel",
          "model_module_version": "1.2.0",
          "state": {
            "_model_module": "@jupyter-widgets/base",
            "_model_module_version": "1.2.0",
            "_model_name": "LayoutModel",
            "_view_count": null,
            "_view_module": "@jupyter-widgets/base",
            "_view_module_version": "1.2.0",
            "_view_name": "LayoutView",
            "align_content": null,
            "align_items": null,
            "align_self": null,
            "border": null,
            "bottom": null,
            "display": "inline-flex",
            "flex": null,
            "flex_flow": "row wrap",
            "grid_area": null,
            "grid_auto_columns": null,
            "grid_auto_flow": null,
            "grid_auto_rows": null,
            "grid_column": null,
            "grid_gap": null,
            "grid_row": null,
            "grid_template_areas": null,
            "grid_template_columns": null,
            "grid_template_rows": null,
            "height": null,
            "justify_content": null,
            "justify_items": null,
            "left": null,
            "margin": null,
            "max_height": null,
            "max_width": null,
            "min_height": null,
            "min_width": null,
            "object_fit": null,
            "object_position": null,
            "order": null,
            "overflow": null,
            "overflow_x": null,
            "overflow_y": null,
            "padding": null,
            "right": null,
            "top": null,
            "visibility": "hidden",
            "width": "100%"
          }
        },
        "7f831194a2fe44c0a624baadb6544951": {
          "model_module": "@jupyter-widgets/base",
          "model_name": "LayoutModel",
          "model_module_version": "1.2.0",
          "state": {
            "_model_module": "@jupyter-widgets/base",
            "_model_module_version": "1.2.0",
            "_model_name": "LayoutModel",
            "_view_count": null,
            "_view_module": "@jupyter-widgets/base",
            "_view_module_version": "1.2.0",
            "_view_name": "LayoutView",
            "align_content": null,
            "align_items": null,
            "align_self": null,
            "border": null,
            "bottom": null,
            "display": null,
            "flex": null,
            "flex_flow": null,
            "grid_area": null,
            "grid_auto_columns": null,
            "grid_auto_flow": null,
            "grid_auto_rows": null,
            "grid_column": null,
            "grid_gap": null,
            "grid_row": null,
            "grid_template_areas": null,
            "grid_template_columns": null,
            "grid_template_rows": null,
            "height": null,
            "justify_content": null,
            "justify_items": null,
            "left": null,
            "margin": null,
            "max_height": null,
            "max_width": null,
            "min_height": null,
            "min_width": null,
            "object_fit": null,
            "object_position": null,
            "order": null,
            "overflow": null,
            "overflow_x": null,
            "overflow_y": null,
            "padding": null,
            "right": null,
            "top": null,
            "visibility": null,
            "width": null
          }
        },
        "328a7b24228f4981af00758ec8785d79": {
          "model_module": "@jupyter-widgets/controls",
          "model_name": "DescriptionStyleModel",
          "model_module_version": "1.5.0",
          "state": {
            "_model_module": "@jupyter-widgets/controls",
            "_model_module_version": "1.5.0",
            "_model_name": "DescriptionStyleModel",
            "_view_count": null,
            "_view_module": "@jupyter-widgets/base",
            "_view_module_version": "1.2.0",
            "_view_name": "StyleView",
            "description_width": ""
          }
        },
        "f40fcbb01ac847598cc6bd444c32ff7d": {
          "model_module": "@jupyter-widgets/base",
          "model_name": "LayoutModel",
          "model_module_version": "1.2.0",
          "state": {
            "_model_module": "@jupyter-widgets/base",
            "_model_module_version": "1.2.0",
            "_model_name": "LayoutModel",
            "_view_count": null,
            "_view_module": "@jupyter-widgets/base",
            "_view_module_version": "1.2.0",
            "_view_name": "LayoutView",
            "align_content": null,
            "align_items": null,
            "align_self": null,
            "border": null,
            "bottom": null,
            "display": null,
            "flex": "2",
            "flex_flow": null,
            "grid_area": null,
            "grid_auto_columns": null,
            "grid_auto_flow": null,
            "grid_auto_rows": null,
            "grid_column": null,
            "grid_gap": null,
            "grid_row": null,
            "grid_template_areas": null,
            "grid_template_columns": null,
            "grid_template_rows": null,
            "height": null,
            "justify_content": null,
            "justify_items": null,
            "left": null,
            "margin": null,
            "max_height": null,
            "max_width": null,
            "min_height": null,
            "min_width": null,
            "object_fit": null,
            "object_position": null,
            "order": null,
            "overflow": null,
            "overflow_x": null,
            "overflow_y": null,
            "padding": null,
            "right": null,
            "top": null,
            "visibility": null,
            "width": null
          }
        },
        "50bc39c4f4db4d34bf76eeb1a41544e1": {
          "model_module": "@jupyter-widgets/controls",
          "model_name": "ProgressStyleModel",
          "model_module_version": "1.5.0",
          "state": {
            "_model_module": "@jupyter-widgets/controls",
            "_model_module_version": "1.5.0",
            "_model_name": "ProgressStyleModel",
            "_view_count": null,
            "_view_module": "@jupyter-widgets/base",
            "_view_module_version": "1.2.0",
            "_view_name": "StyleView",
            "bar_color": null,
            "description_width": ""
          }
        },
        "5bd36b95df914889ab122f5503cc4f33": {
          "model_module": "@jupyter-widgets/base",
          "model_name": "LayoutModel",
          "model_module_version": "1.2.0",
          "state": {
            "_model_module": "@jupyter-widgets/base",
            "_model_module_version": "1.2.0",
            "_model_name": "LayoutModel",
            "_view_count": null,
            "_view_module": "@jupyter-widgets/base",
            "_view_module_version": "1.2.0",
            "_view_name": "LayoutView",
            "align_content": null,
            "align_items": null,
            "align_self": null,
            "border": null,
            "bottom": null,
            "display": null,
            "flex": null,
            "flex_flow": null,
            "grid_area": null,
            "grid_auto_columns": null,
            "grid_auto_flow": null,
            "grid_auto_rows": null,
            "grid_column": null,
            "grid_gap": null,
            "grid_row": null,
            "grid_template_areas": null,
            "grid_template_columns": null,
            "grid_template_rows": null,
            "height": null,
            "justify_content": null,
            "justify_items": null,
            "left": null,
            "margin": null,
            "max_height": null,
            "max_width": null,
            "min_height": null,
            "min_width": null,
            "object_fit": null,
            "object_position": null,
            "order": null,
            "overflow": null,
            "overflow_x": null,
            "overflow_y": null,
            "padding": null,
            "right": null,
            "top": null,
            "visibility": null,
            "width": null
          }
        },
        "dba24137a11d430a953254c71bab70ac": {
          "model_module": "@jupyter-widgets/controls",
          "model_name": "DescriptionStyleModel",
          "model_module_version": "1.5.0",
          "state": {
            "_model_module": "@jupyter-widgets/controls",
            "_model_module_version": "1.5.0",
            "_model_name": "DescriptionStyleModel",
            "_view_count": null,
            "_view_module": "@jupyter-widgets/base",
            "_view_module_version": "1.2.0",
            "_view_name": "StyleView",
            "description_width": ""
          }
        },
        "15685e2299e044a9920dafd609fcf6b6": {
          "model_module": "@jupyter-widgets/controls",
          "model_name": "HBoxModel",
          "model_module_version": "1.5.0",
          "state": {
            "_dom_classes": [],
            "_model_module": "@jupyter-widgets/controls",
            "_model_module_version": "1.5.0",
            "_model_name": "HBoxModel",
            "_view_count": null,
            "_view_module": "@jupyter-widgets/controls",
            "_view_module_version": "1.5.0",
            "_view_name": "HBoxView",
            "box_style": "",
            "children": [
              "IPY_MODEL_8e7e511460b74f19a028c0c5d686b7e8",
              "IPY_MODEL_57d8c12516444156b1e549f7cf9d98f5",
              "IPY_MODEL_3ce7cf68507c4373af2cd2683a9b1707"
            ],
            "layout": "IPY_MODEL_1967d774476142e49671eba3ee814067"
          }
        },
        "8e7e511460b74f19a028c0c5d686b7e8": {
          "model_module": "@jupyter-widgets/controls",
          "model_name": "HTMLModel",
          "model_module_version": "1.5.0",
          "state": {
            "_dom_classes": [],
            "_model_module": "@jupyter-widgets/controls",
            "_model_module_version": "1.5.0",
            "_model_name": "HTMLModel",
            "_view_count": null,
            "_view_module": "@jupyter-widgets/controls",
            "_view_module_version": "1.5.0",
            "_view_name": "HTMLView",
            "description": "",
            "description_tooltip": null,
            "layout": "IPY_MODEL_48b2e80fb28f44d7b9a456050e8362cf",
            "placeholder": "​",
            "style": "IPY_MODEL_86a23bd86c8f4983add19ef463557a54",
            "value": "Validation DataLoader 0: 100%"
          }
        },
        "57d8c12516444156b1e549f7cf9d98f5": {
          "model_module": "@jupyter-widgets/controls",
          "model_name": "FloatProgressModel",
          "model_module_version": "1.5.0",
          "state": {
            "_dom_classes": [],
            "_model_module": "@jupyter-widgets/controls",
            "_model_module_version": "1.5.0",
            "_model_name": "FloatProgressModel",
            "_view_count": null,
            "_view_module": "@jupyter-widgets/controls",
            "_view_module_version": "1.5.0",
            "_view_name": "ProgressView",
            "bar_style": "",
            "description": "",
            "description_tooltip": null,
            "layout": "IPY_MODEL_1fbdd3ca3add4fa7a29db7b496169072",
            "max": 31,
            "min": 0,
            "orientation": "horizontal",
            "style": "IPY_MODEL_e6c25b6ce5e1483f96a4e98577100309",
            "value": 31
          }
        },
        "3ce7cf68507c4373af2cd2683a9b1707": {
          "model_module": "@jupyter-widgets/controls",
          "model_name": "HTMLModel",
          "model_module_version": "1.5.0",
          "state": {
            "_dom_classes": [],
            "_model_module": "@jupyter-widgets/controls",
            "_model_module_version": "1.5.0",
            "_model_name": "HTMLModel",
            "_view_count": null,
            "_view_module": "@jupyter-widgets/controls",
            "_view_module_version": "1.5.0",
            "_view_name": "HTMLView",
            "description": "",
            "description_tooltip": null,
            "layout": "IPY_MODEL_f23b2e1537d24726bfb601016d0583d8",
            "placeholder": "​",
            "style": "IPY_MODEL_05d5051074684a8ca8512caa50ff8aa5",
            "value": " 31/31 [01:20&lt;00:00,  2.59s/it]"
          }
        },
        "1967d774476142e49671eba3ee814067": {
          "model_module": "@jupyter-widgets/base",
          "model_name": "LayoutModel",
          "model_module_version": "1.2.0",
          "state": {
            "_model_module": "@jupyter-widgets/base",
            "_model_module_version": "1.2.0",
            "_model_name": "LayoutModel",
            "_view_count": null,
            "_view_module": "@jupyter-widgets/base",
            "_view_module_version": "1.2.0",
            "_view_name": "LayoutView",
            "align_content": null,
            "align_items": null,
            "align_self": null,
            "border": null,
            "bottom": null,
            "display": "inline-flex",
            "flex": null,
            "flex_flow": "row wrap",
            "grid_area": null,
            "grid_auto_columns": null,
            "grid_auto_flow": null,
            "grid_auto_rows": null,
            "grid_column": null,
            "grid_gap": null,
            "grid_row": null,
            "grid_template_areas": null,
            "grid_template_columns": null,
            "grid_template_rows": null,
            "height": null,
            "justify_content": null,
            "justify_items": null,
            "left": null,
            "margin": null,
            "max_height": null,
            "max_width": null,
            "min_height": null,
            "min_width": null,
            "object_fit": null,
            "object_position": null,
            "order": null,
            "overflow": null,
            "overflow_x": null,
            "overflow_y": null,
            "padding": null,
            "right": null,
            "top": null,
            "visibility": "hidden",
            "width": "100%"
          }
        },
        "48b2e80fb28f44d7b9a456050e8362cf": {
          "model_module": "@jupyter-widgets/base",
          "model_name": "LayoutModel",
          "model_module_version": "1.2.0",
          "state": {
            "_model_module": "@jupyter-widgets/base",
            "_model_module_version": "1.2.0",
            "_model_name": "LayoutModel",
            "_view_count": null,
            "_view_module": "@jupyter-widgets/base",
            "_view_module_version": "1.2.0",
            "_view_name": "LayoutView",
            "align_content": null,
            "align_items": null,
            "align_self": null,
            "border": null,
            "bottom": null,
            "display": null,
            "flex": null,
            "flex_flow": null,
            "grid_area": null,
            "grid_auto_columns": null,
            "grid_auto_flow": null,
            "grid_auto_rows": null,
            "grid_column": null,
            "grid_gap": null,
            "grid_row": null,
            "grid_template_areas": null,
            "grid_template_columns": null,
            "grid_template_rows": null,
            "height": null,
            "justify_content": null,
            "justify_items": null,
            "left": null,
            "margin": null,
            "max_height": null,
            "max_width": null,
            "min_height": null,
            "min_width": null,
            "object_fit": null,
            "object_position": null,
            "order": null,
            "overflow": null,
            "overflow_x": null,
            "overflow_y": null,
            "padding": null,
            "right": null,
            "top": null,
            "visibility": null,
            "width": null
          }
        },
        "86a23bd86c8f4983add19ef463557a54": {
          "model_module": "@jupyter-widgets/controls",
          "model_name": "DescriptionStyleModel",
          "model_module_version": "1.5.0",
          "state": {
            "_model_module": "@jupyter-widgets/controls",
            "_model_module_version": "1.5.0",
            "_model_name": "DescriptionStyleModel",
            "_view_count": null,
            "_view_module": "@jupyter-widgets/base",
            "_view_module_version": "1.2.0",
            "_view_name": "StyleView",
            "description_width": ""
          }
        },
        "1fbdd3ca3add4fa7a29db7b496169072": {
          "model_module": "@jupyter-widgets/base",
          "model_name": "LayoutModel",
          "model_module_version": "1.2.0",
          "state": {
            "_model_module": "@jupyter-widgets/base",
            "_model_module_version": "1.2.0",
            "_model_name": "LayoutModel",
            "_view_count": null,
            "_view_module": "@jupyter-widgets/base",
            "_view_module_version": "1.2.0",
            "_view_name": "LayoutView",
            "align_content": null,
            "align_items": null,
            "align_self": null,
            "border": null,
            "bottom": null,
            "display": null,
            "flex": "2",
            "flex_flow": null,
            "grid_area": null,
            "grid_auto_columns": null,
            "grid_auto_flow": null,
            "grid_auto_rows": null,
            "grid_column": null,
            "grid_gap": null,
            "grid_row": null,
            "grid_template_areas": null,
            "grid_template_columns": null,
            "grid_template_rows": null,
            "height": null,
            "justify_content": null,
            "justify_items": null,
            "left": null,
            "margin": null,
            "max_height": null,
            "max_width": null,
            "min_height": null,
            "min_width": null,
            "object_fit": null,
            "object_position": null,
            "order": null,
            "overflow": null,
            "overflow_x": null,
            "overflow_y": null,
            "padding": null,
            "right": null,
            "top": null,
            "visibility": null,
            "width": null
          }
        },
        "e6c25b6ce5e1483f96a4e98577100309": {
          "model_module": "@jupyter-widgets/controls",
          "model_name": "ProgressStyleModel",
          "model_module_version": "1.5.0",
          "state": {
            "_model_module": "@jupyter-widgets/controls",
            "_model_module_version": "1.5.0",
            "_model_name": "ProgressStyleModel",
            "_view_count": null,
            "_view_module": "@jupyter-widgets/base",
            "_view_module_version": "1.2.0",
            "_view_name": "StyleView",
            "bar_color": null,
            "description_width": ""
          }
        },
        "f23b2e1537d24726bfb601016d0583d8": {
          "model_module": "@jupyter-widgets/base",
          "model_name": "LayoutModel",
          "model_module_version": "1.2.0",
          "state": {
            "_model_module": "@jupyter-widgets/base",
            "_model_module_version": "1.2.0",
            "_model_name": "LayoutModel",
            "_view_count": null,
            "_view_module": "@jupyter-widgets/base",
            "_view_module_version": "1.2.0",
            "_view_name": "LayoutView",
            "align_content": null,
            "align_items": null,
            "align_self": null,
            "border": null,
            "bottom": null,
            "display": null,
            "flex": null,
            "flex_flow": null,
            "grid_area": null,
            "grid_auto_columns": null,
            "grid_auto_flow": null,
            "grid_auto_rows": null,
            "grid_column": null,
            "grid_gap": null,
            "grid_row": null,
            "grid_template_areas": null,
            "grid_template_columns": null,
            "grid_template_rows": null,
            "height": null,
            "justify_content": null,
            "justify_items": null,
            "left": null,
            "margin": null,
            "max_height": null,
            "max_width": null,
            "min_height": null,
            "min_width": null,
            "object_fit": null,
            "object_position": null,
            "order": null,
            "overflow": null,
            "overflow_x": null,
            "overflow_y": null,
            "padding": null,
            "right": null,
            "top": null,
            "visibility": null,
            "width": null
          }
        },
        "05d5051074684a8ca8512caa50ff8aa5": {
          "model_module": "@jupyter-widgets/controls",
          "model_name": "DescriptionStyleModel",
          "model_module_version": "1.5.0",
          "state": {
            "_model_module": "@jupyter-widgets/controls",
            "_model_module_version": "1.5.0",
            "_model_name": "DescriptionStyleModel",
            "_view_count": null,
            "_view_module": "@jupyter-widgets/base",
            "_view_module_version": "1.2.0",
            "_view_name": "StyleView",
            "description_width": ""
          }
        },
        "80855fb531bf485083087ab7662de2c8": {
          "model_module": "@jupyter-widgets/controls",
          "model_name": "HBoxModel",
          "model_module_version": "1.5.0",
          "state": {
            "_dom_classes": [],
            "_model_module": "@jupyter-widgets/controls",
            "_model_module_version": "1.5.0",
            "_model_name": "HBoxModel",
            "_view_count": null,
            "_view_module": "@jupyter-widgets/controls",
            "_view_module_version": "1.5.0",
            "_view_name": "HBoxView",
            "box_style": "",
            "children": [
              "IPY_MODEL_f03de73a60c842589514b4afb1a12db0",
              "IPY_MODEL_d505506cd6074b598f2d1f5f1efcd1db",
              "IPY_MODEL_c655d11029564eedbe8ed28deb892196"
            ],
            "layout": "IPY_MODEL_b3cf43f347264facb24f5950a1fda989"
          }
        },
        "f03de73a60c842589514b4afb1a12db0": {
          "model_module": "@jupyter-widgets/controls",
          "model_name": "HTMLModel",
          "model_module_version": "1.5.0",
          "state": {
            "_dom_classes": [],
            "_model_module": "@jupyter-widgets/controls",
            "_model_module_version": "1.5.0",
            "_model_name": "HTMLModel",
            "_view_count": null,
            "_view_module": "@jupyter-widgets/controls",
            "_view_module_version": "1.5.0",
            "_view_name": "HTMLView",
            "description": "",
            "description_tooltip": null,
            "layout": "IPY_MODEL_1784a44cb8e545f98963006fa110f999",
            "placeholder": "​",
            "style": "IPY_MODEL_7796b2d48ba440f789af3cb17d436e23",
            "value": "Testing: "
          }
        },
        "d505506cd6074b598f2d1f5f1efcd1db": {
          "model_module": "@jupyter-widgets/controls",
          "model_name": "FloatProgressModel",
          "model_module_version": "1.5.0",
          "state": {
            "_dom_classes": [],
            "_model_module": "@jupyter-widgets/controls",
            "_model_module_version": "1.5.0",
            "_model_name": "FloatProgressModel",
            "_view_count": null,
            "_view_module": "@jupyter-widgets/controls",
            "_view_module_version": "1.5.0",
            "_view_name": "ProgressView",
            "bar_style": "success",
            "description": "",
            "description_tooltip": null,
            "layout": "IPY_MODEL_de5d58a6a1f846d090bffe6a93000a27",
            "max": 1,
            "min": 0,
            "orientation": "horizontal",
            "style": "IPY_MODEL_2aa2fb4d29fc4a37bd033fae2e77a33e",
            "value": 1
          }
        },
        "c655d11029564eedbe8ed28deb892196": {
          "model_module": "@jupyter-widgets/controls",
          "model_name": "HTMLModel",
          "model_module_version": "1.5.0",
          "state": {
            "_dom_classes": [],
            "_model_module": "@jupyter-widgets/controls",
            "_model_module_version": "1.5.0",
            "_model_name": "HTMLModel",
            "_view_count": null,
            "_view_module": "@jupyter-widgets/controls",
            "_view_module_version": "1.5.0",
            "_view_name": "HTMLView",
            "description": "",
            "description_tooltip": null,
            "layout": "IPY_MODEL_a27dcace6e3141b19fd3d9ad2f5dafdd",
            "placeholder": "​",
            "style": "IPY_MODEL_b31677d39d9141e5b23c9b323a5573d6",
            "value": " 20/? [01:56&lt;00:00,  5.82s/it]"
          }
        },
        "b3cf43f347264facb24f5950a1fda989": {
          "model_module": "@jupyter-widgets/base",
          "model_name": "LayoutModel",
          "model_module_version": "1.2.0",
          "state": {
            "_model_module": "@jupyter-widgets/base",
            "_model_module_version": "1.2.0",
            "_model_name": "LayoutModel",
            "_view_count": null,
            "_view_module": "@jupyter-widgets/base",
            "_view_module_version": "1.2.0",
            "_view_name": "LayoutView",
            "align_content": null,
            "align_items": null,
            "align_self": null,
            "border": null,
            "bottom": null,
            "display": "inline-flex",
            "flex": null,
            "flex_flow": "row wrap",
            "grid_area": null,
            "grid_auto_columns": null,
            "grid_auto_flow": null,
            "grid_auto_rows": null,
            "grid_column": null,
            "grid_gap": null,
            "grid_row": null,
            "grid_template_areas": null,
            "grid_template_columns": null,
            "grid_template_rows": null,
            "height": null,
            "justify_content": null,
            "justify_items": null,
            "left": null,
            "margin": null,
            "max_height": null,
            "max_width": null,
            "min_height": null,
            "min_width": null,
            "object_fit": null,
            "object_position": null,
            "order": null,
            "overflow": null,
            "overflow_x": null,
            "overflow_y": null,
            "padding": null,
            "right": null,
            "top": null,
            "visibility": null,
            "width": "100%"
          }
        },
        "1784a44cb8e545f98963006fa110f999": {
          "model_module": "@jupyter-widgets/base",
          "model_name": "LayoutModel",
          "model_module_version": "1.2.0",
          "state": {
            "_model_module": "@jupyter-widgets/base",
            "_model_module_version": "1.2.0",
            "_model_name": "LayoutModel",
            "_view_count": null,
            "_view_module": "@jupyter-widgets/base",
            "_view_module_version": "1.2.0",
            "_view_name": "LayoutView",
            "align_content": null,
            "align_items": null,
            "align_self": null,
            "border": null,
            "bottom": null,
            "display": null,
            "flex": null,
            "flex_flow": null,
            "grid_area": null,
            "grid_auto_columns": null,
            "grid_auto_flow": null,
            "grid_auto_rows": null,
            "grid_column": null,
            "grid_gap": null,
            "grid_row": null,
            "grid_template_areas": null,
            "grid_template_columns": null,
            "grid_template_rows": null,
            "height": null,
            "justify_content": null,
            "justify_items": null,
            "left": null,
            "margin": null,
            "max_height": null,
            "max_width": null,
            "min_height": null,
            "min_width": null,
            "object_fit": null,
            "object_position": null,
            "order": null,
            "overflow": null,
            "overflow_x": null,
            "overflow_y": null,
            "padding": null,
            "right": null,
            "top": null,
            "visibility": null,
            "width": null
          }
        },
        "7796b2d48ba440f789af3cb17d436e23": {
          "model_module": "@jupyter-widgets/controls",
          "model_name": "DescriptionStyleModel",
          "model_module_version": "1.5.0",
          "state": {
            "_model_module": "@jupyter-widgets/controls",
            "_model_module_version": "1.5.0",
            "_model_name": "DescriptionStyleModel",
            "_view_count": null,
            "_view_module": "@jupyter-widgets/base",
            "_view_module_version": "1.2.0",
            "_view_name": "StyleView",
            "description_width": ""
          }
        },
        "de5d58a6a1f846d090bffe6a93000a27": {
          "model_module": "@jupyter-widgets/base",
          "model_name": "LayoutModel",
          "model_module_version": "1.2.0",
          "state": {
            "_model_module": "@jupyter-widgets/base",
            "_model_module_version": "1.2.0",
            "_model_name": "LayoutModel",
            "_view_count": null,
            "_view_module": "@jupyter-widgets/base",
            "_view_module_version": "1.2.0",
            "_view_name": "LayoutView",
            "align_content": null,
            "align_items": null,
            "align_self": null,
            "border": null,
            "bottom": null,
            "display": null,
            "flex": "2",
            "flex_flow": null,
            "grid_area": null,
            "grid_auto_columns": null,
            "grid_auto_flow": null,
            "grid_auto_rows": null,
            "grid_column": null,
            "grid_gap": null,
            "grid_row": null,
            "grid_template_areas": null,
            "grid_template_columns": null,
            "grid_template_rows": null,
            "height": null,
            "justify_content": null,
            "justify_items": null,
            "left": null,
            "margin": null,
            "max_height": null,
            "max_width": null,
            "min_height": null,
            "min_width": null,
            "object_fit": null,
            "object_position": null,
            "order": null,
            "overflow": null,
            "overflow_x": null,
            "overflow_y": null,
            "padding": null,
            "right": null,
            "top": null,
            "visibility": null,
            "width": null
          }
        },
        "2aa2fb4d29fc4a37bd033fae2e77a33e": {
          "model_module": "@jupyter-widgets/controls",
          "model_name": "ProgressStyleModel",
          "model_module_version": "1.5.0",
          "state": {
            "_model_module": "@jupyter-widgets/controls",
            "_model_module_version": "1.5.0",
            "_model_name": "ProgressStyleModel",
            "_view_count": null,
            "_view_module": "@jupyter-widgets/base",
            "_view_module_version": "1.2.0",
            "_view_name": "StyleView",
            "bar_color": null,
            "description_width": ""
          }
        },
        "a27dcace6e3141b19fd3d9ad2f5dafdd": {
          "model_module": "@jupyter-widgets/base",
          "model_name": "LayoutModel",
          "model_module_version": "1.2.0",
          "state": {
            "_model_module": "@jupyter-widgets/base",
            "_model_module_version": "1.2.0",
            "_model_name": "LayoutModel",
            "_view_count": null,
            "_view_module": "@jupyter-widgets/base",
            "_view_module_version": "1.2.0",
            "_view_name": "LayoutView",
            "align_content": null,
            "align_items": null,
            "align_self": null,
            "border": null,
            "bottom": null,
            "display": null,
            "flex": null,
            "flex_flow": null,
            "grid_area": null,
            "grid_auto_columns": null,
            "grid_auto_flow": null,
            "grid_auto_rows": null,
            "grid_column": null,
            "grid_gap": null,
            "grid_row": null,
            "grid_template_areas": null,
            "grid_template_columns": null,
            "grid_template_rows": null,
            "height": null,
            "justify_content": null,
            "justify_items": null,
            "left": null,
            "margin": null,
            "max_height": null,
            "max_width": null,
            "min_height": null,
            "min_width": null,
            "object_fit": null,
            "object_position": null,
            "order": null,
            "overflow": null,
            "overflow_x": null,
            "overflow_y": null,
            "padding": null,
            "right": null,
            "top": null,
            "visibility": null,
            "width": null
          }
        },
        "b31677d39d9141e5b23c9b323a5573d6": {
          "model_module": "@jupyter-widgets/controls",
          "model_name": "DescriptionStyleModel",
          "model_module_version": "1.5.0",
          "state": {
            "_model_module": "@jupyter-widgets/controls",
            "_model_module_version": "1.5.0",
            "_model_name": "DescriptionStyleModel",
            "_view_count": null,
            "_view_module": "@jupyter-widgets/base",
            "_view_module_version": "1.2.0",
            "_view_name": "StyleView",
            "description_width": ""
          }
        },
        "48b245bb65da4e3383af922768594c0a": {
          "model_module": "@jupyter-widgets/controls",
          "model_name": "HBoxModel",
          "model_module_version": "1.5.0",
          "state": {
            "_dom_classes": [],
            "_model_module": "@jupyter-widgets/controls",
            "_model_module_version": "1.5.0",
            "_model_name": "HBoxModel",
            "_view_count": null,
            "_view_module": "@jupyter-widgets/controls",
            "_view_module_version": "1.5.0",
            "_view_name": "HBoxView",
            "box_style": "",
            "children": [
              "IPY_MODEL_a4e1a6e28b8d4ed6b26097e379ef9f77",
              "IPY_MODEL_bb24f57f3db84964826d96696e720996",
              "IPY_MODEL_a811ce0cfcd54408aac79d1617769219"
            ],
            "layout": "IPY_MODEL_b5e7a4bdc6ba4097b7de7d62ca98ec8c"
          }
        },
        "a4e1a6e28b8d4ed6b26097e379ef9f77": {
          "model_module": "@jupyter-widgets/controls",
          "model_name": "HTMLModel",
          "model_module_version": "1.5.0",
          "state": {
            "_dom_classes": [],
            "_model_module": "@jupyter-widgets/controls",
            "_model_module_version": "1.5.0",
            "_model_name": "HTMLModel",
            "_view_count": null,
            "_view_module": "@jupyter-widgets/controls",
            "_view_module_version": "1.5.0",
            "_view_name": "HTMLView",
            "description": "",
            "description_tooltip": null,
            "layout": "IPY_MODEL_630b5261760744af887c1c100dec1e15",
            "placeholder": "​",
            "style": "IPY_MODEL_cd1266e48b224662b98e0b19c0129bf5",
            "value": "100%"
          }
        },
        "bb24f57f3db84964826d96696e720996": {
          "model_module": "@jupyter-widgets/controls",
          "model_name": "FloatProgressModel",
          "model_module_version": "1.5.0",
          "state": {
            "_dom_classes": [],
            "_model_module": "@jupyter-widgets/controls",
            "_model_module_version": "1.5.0",
            "_model_name": "FloatProgressModel",
            "_view_count": null,
            "_view_module": "@jupyter-widgets/controls",
            "_view_module_version": "1.5.0",
            "_view_name": "ProgressView",
            "bar_style": "success",
            "description": "",
            "description_tooltip": null,
            "layout": "IPY_MODEL_ce46f68046b04dc09c721c75a0c7d7fc",
            "max": 34,
            "min": 0,
            "orientation": "horizontal",
            "style": "IPY_MODEL_5a25f9d10e93439ba2c46c6b34a88ead",
            "value": 34
          }
        },
        "a811ce0cfcd54408aac79d1617769219": {
          "model_module": "@jupyter-widgets/controls",
          "model_name": "HTMLModel",
          "model_module_version": "1.5.0",
          "state": {
            "_dom_classes": [],
            "_model_module": "@jupyter-widgets/controls",
            "_model_module_version": "1.5.0",
            "_model_name": "HTMLModel",
            "_view_count": null,
            "_view_module": "@jupyter-widgets/controls",
            "_view_module_version": "1.5.0",
            "_view_name": "HTMLView",
            "description": "",
            "description_tooltip": null,
            "layout": "IPY_MODEL_ebf1cec9cf174327873ff2286bd58405",
            "placeholder": "​",
            "style": "IPY_MODEL_d57023896dc04b438c0a2bcbce990989",
            "value": " 34/34 [01:35&lt;00:00,  2.76s/it]"
          }
        },
        "b5e7a4bdc6ba4097b7de7d62ca98ec8c": {
          "model_module": "@jupyter-widgets/base",
          "model_name": "LayoutModel",
          "model_module_version": "1.2.0",
          "state": {
            "_model_module": "@jupyter-widgets/base",
            "_model_module_version": "1.2.0",
            "_model_name": "LayoutModel",
            "_view_count": null,
            "_view_module": "@jupyter-widgets/base",
            "_view_module_version": "1.2.0",
            "_view_name": "LayoutView",
            "align_content": null,
            "align_items": null,
            "align_self": null,
            "border": null,
            "bottom": null,
            "display": null,
            "flex": null,
            "flex_flow": null,
            "grid_area": null,
            "grid_auto_columns": null,
            "grid_auto_flow": null,
            "grid_auto_rows": null,
            "grid_column": null,
            "grid_gap": null,
            "grid_row": null,
            "grid_template_areas": null,
            "grid_template_columns": null,
            "grid_template_rows": null,
            "height": null,
            "justify_content": null,
            "justify_items": null,
            "left": null,
            "margin": null,
            "max_height": null,
            "max_width": null,
            "min_height": null,
            "min_width": null,
            "object_fit": null,
            "object_position": null,
            "order": null,
            "overflow": null,
            "overflow_x": null,
            "overflow_y": null,
            "padding": null,
            "right": null,
            "top": null,
            "visibility": null,
            "width": null
          }
        },
        "630b5261760744af887c1c100dec1e15": {
          "model_module": "@jupyter-widgets/base",
          "model_name": "LayoutModel",
          "model_module_version": "1.2.0",
          "state": {
            "_model_module": "@jupyter-widgets/base",
            "_model_module_version": "1.2.0",
            "_model_name": "LayoutModel",
            "_view_count": null,
            "_view_module": "@jupyter-widgets/base",
            "_view_module_version": "1.2.0",
            "_view_name": "LayoutView",
            "align_content": null,
            "align_items": null,
            "align_self": null,
            "border": null,
            "bottom": null,
            "display": null,
            "flex": null,
            "flex_flow": null,
            "grid_area": null,
            "grid_auto_columns": null,
            "grid_auto_flow": null,
            "grid_auto_rows": null,
            "grid_column": null,
            "grid_gap": null,
            "grid_row": null,
            "grid_template_areas": null,
            "grid_template_columns": null,
            "grid_template_rows": null,
            "height": null,
            "justify_content": null,
            "justify_items": null,
            "left": null,
            "margin": null,
            "max_height": null,
            "max_width": null,
            "min_height": null,
            "min_width": null,
            "object_fit": null,
            "object_position": null,
            "order": null,
            "overflow": null,
            "overflow_x": null,
            "overflow_y": null,
            "padding": null,
            "right": null,
            "top": null,
            "visibility": null,
            "width": null
          }
        },
        "cd1266e48b224662b98e0b19c0129bf5": {
          "model_module": "@jupyter-widgets/controls",
          "model_name": "DescriptionStyleModel",
          "model_module_version": "1.5.0",
          "state": {
            "_model_module": "@jupyter-widgets/controls",
            "_model_module_version": "1.5.0",
            "_model_name": "DescriptionStyleModel",
            "_view_count": null,
            "_view_module": "@jupyter-widgets/base",
            "_view_module_version": "1.2.0",
            "_view_name": "StyleView",
            "description_width": ""
          }
        },
        "ce46f68046b04dc09c721c75a0c7d7fc": {
          "model_module": "@jupyter-widgets/base",
          "model_name": "LayoutModel",
          "model_module_version": "1.2.0",
          "state": {
            "_model_module": "@jupyter-widgets/base",
            "_model_module_version": "1.2.0",
            "_model_name": "LayoutModel",
            "_view_count": null,
            "_view_module": "@jupyter-widgets/base",
            "_view_module_version": "1.2.0",
            "_view_name": "LayoutView",
            "align_content": null,
            "align_items": null,
            "align_self": null,
            "border": null,
            "bottom": null,
            "display": null,
            "flex": null,
            "flex_flow": null,
            "grid_area": null,
            "grid_auto_columns": null,
            "grid_auto_flow": null,
            "grid_auto_rows": null,
            "grid_column": null,
            "grid_gap": null,
            "grid_row": null,
            "grid_template_areas": null,
            "grid_template_columns": null,
            "grid_template_rows": null,
            "height": null,
            "justify_content": null,
            "justify_items": null,
            "left": null,
            "margin": null,
            "max_height": null,
            "max_width": null,
            "min_height": null,
            "min_width": null,
            "object_fit": null,
            "object_position": null,
            "order": null,
            "overflow": null,
            "overflow_x": null,
            "overflow_y": null,
            "padding": null,
            "right": null,
            "top": null,
            "visibility": null,
            "width": null
          }
        },
        "5a25f9d10e93439ba2c46c6b34a88ead": {
          "model_module": "@jupyter-widgets/controls",
          "model_name": "ProgressStyleModel",
          "model_module_version": "1.5.0",
          "state": {
            "_model_module": "@jupyter-widgets/controls",
            "_model_module_version": "1.5.0",
            "_model_name": "ProgressStyleModel",
            "_view_count": null,
            "_view_module": "@jupyter-widgets/base",
            "_view_module_version": "1.2.0",
            "_view_name": "StyleView",
            "bar_color": null,
            "description_width": ""
          }
        },
        "ebf1cec9cf174327873ff2286bd58405": {
          "model_module": "@jupyter-widgets/base",
          "model_name": "LayoutModel",
          "model_module_version": "1.2.0",
          "state": {
            "_model_module": "@jupyter-widgets/base",
            "_model_module_version": "1.2.0",
            "_model_name": "LayoutModel",
            "_view_count": null,
            "_view_module": "@jupyter-widgets/base",
            "_view_module_version": "1.2.0",
            "_view_name": "LayoutView",
            "align_content": null,
            "align_items": null,
            "align_self": null,
            "border": null,
            "bottom": null,
            "display": null,
            "flex": null,
            "flex_flow": null,
            "grid_area": null,
            "grid_auto_columns": null,
            "grid_auto_flow": null,
            "grid_auto_rows": null,
            "grid_column": null,
            "grid_gap": null,
            "grid_row": null,
            "grid_template_areas": null,
            "grid_template_columns": null,
            "grid_template_rows": null,
            "height": null,
            "justify_content": null,
            "justify_items": null,
            "left": null,
            "margin": null,
            "max_height": null,
            "max_width": null,
            "min_height": null,
            "min_width": null,
            "object_fit": null,
            "object_position": null,
            "order": null,
            "overflow": null,
            "overflow_x": null,
            "overflow_y": null,
            "padding": null,
            "right": null,
            "top": null,
            "visibility": null,
            "width": null
          }
        },
        "d57023896dc04b438c0a2bcbce990989": {
          "model_module": "@jupyter-widgets/controls",
          "model_name": "DescriptionStyleModel",
          "model_module_version": "1.5.0",
          "state": {
            "_model_module": "@jupyter-widgets/controls",
            "_model_module_version": "1.5.0",
            "_model_name": "DescriptionStyleModel",
            "_view_count": null,
            "_view_module": "@jupyter-widgets/base",
            "_view_module_version": "1.2.0",
            "_view_name": "StyleView",
            "description_width": ""
          }
        }
      }
    }
  },
  "nbformat": 4,
  "nbformat_minor": 0
}